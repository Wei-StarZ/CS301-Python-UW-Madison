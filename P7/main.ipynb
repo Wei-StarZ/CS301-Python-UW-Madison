{
 "cells": [
  {
   "cell_type": "code",
   "execution_count": 1,
   "metadata": {},
   "outputs": [],
   "source": [
    "# Before you get started, please tell us who you are, putting your\n",
    "# Net ID and your partner's Net ID below (or none if your working solo)                                                                                                                                      \n",
    "#\n",
    "# project: p7\n",
    "# submitter: wxia9\n",
    "# partner: none"
   ]
  },
  {
   "cell_type": "code",
   "execution_count": 1,
   "metadata": {},
   "outputs": [],
   "source": [
    "import csv\n",
    "import json\n",
    "\n",
    "fifa_file = open('Fifa19.csv', encoding='utf-8')\n",
    "file_reader = csv.reader(fifa_file)\n",
    "player_data = list(file_reader)\n",
    "fifa_file.close()\n",
    "header = player_data[0]\n",
    "player_data = player_data[1:]\n",
    "for row in player_data:\n",
    "    for idx in [2,4]:\n",
    "        row[idx] = float(row[idx])"
   ]
  },
  {
   "cell_type": "code",
   "execution_count": 4,
   "metadata": {},
   "outputs": [
    {
     "ename": "AttributeError",
     "evalue": "'str' object has no attribute 'read'",
     "output_type": "error",
     "traceback": [
      "\u001b[1;31m---------------------------------------------------------------------------\u001b[0m",
      "\u001b[1;31mAttributeError\u001b[0m                            Traceback (most recent call last)",
      "\u001b[1;32m<ipython-input-4-529c706f4a64>\u001b[0m in \u001b[0;36m<module>\u001b[1;34m\u001b[0m\n\u001b[1;32m----> 1\u001b[1;33m \u001b[0mkkk\u001b[0m \u001b[1;33m=\u001b[0m \u001b[0mjson\u001b[0m\u001b[1;33m.\u001b[0m\u001b[0mload\u001b[0m\u001b[1;33m(\u001b[0m\u001b[1;34m\"kkk.json\"\u001b[0m\u001b[1;33m)\u001b[0m\u001b[1;33m;\u001b[0m\u001b[1;33m\u001b[0m\u001b[1;33m\u001b[0m\u001b[0m\n\u001b[0m",
      "\u001b[1;32mc:\\users\\wei\\appdata\\local\\programs\\python\\python37-32\\lib\\json\\__init__.py\u001b[0m in \u001b[0;36mload\u001b[1;34m(fp, cls, object_hook, parse_float, parse_int, parse_constant, object_pairs_hook, **kw)\u001b[0m\n\u001b[0;32m    291\u001b[0m     \u001b[0mkwarg\u001b[0m\u001b[1;33m;\u001b[0m \u001b[0motherwise\u001b[0m\u001b[0;31m \u001b[0m\u001b[0;31m`\u001b[0m\u001b[0;31m`\u001b[0m\u001b[0mJSONDecoder\u001b[0m\u001b[0;31m`\u001b[0m\u001b[0;31m`\u001b[0m \u001b[1;32mis\u001b[0m \u001b[0mused\u001b[0m\u001b[1;33m.\u001b[0m\u001b[1;33m\u001b[0m\u001b[1;33m\u001b[0m\u001b[0m\n\u001b[0;32m    292\u001b[0m     \"\"\"\n\u001b[1;32m--> 293\u001b[1;33m     return loads(fp.read(),\n\u001b[0m\u001b[0;32m    294\u001b[0m         \u001b[0mcls\u001b[0m\u001b[1;33m=\u001b[0m\u001b[0mcls\u001b[0m\u001b[1;33m,\u001b[0m \u001b[0mobject_hook\u001b[0m\u001b[1;33m=\u001b[0m\u001b[0mobject_hook\u001b[0m\u001b[1;33m,\u001b[0m\u001b[1;33m\u001b[0m\u001b[1;33m\u001b[0m\u001b[0m\n\u001b[0;32m    295\u001b[0m         \u001b[0mparse_float\u001b[0m\u001b[1;33m=\u001b[0m\u001b[0mparse_float\u001b[0m\u001b[1;33m,\u001b[0m \u001b[0mparse_int\u001b[0m\u001b[1;33m=\u001b[0m\u001b[0mparse_int\u001b[0m\u001b[1;33m,\u001b[0m\u001b[1;33m\u001b[0m\u001b[1;33m\u001b[0m\u001b[0m\n",
      "\u001b[1;31mAttributeError\u001b[0m: 'str' object has no attribute 'read'"
     ]
    }
   ],
   "source": [
    "kkk = json.load(\"kkk.json\");"
   ]
  },
  {
   "cell_type": "code",
   "execution_count": 3,
   "metadata": {},
   "outputs": [
    {
     "name": "stdout",
     "output_type": "stream",
     "text": [
      "['Id', 'Name', 'Age', 'Nationality', 'Overall', 'Club', 'Value', 'Wage', 'Preferred Foot', 'Jersey Number', 'Height', 'Weight']\n",
      "['158023', 'L. Messi', 31.0, 'Argentina', 94.0, 'FC Barcelona', '€110.5M', '€565K', 'Left', '10', \"5'7\", '159lbs']\n",
      "['20801', 'Cristiano Ronaldo', 33.0, 'Portugal', 94.0, 'Juventus', '€77M', '€405K', 'Right', '7', \"6'2\", '183lbs']\n",
      "['190871', 'Neymar Jr', 26.0, 'Brazil', 92.0, 'Paris Saint-Germain', '€118.5M', '€290K', 'Right', '10', \"5'9\", '150lbs']\n",
      "['193080', 'De Gea', 27.0, 'Spain', 91.0, 'Manchester United', '€72M', '€260K', 'Right', '1', \"6'4\", '168lbs']\n",
      "['192985', 'K. De Bruyne', 27.0, 'Belgium', 91.0, 'Manchester City', '€102M', '€355K', 'Right', '7', \"5'11\", '154lbs']\n"
     ]
    }
   ],
   "source": [
    "print(header)\n",
    "for row in player_data[:5]:\n",
    "    print(row)"
   ]
  },
  {
   "cell_type": "code",
   "execution_count": 4,
   "metadata": {},
   "outputs": [],
   "source": [
    "def translation(name):\n",
    "    lastChar = name[-1].lower()\n",
    "    num = float(name [:-1])\n",
    "    if (lastChar == \"m\") :\n",
    "        num = num * 1000000\n",
    "    elif (lastChar == \"k\") :\n",
    "        num = num * 1000\n",
    "    else:\n",
    "        num = num * 1000000000\n",
    "    return float(num)"
   ]
  },
  {
   "cell_type": "code",
   "execution_count": 5,
   "metadata": {},
   "outputs": [],
   "source": [
    "def get_column(col_name):\n",
    "    column = []\n",
    "    j = 0;\n",
    "    for i in range(len(header)):\n",
    "        if(col_name.lower() == header[i].lower()):\n",
    "            break\n",
    "    for row in player_data:\n",
    "        column.append(row[i])\n",
    "        j += 1\n",
    "    return column"
   ]
  },
  {
   "cell_type": "code",
   "execution_count": 6,
   "metadata": {},
   "outputs": [],
   "source": [
    "def player_count(country):\n",
    "    array = get_column(\"nationality\")\n",
    "    count = 0;\n",
    "    for i in range(len(array)):\n",
    "        if array[i].lower() == country.lower():\n",
    "            count += 1\n",
    "    return count"
   ]
  },
  {
   "cell_type": "code",
   "execution_count": 7,
   "metadata": {},
   "outputs": [],
   "source": [
    "def player_to_dict(id):\n",
    "    check = {}\n",
    "    for row in player_data:\n",
    "        if int(row[0]) == id:\n",
    "            for i in range(len(header)):\n",
    "                check.update({header[i]:row[i]})\n",
    "            break\n",
    "    return check"
   ]
  },
  {
   "cell_type": "code",
   "execution_count": 8,
   "metadata": {},
   "outputs": [],
   "source": [
    "def club_to_dict(clubs):\n",
    "    check = {}\n",
    "    for i in range (len(clubs)):\n",
    "        check.update({clubs[i]:0})\n",
    "    return check"
   ]
  },
  {
   "cell_type": "code",
   "execution_count": 9,
   "metadata": {},
   "outputs": [],
   "source": [
    "def players(Jnumber):\n",
    "    array = get_column('Jersey Number')\n",
    "    count = 0;\n",
    "    for i in range(len(array)):\n",
    "        if array[i].lower() == Jnumber.lower():\n",
    "            count += 1\n",
    "    return count"
   ]
  },
  {
   "cell_type": "code",
   "execution_count": 10,
   "metadata": {},
   "outputs": [],
   "source": [
    "def numClubs(Club):\n",
    "    array = get_column('Club')\n",
    "    count = 0;\n",
    "    for i in range(len(array)):\n",
    "        if array[i].lower() == Club.lower():\n",
    "            count += 1\n",
    "    return count"
   ]
  },
  {
   "cell_type": "code",
   "execution_count": 11,
   "metadata": {},
   "outputs": [
    {
     "data": {
      "text/plain": [
       "'O. Pérez'"
      ]
     },
     "execution_count": 11,
     "metadata": {},
     "output_type": "execute_result"
    }
   ],
   "source": [
    "#q1\n",
    "index = 0\n",
    "i = 0\n",
    "max = 0\n",
    "for row in player_data:\n",
    "    if(max <= row[2]):\n",
    "        max = row[2]\n",
    "        index = i\n",
    "    i += 1\n",
    "player_data[index][1]"
   ]
  },
  {
   "cell_type": "code",
   "execution_count": 12,
   "metadata": {
    "scrolled": false
   },
   "outputs": [
    {
     "data": {
      "text/plain": [
       "'L. Messi'"
      ]
     },
     "execution_count": 12,
     "metadata": {},
     "output_type": "execute_result"
    }
   ],
   "source": [
    "#q2\n",
    "index = 0\n",
    "i = len(player_data)-1\n",
    "max = 0\n",
    "for row in reversed(player_data):\n",
    "    if(row[7][-1] == '0'):\n",
    "        i -= 1\n",
    "        continue\n",
    "    wage = translation(row[7][1:])\n",
    "    if(wage >= max):\n",
    "        max = wage\n",
    "        index = i\n",
    "    i -= 1\n",
    "player_data[index][1]"
   ]
  },
  {
   "cell_type": "code",
   "execution_count": 13,
   "metadata": {},
   "outputs": [
    {
     "data": {
      "text/plain": [
       "'Neymar Jr'"
      ]
     },
     "execution_count": 13,
     "metadata": {},
     "output_type": "execute_result"
    }
   ],
   "source": [
    "#q3\n",
    "index = 0\n",
    "i = 0\n",
    "max = 0\n",
    "for row in player_data:\n",
    "    if(row[6][-1] == '0'):\n",
    "        continue\n",
    "    value = translation(row[6][1:])\n",
    "    if(value >= max):\n",
    "        max = value\n",
    "        index = i\n",
    "    i += 1\n",
    "player_data[index][1]"
   ]
  },
  {
   "cell_type": "code",
   "execution_count": 14,
   "metadata": {},
   "outputs": [
    {
     "data": {
      "text/plain": [
       "'Paris Saint-Germain'"
      ]
     },
     "execution_count": 14,
     "metadata": {},
     "output_type": "execute_result"
    }
   ],
   "source": [
    "#q4\n",
    "player_data[index][5]"
   ]
  },
  {
   "cell_type": "code",
   "execution_count": 15,
   "metadata": {},
   "outputs": [
    {
     "data": {
      "text/plain": [
       "['Argentina', 'Portugal', 'Brazil', 'Spain', 'Belgium']"
      ]
     },
     "execution_count": 15,
     "metadata": {},
     "output_type": "execute_result"
    }
   ],
   "source": [
    "#q5\n",
    "array = get_column(\"nationality\")\n",
    "array[:5]"
   ]
  },
  {
   "cell_type": "code",
   "execution_count": 16,
   "metadata": {},
   "outputs": [
    {
     "data": {
      "text/plain": [
       "['A. Abang', 'A. Abdellaoui', 'A. Abdennour', 'A. Abdi', 'A. Abdu Jaber']"
      ]
     },
     "execution_count": 16,
     "metadata": {},
     "output_type": "execute_result"
    }
   ],
   "source": [
    "#q6\n",
    "array = get_column(\"name\")\n",
    "sorted(array)[0:5]"
   ]
  },
  {
   "cell_type": "code",
   "execution_count": 17,
   "metadata": {},
   "outputs": [
    {
     "data": {
      "text/plain": [
       "2410695.8861976163"
      ]
     },
     "execution_count": 17,
     "metadata": {},
     "output_type": "execute_result"
    }
   ],
   "source": [
    "#q7\n",
    "array = get_column(\"value\")\n",
    "total = 0;\n",
    "for i in range(len(array)):\n",
    "    if array[i][-1] == '0':\n",
    "        continue\n",
    "    total += translation(array[i][1:])\n",
    "total/len(array)"
   ]
  },
  {
   "cell_type": "code",
   "execution_count": 18,
   "metadata": {},
   "outputs": [
    {
     "data": {
      "text/plain": [
       "25.122205745043114"
      ]
     },
     "execution_count": 18,
     "metadata": {},
     "output_type": "execute_result"
    }
   ],
   "source": [
    "#q8\n",
    "array = get_column(\"age\")\n",
    "total = 0;\n",
    "for i in range(len(array)):\n",
    "    total += array[i]\n",
    "total/len(array)"
   ]
  },
  {
   "cell_type": "code",
   "execution_count": 19,
   "metadata": {},
   "outputs": [
    {
     "data": {
      "text/plain": [
       "322"
      ]
     },
     "execution_count": 19,
     "metadata": {},
     "output_type": "execute_result"
    }
   ],
   "source": [
    "#q9\n",
    "player_count(\"Portugal\")"
   ]
  },
  {
   "cell_type": "code",
   "execution_count": 20,
   "metadata": {},
   "outputs": [
    {
     "data": {
      "text/plain": [
       "827"
      ]
     },
     "execution_count": 20,
     "metadata": {},
     "output_type": "execute_result"
    }
   ],
   "source": [
    "#q10\n",
    "player_count(\"Brazil\")"
   ]
  },
  {
   "cell_type": "code",
   "execution_count": 21,
   "metadata": {},
   "outputs": [
    {
     "data": {
      "text/plain": [
       "'England'"
      ]
     },
     "execution_count": 21,
     "metadata": {},
     "output_type": "execute_result"
    }
   ],
   "source": [
    "#q11\n",
    "AllCountry = set(get_column(\"nationality\"))\n",
    "max = 0;\n",
    "index = 0;\n",
    "for i in range(len(AllCountry)):\n",
    "    current = player_count(list(AllCountry)[i])\n",
    "    if current > max:\n",
    "        max = current\n",
    "        index = i;\n",
    "list(AllCountry)[index]"
   ]
  },
  {
   "cell_type": "code",
   "execution_count": 22,
   "metadata": {},
   "outputs": [
    {
     "data": {
      "text/plain": [
       "{'Id': '20801',\n",
       " 'Name': 'Cristiano Ronaldo',\n",
       " 'Age': 33.0,\n",
       " 'Nationality': 'Portugal',\n",
       " 'Overall': 94.0,\n",
       " 'Club': 'Juventus',\n",
       " 'Value': '€77M',\n",
       " 'Wage': '€405K',\n",
       " 'Preferred Foot': 'Right',\n",
       " 'Jersey Number': '7',\n",
       " 'Height': \"6'2\",\n",
       " 'Weight': '183lbs'}"
      ]
     },
     "execution_count": 22,
     "metadata": {},
     "output_type": "execute_result"
    }
   ],
   "source": [
    "#q12\n",
    "result = player_to_dict(20801)\n",
    "result"
   ]
  },
  {
   "cell_type": "code",
   "execution_count": 23,
   "metadata": {
    "scrolled": true
   },
   "outputs": [
    {
     "data": {
      "text/plain": [
       "{'Id': '190871',\n",
       " 'Name': 'Neymar Jr',\n",
       " 'Age': 26.0,\n",
       " 'Nationality': 'Brazil',\n",
       " 'Overall': 92.0,\n",
       " 'Club': 'Paris Saint-Germain',\n",
       " 'Value': '€118.5M',\n",
       " 'Wage': '€290K',\n",
       " 'Preferred Foot': 'Right',\n",
       " 'Jersey Number': '10',\n",
       " 'Height': \"5'9\",\n",
       " 'Weight': '150lbs'}"
      ]
     },
     "execution_count": 23,
     "metadata": {},
     "output_type": "execute_result"
    }
   ],
   "source": [
    "#q13\n",
    "result = player_to_dict(190871)\n",
    "result"
   ]
  },
  {
   "cell_type": "code",
   "execution_count": 24,
   "metadata": {},
   "outputs": [
    {
     "data": {
      "text/plain": [
       "{'Id': '158023',\n",
       " 'Name': 'L. Messi',\n",
       " 'Age': 31.0,\n",
       " 'Nationality': 'Argentina',\n",
       " 'Overall': 94.0,\n",
       " 'Club': 'FC Barcelona',\n",
       " 'Value': '€110.5M',\n",
       " 'Wage': '€565K',\n",
       " 'Preferred Foot': 'Left',\n",
       " 'Jersey Number': '10',\n",
       " 'Height': \"5'7\",\n",
       " 'Weight': '159lbs'}"
      ]
     },
     "execution_count": 24,
     "metadata": {},
     "output_type": "execute_result"
    }
   ],
   "source": [
    "#q14\n",
    "result = player_to_dict(158023)\n",
    "result"
   ]
  },
  {
   "cell_type": "code",
   "execution_count": 25,
   "metadata": {},
   "outputs": [
    {
     "data": {
      "text/plain": [
       "{'Id': '192985',\n",
       " 'Name': 'K. De Bruyne',\n",
       " 'Age': 27.0,\n",
       " 'Nationality': 'Belgium',\n",
       " 'Overall': 91.0,\n",
       " 'Club': 'Manchester City',\n",
       " 'Value': '€102M',\n",
       " 'Wage': '€355K',\n",
       " 'Preferred Foot': 'Right',\n",
       " 'Jersey Number': '7',\n",
       " 'Height': \"5'11\",\n",
       " 'Weight': '154lbs'}"
      ]
     },
     "execution_count": 25,
     "metadata": {},
     "output_type": "execute_result"
    }
   ],
   "source": [
    "#q15\n",
    "result = player_to_dict(192985)\n",
    "result"
   ]
  },
  {
   "cell_type": "code",
   "execution_count": 26,
   "metadata": {},
   "outputs": [
    {
     "data": {
      "text/plain": [
       "{'Niger': 3,\n",
       " 'Paraguay': 85,\n",
       " 'Sierra Leone': 6,\n",
       " 'Ghana': 114,\n",
       " 'Iceland': 47,\n",
       " 'Jamaica': 32,\n",
       " 'Gambia': 15,\n",
       " 'Burkina Faso': 16,\n",
       " 'United Arab Emirates': 1,\n",
       " 'Albania': 40,\n",
       " 'St Lucia': 1,\n",
       " 'Uzbekistan': 2,\n",
       " 'São Tomé & Príncipe': 1,\n",
       " 'Turkey': 303,\n",
       " 'Korea DPR': 4,\n",
       " 'Libya': 4,\n",
       " 'Japan': 478,\n",
       " 'Republic of Ireland': 368,\n",
       " 'Eritrea': 2,\n",
       " 'Montserrat': 4,\n",
       " 'Serbia': 126,\n",
       " 'Egypt': 31,\n",
       " 'Netherlands': 453,\n",
       " 'Cape Verde': 19,\n",
       " 'Colombia': 618,\n",
       " 'Kuwait': 1,\n",
       " 'Hungary': 38,\n",
       " 'Canada': 64,\n",
       " 'Guinea Bissau': 15,\n",
       " 'Grenada': 1,\n",
       " 'Argentina': 937,\n",
       " 'Bermuda': 2,\n",
       " 'Tanzania': 3,\n",
       " 'Finland': 67,\n",
       " 'Bulgaria': 32,\n",
       " 'Iran': 17,\n",
       " 'Norway': 341,\n",
       " 'Azerbaijan': 5,\n",
       " 'Portugal': 322,\n",
       " 'Georgia': 26,\n",
       " 'Senegal': 130,\n",
       " 'Trinidad & Tobago': 4,\n",
       " 'Afghanistan': 4,\n",
       " 'Angola': 15,\n",
       " 'Bolivia': 30,\n",
       " 'Haiti': 10,\n",
       " 'Equatorial Guinea': 5,\n",
       " 'Honduras': 16,\n",
       " 'South Sudan': 1,\n",
       " 'Iraq': 7,\n",
       " 'Brazil': 827,\n",
       " 'Greece': 102,\n",
       " 'Sweden': 397,\n",
       " 'Mali': 43,\n",
       " 'Kazakhstan': 4,\n",
       " 'Palestine': 1,\n",
       " 'Dominican Republic': 2,\n",
       " 'Liechtenstein': 3,\n",
       " 'Latvia': 6,\n",
       " 'Liberia': 1,\n",
       " 'Belarus': 4,\n",
       " 'Rwanda': 1,\n",
       " 'Morocco': 85,\n",
       " 'Venezuela': 67,\n",
       " 'Botswana': 1,\n",
       " 'Mexico': 366,\n",
       " 'Russia': 79,\n",
       " 'Algeria': 60,\n",
       " 'Cuba': 4,\n",
       " 'Barbados': 3,\n",
       " 'Puerto Rico': 1,\n",
       " 'Nicaragua': 2,\n",
       " 'Qatar': 1,\n",
       " 'New Caledonia': 1,\n",
       " 'United States': 353,\n",
       " 'Croatia': 126,\n",
       " 'Peru': 37,\n",
       " 'Chad': 2,\n",
       " 'India': 30,\n",
       " 'Uganda': 6,\n",
       " 'Guyana': 3,\n",
       " 'Comoros': 6,\n",
       " 'Uruguay': 149,\n",
       " 'Syria': 9,\n",
       " 'Guatemala': 3,\n",
       " 'Sudan': 3,\n",
       " 'Panama': 15,\n",
       " 'New Zealand': 44,\n",
       " 'Bosnia Herzegovina': 61,\n",
       " 'Germany': 1198,\n",
       " 'Indonesia': 1,\n",
       " 'Poland': 350,\n",
       " 'Wales': 129,\n",
       " 'Togo': 12,\n",
       " 'Gabon': 15,\n",
       " 'Fiji': 1,\n",
       " 'Spain': 1072,\n",
       " 'Luxembourg': 8,\n",
       " 'Moldova': 5,\n",
       " 'Czech Republic': 100,\n",
       " 'Slovakia': 54,\n",
       " 'Israel': 14,\n",
       " 'Benin': 15,\n",
       " 'Oman': 1,\n",
       " 'FYR Macedonia': 20,\n",
       " 'DR Congo': 52,\n",
       " 'Costa Rica': 30,\n",
       " 'Thailand': 5,\n",
       " 'Congo': 25,\n",
       " 'Ethiopia': 1,\n",
       " 'Mauritius': 1,\n",
       " 'Northern Ireland': 80,\n",
       " 'Suriname': 4,\n",
       " 'Austria': 298,\n",
       " 'Zimbabwe': 13,\n",
       " 'Chile': 391,\n",
       " 'Lebanon': 1,\n",
       " 'Switzerland': 220,\n",
       " 'Faroe Islands': 6,\n",
       " 'Mozambique': 4,\n",
       " 'Andorra': 1,\n",
       " 'Slovenia': 55,\n",
       " 'South Africa': 71,\n",
       " 'Montenegro': 23,\n",
       " 'Scotland': 286,\n",
       " 'Namibia': 3,\n",
       " 'Kenya': 10,\n",
       " 'Lithuania': 8,\n",
       " 'Zambia': 9,\n",
       " 'Curacao': 14,\n",
       " 'Korea Republic': 335,\n",
       " 'Madagascar': 12,\n",
       " 'Saudi Arabia': 340,\n",
       " 'Ivory Coast': 100,\n",
       " 'Cameroon': 90,\n",
       " 'Antigua & Barbuda': 4,\n",
       " 'Nigeria': 121,\n",
       " 'Ecuador': 43,\n",
       " 'Kosovo': 33,\n",
       " 'Guam': 1,\n",
       " 'Belgium': 260,\n",
       " 'Hong Kong': 2,\n",
       " 'Cyprus': 8,\n",
       " 'Tunisia': 32,\n",
       " 'Denmark': 336,\n",
       " 'France': 914,\n",
       " 'Australia': 236,\n",
       " 'China PR': 392,\n",
       " 'Malta': 1,\n",
       " 'Estonia': 13,\n",
       " 'Jordan': 1,\n",
       " 'St Kitts Nevis': 3,\n",
       " 'Guinea': 31,\n",
       " 'Romania': 54,\n",
       " 'Ukraine': 73,\n",
       " 'Italy': 702,\n",
       " 'Central African Rep.': 3,\n",
       " 'Philippines': 2,\n",
       " 'England': 1662,\n",
       " 'Armenia': 10,\n",
       " 'Burundi': 3,\n",
       " 'El Salvador': 5,\n",
       " 'Mauritania': 4,\n",
       " 'Belize': 1}"
      ]
     },
     "execution_count": 26,
     "metadata": {},
     "output_type": "execute_result"
    }
   ],
   "source": [
    "#q16\n",
    "result = {}\n",
    "AllCountry = set(get_column(\"nationality\"))\n",
    "for i in range(len(AllCountry)):\n",
    "    count = player_count(list(AllCountry)[i])\n",
    "    result.update({list(AllCountry)[i]:count})\n",
    "result"
   ]
  },
  {
   "cell_type": "code",
   "execution_count": 27,
   "metadata": {},
   "outputs": [
    {
     "data": {
      "text/plain": [
       "{'': 60,\n",
       " '41': 53,\n",
       " '51': 7,\n",
       " '44': 74,\n",
       " '60': 10,\n",
       " '79': 2,\n",
       " '84': 4,\n",
       " '10': 593,\n",
       " '72': 7,\n",
       " '53': 11,\n",
       " '24': 425,\n",
       " '13': 419,\n",
       " '14': 542,\n",
       " '42': 54,\n",
       " '97': 16,\n",
       " '64': 2,\n",
       " '50': 42,\n",
       " '59': 5,\n",
       " '15': 501,\n",
       " '82': 5,\n",
       " '40': 114,\n",
       " '46': 29,\n",
       " '31': 280,\n",
       " '6': 586,\n",
       " '88': 44,\n",
       " '29': 358,\n",
       " '52': 10,\n",
       " '87': 14,\n",
       " '12': 390,\n",
       " '43': 41,\n",
       " '11': 590,\n",
       " '92': 10,\n",
       " '63': 4,\n",
       " '9': 577,\n",
       " '86': 4,\n",
       " '33': 287,\n",
       " '96': 13,\n",
       " '25': 409,\n",
       " '45': 47,\n",
       " '95': 12,\n",
       " '85': 1,\n",
       " '68': 4,\n",
       " '99': 70,\n",
       " '23': 546,\n",
       " '4': 573,\n",
       " '18': 545,\n",
       " '91': 21,\n",
       " '70': 29,\n",
       " '39': 107,\n",
       " '5': 579,\n",
       " '7': 604,\n",
       " '61': 7,\n",
       " '71': 10,\n",
       " '1': 566,\n",
       " '8': 612,\n",
       " '55': 35,\n",
       " '77': 77,\n",
       " '89': 15,\n",
       " '19': 545,\n",
       " '75': 6,\n",
       " '26': 390,\n",
       " '81': 5,\n",
       " '56': 17,\n",
       " '48': 17,\n",
       " '38': 102,\n",
       " '58': 5,\n",
       " '3': 547,\n",
       " '21': 536,\n",
       " '57': 8,\n",
       " '54': 11,\n",
       " '65': 4,\n",
       " '28': 357,\n",
       " '49': 19,\n",
       " '94': 11,\n",
       " '67': 5,\n",
       " '73': 6,\n",
       " '93': 14,\n",
       " '69': 6,\n",
       " '2': 519,\n",
       " '22': 531,\n",
       " '74': 2,\n",
       " '37': 135,\n",
       " '30': 371,\n",
       " '47': 28,\n",
       " '27': 423,\n",
       " '35': 183,\n",
       " '34': 207,\n",
       " '62': 6,\n",
       " '98': 21,\n",
       " '76': 4,\n",
       " '83': 6,\n",
       " '36': 145,\n",
       " '17': 554,\n",
       " '90': 26,\n",
       " '32': 250,\n",
       " '20': 568,\n",
       " '80': 16,\n",
       " '78': 5,\n",
       " '66': 27,\n",
       " '16': 517}"
      ]
     },
     "execution_count": 27,
     "metadata": {},
     "output_type": "execute_result"
    }
   ],
   "source": [
    "#q17\n",
    "result = {}\n",
    "AllJersey = set(get_column(\"Jersey Number\"))\n",
    "for i in range(len(AllJersey)):\n",
    "    count = players(list(AllJersey)[i])\n",
    "    result.update({list(AllJersey)[i]:count})\n",
    "result"
   ]
  },
  {
   "cell_type": "code",
   "execution_count": 28,
   "metadata": {},
   "outputs": [
    {
     "data": {
      "text/plain": [
       "{'': 61.63333333333333,\n",
       " '41': 61.37735849056604,\n",
       " '51': 58.0,\n",
       " '44': 64.70270270270271,\n",
       " '60': 64.1,\n",
       " '79': 71.5,\n",
       " '84': 63.75,\n",
       " '10': 70.38617200674537,\n",
       " '72': 65.0,\n",
       " '53': 62.45454545454545,\n",
       " '24': 64.65411764705883,\n",
       " '13': 66.90214797136038,\n",
       " '14': 66.9870848708487,\n",
       " '42': 62.5,\n",
       " '97': 62.4375,\n",
       " '64': 62.5,\n",
       " '50': 62.30952380952381,\n",
       " '59': 57.2,\n",
       " '15': 66.53493013972056,\n",
       " '82': 59.8,\n",
       " '40': 61.51754385964912,\n",
       " '46': 60.206896551724135,\n",
       " '31': 63.06785714285714,\n",
       " '6': 68.19283276450511,\n",
       " '88': 66.5,\n",
       " '29': 63.92178770949721,\n",
       " '52': 61.8,\n",
       " '87': 68.35714285714286,\n",
       " '12': 65.43076923076923,\n",
       " '43': 60.048780487804876,\n",
       " '11': 68.3406779661017,\n",
       " '92': 68.9,\n",
       " '63': 69.0,\n",
       " '9': 69.28769497400347,\n",
       " '86': 64.0,\n",
       " '33': 63.29965156794425,\n",
       " '96': 64.53846153846153,\n",
       " '25': 64.59413202933985,\n",
       " '45': 62.0,\n",
       " '95': 65.25,\n",
       " '85': 57.0,\n",
       " '68': 67.0,\n",
       " '99': 64.35714285714286,\n",
       " '23': 66.46886446886447,\n",
       " '4': 67.76614310645724,\n",
       " '18': 66.45688073394496,\n",
       " '91': 66.76190476190476,\n",
       " '70': 64.72413793103448,\n",
       " '39': 62.52336448598131,\n",
       " '5': 68.49740932642487,\n",
       " '7': 68.87251655629139,\n",
       " '61': 61.57142857142857,\n",
       " '71': 64.5,\n",
       " '1': 68.35689045936395,\n",
       " '8': 68.83006535947712,\n",
       " '55': 63.0,\n",
       " '77': 66.1038961038961,\n",
       " '89': 65.4,\n",
       " '19': 66.63669724770642,\n",
       " '75': 66.5,\n",
       " '26': 64.04358974358975,\n",
       " '81': 65.0,\n",
       " '56': 65.11764705882354,\n",
       " '48': 61.470588235294116,\n",
       " '38': 61.77450980392157,\n",
       " '58': 62.8,\n",
       " '3': 67.38939670932358,\n",
       " '21': 66.2723880597015,\n",
       " '57': 68.125,\n",
       " '54': 61.0,\n",
       " '65': 58.5,\n",
       " '28': 63.943977591036415,\n",
       " '49': 59.68421052631579,\n",
       " '94': 66.72727272727273,\n",
       " '67': 64.6,\n",
       " '73': 64.33333333333333,\n",
       " '93': 67.28571428571429,\n",
       " '69': 68.66666666666667,\n",
       " '2': 67.58766859344894,\n",
       " '22': 66.31638418079096,\n",
       " '74': 67.5,\n",
       " '37': 61.785185185185185,\n",
       " '30': 63.1644204851752,\n",
       " '47': 63.57142857142857,\n",
       " '27': 64.36170212765957,\n",
       " '35': 60.92896174863388,\n",
       " '34': 62.072463768115945,\n",
       " '62': 62.0,\n",
       " '98': 60.904761904761905,\n",
       " '76': 68.0,\n",
       " '83': 67.66666666666667,\n",
       " '36': 60.5448275862069,\n",
       " '17': 66.9115523465704,\n",
       " '90': 65.61538461538461,\n",
       " '32': 62.152,\n",
       " '20': 66.7306338028169,\n",
       " '80': 63.4375,\n",
       " '78': 65.6,\n",
       " '66': 63.77777777777778,\n",
       " '16': 66.08510638297872}"
      ]
     },
     "execution_count": 28,
     "metadata": {},
     "output_type": "execute_result"
    }
   ],
   "source": [
    "#q18\n",
    "result = {}\n",
    "count = 0;\n",
    "AllJersey = set(get_column(\"Jersey Number\"))\n",
    "for i in range(len(AllJersey)):\n",
    "    total = 0\n",
    "    count = 0\n",
    "    for row in player_data:\n",
    "        if row[-3] == list(AllJersey)[i]:\n",
    "            total += row[4]\n",
    "    count = players(list(AllJersey)[i])\n",
    "    result.update({list(AllJersey)[i]:total/count})\n",
    "result"
   ]
  },
  {
   "cell_type": "code",
   "execution_count": 29,
   "metadata": {},
   "outputs": [
    {
     "data": {
      "text/plain": [
       "'79'"
      ]
     },
     "execution_count": 29,
     "metadata": {},
     "output_type": "execute_result"
    }
   ],
   "source": [
    "#q19\n",
    "max = 0\n",
    "for key in result:\n",
    "    if result[key] > max:\n",
    "        max = result[key]\n",
    "        final = key\n",
    "final"
   ]
  },
  {
   "cell_type": "code",
   "execution_count": 30,
   "metadata": {},
   "outputs": [
    {
     "data": {
      "text/plain": [
       "'Real Madrid'"
      ]
     },
     "execution_count": 30,
     "metadata": {},
     "output_type": "execute_result"
    }
   ],
   "source": [
    "#q20\n",
    "result = {}\n",
    "count = 0\n",
    "max = 0\n",
    "AllClub = set(get_column(\"Club\"))\n",
    "clubDict = club_to_dict(list(AllClub))\n",
    "for row in player_data:\n",
    "    current = clubDict[row[5]]\n",
    "    if(row[7][-1] == '0'):\n",
    "        continue\n",
    "    updated = translation(row[7][1:])\n",
    "    clubDict.update({row[5]:current + updated})\n",
    "for key in clubDict:\n",
    "    count = numClubs(key)\n",
    "    clubDict.update({key:clubDict[key]/count})\n",
    "for key in clubDict:\n",
    "    if clubDict[key] >= max:\n",
    "        max = clubDict[key]\n",
    "        Index = key\n",
    "Index"
   ]
  }
 ],
 "metadata": {
  "kernelspec": {
   "display_name": "Python 3",
   "language": "python",
   "name": "python3"
  },
  "language_info": {
   "codemirror_mode": {
    "name": "ipython",
    "version": 3
   },
   "file_extension": ".py",
   "mimetype": "text/x-python",
   "name": "python",
   "nbconvert_exporter": "python",
   "pygments_lexer": "ipython3",
   "version": "3.7.4"
  }
 },
 "nbformat": 4,
 "nbformat_minor": 2
}
