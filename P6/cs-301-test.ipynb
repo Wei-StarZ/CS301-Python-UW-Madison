{
 "cells": [
  {
   "cell_type": "code",
   "execution_count": 1,
   "metadata": {},
   "outputs": [],
   "source": [
    "                                                                                                                                                                                                 \n",
    "# Before you get started, please tell us who you are, putting your\n",
    "# Net ID and your partner's Net ID below (or none if your working solo)                                                                                                                                      \n",
    "#\n",
    "# project: p6\n",
    "# submitter: wxia9\n",
    "# partner: none"
   ]
  },
  {
   "cell_type": "code",
   "execution_count": 2,
   "metadata": {},
   "outputs": [],
   "source": [
    "import csv\n",
    "\n",
    "# copied from https://automatetheboringstuff.com/chapter14/\n",
    "def process_csv(filename):\n",
    "    exampleFile = open(filename, encoding=\"utf-8\")\n",
    "    exampleReader = csv.reader(exampleFile)\n",
    "    exampleData = list(exampleReader)\n",
    "    exampleFile.close()\n",
    "    return exampleData\n",
    "\n",
    "# use process_csv to pull out the header and data rows\n",
    "csv_rows = process_csv(\"wine.csv\")\n",
    "csv_header = csv_rows[0]\n",
    "csv_data = csv_rows[1:]"
   ]
  },
  {
   "cell_type": "code",
   "execution_count": 3,
   "metadata": {},
   "outputs": [],
   "source": [
    "def varierty(name):\n",
    "    r = []\n",
    "    name = name.lower()\n",
    "    for i in range(len(csv_data)):\n",
    "        if(csv_data[i][5].lower().find(name) >= 0):\n",
    "            r.append(csv_data[i][3])\n",
    "    nameList = list(set(r))\n",
    "    return nameList"
   ]
  },
  {
   "cell_type": "code",
   "execution_count": 4,
   "metadata": {},
   "outputs": [],
   "source": [
    "def anagram(name):\n",
    "    name = name.lower()\n",
    "    r = []\n",
    "    for i in range(len(csv_data)):\n",
    "        if(sorted(csv_data[i][3].lower().replace(\" \",\"\")) == sorted(name)):\n",
    "            r.append(csv_data[i][3])\n",
    "    return list(set(r))"
   ]
  },
  {
   "cell_type": "code",
   "execution_count": 5,
   "metadata": {},
   "outputs": [],
   "source": [
    "def avgPPD(name):\n",
    "    count = 0;\n",
    "    total = 0;\n",
    "    for i in range(len(csv_data)):\n",
    "        if(csv_data[i][4].lower() == name.lower() and csv_data[i][1] != '' and csv_data[i][2] != ''):\n",
    "            count += 1\n",
    "            total += float(csv_data[i][1])/float(csv_data[i][2])\n",
    "    return total/count"
   ]
  },
  {
   "cell_type": "code",
   "execution_count": 6,
   "metadata": {},
   "outputs": [],
   "source": [
    "def lowestPPD(name):\n",
    "    r = []\n",
    "    current = 100000000\n",
    "    for i in range(len(csv_data)):\n",
    "        if(csv_data[i][0] == name):\n",
    "            receiver = avgPPD(csv_data[i][4])\n",
    "            if(current > receiver):\n",
    "                current = receiver\n",
    "    for i in range(len(csv_data)):\n",
    "        if(csv_data[i][0] == name):\n",
    "            receiver = avgPPD(csv_data[i][4])\n",
    "            if(receiver == current):\n",
    "                r.append(csv_data[i][4])\n",
    "    r = list(set(r))\n",
    "    if(len(r) == 1):\n",
    "        return r[0]\n",
    "    else:\n",
    "        return r"
   ]
  },
  {
   "cell_type": "code",
   "execution_count": 7,
   "metadata": {},
   "outputs": [],
   "source": [
    "def winery(name):\n",
    "    r = []\n",
    "    for i in range(len(csv_data)):\n",
    "        if(csv_data[i][4] == name):\n",
    "            r.append(csv_data[i][3])\n",
    "    r = list(set(r))\n",
    "    return r"
   ]
  },
  {
   "cell_type": "code",
   "execution_count": 8,
   "metadata": {},
   "outputs": [
    {
     "data": {
      "text/plain": [
       "['Greece',\n",
       " 'Argentina',\n",
       " 'Germany',\n",
       " 'Austria',\n",
       " 'India',\n",
       " 'Hungary',\n",
       " 'US',\n",
       " 'Bulgaria',\n",
       " 'Canada',\n",
       " 'Spain',\n",
       " 'Slovenia',\n",
       " 'Moldova',\n",
       " 'Italy',\n",
       " 'New Zealand',\n",
       " 'Morocco',\n",
       " 'Chile',\n",
       " 'Croatia',\n",
       " 'Portugal',\n",
       " 'Romania',\n",
       " 'Australia',\n",
       " 'France',\n",
       " 'South Africa',\n",
       " 'Israel']"
      ]
     },
     "execution_count": 8,
     "metadata": {},
     "output_type": "execute_result"
    }
   ],
   "source": [
    "#q1\n",
    "f = []\n",
    "for i in range(len(csv_data)):\n",
    "    if (csv_data[i][0] != ''):\n",
    "            f.append(csv_data[i][0])\n",
    "country = list(set(f))\n",
    "country"
   ]
  },
  {
   "cell_type": "code",
   "execution_count": 9,
   "metadata": {},
   "outputs": [
    {
     "data": {
      "text/plain": [
       "89.65489673550967"
      ]
     },
     "execution_count": 9,
     "metadata": {},
     "output_type": "execute_result"
    }
   ],
   "source": [
    "#q2\n",
    "count = 0\n",
    "total = 0\n",
    "for i in range(len(csv_data)):\n",
    "    if (csv_data[i][1] == ''):\n",
    "            count += 1\n",
    "            continue\n",
    "    else:\n",
    "        total += int(csv_data[i][1])\n",
    "total/(len(csv_data) - count)\n",
    "            "
   ]
  },
  {
   "cell_type": "code",
   "execution_count": 10,
   "metadata": {},
   "outputs": [
    {
     "data": {
      "text/plain": [
       "['Graham Beck',\n",
       " 'Bouchard Finlayson',\n",
       " 'Long Neck',\n",
       " 'Essay',\n",
       " 'Neil Ellis',\n",
       " 'Robertson Winery',\n",
       " 'Fat Barrel',\n",
       " 'Noble Hill',\n",
       " 'Waterkloof',\n",
       " 'KWV',\n",
       " 'Vergelegen']"
      ]
     },
     "execution_count": 10,
     "metadata": {},
     "output_type": "execute_result"
    }
   ],
   "source": [
    "#q3\n",
    "q = []\n",
    "for i in range(len(csv_data)):\n",
    "    if (csv_data[i][4] != '' and csv_data[i][0] == 'South Africa'):\n",
    "            q.append(csv_data[i][4])\n",
    "winery = list(set(q))\n",
    "winery"
   ]
  },
  {
   "cell_type": "code",
   "execution_count": 11,
   "metadata": {},
   "outputs": [
    {
     "data": {
      "text/plain": [
       "['Rhône-style White Blend', 'Chardonnay', 'White Blend', 'Syrah']"
      ]
     },
     "execution_count": 11,
     "metadata": {},
     "output_type": "execute_result"
    }
   ],
   "source": [
    "#q4\n",
    "name1 = varierty('caramelized')\n",
    "name1"
   ]
  },
  {
   "cell_type": "code",
   "execution_count": 12,
   "metadata": {},
   "outputs": [
    {
     "data": {
      "text/plain": [
       "['Sparkling Blend', 'Chardonnay', 'Pinot Grigio']"
      ]
     },
     "execution_count": 12,
     "metadata": {},
     "output_type": "execute_result"
    }
   ],
   "source": [
    "#q5\n",
    "name2 = varierty(\"lemon-lime soda\")\n",
    "name2"
   ]
  },
  {
   "cell_type": "code",
   "execution_count": 13,
   "metadata": {},
   "outputs": [
    {
     "data": {
      "text/plain": [
       "['Nebbiolo', 'Cabernet Sauvignon', 'Rosé']"
      ]
     },
     "execution_count": 13,
     "metadata": {},
     "output_type": "execute_result"
    }
   ],
   "source": [
    "#q6\n",
    "name3 = varierty(\"cherry-berry\")\n",
    "name3"
   ]
  },
  {
   "cell_type": "code",
   "execution_count": 14,
   "metadata": {},
   "outputs": [
    {
     "data": {
      "text/plain": [
       "['Cabernet Sauvignon']"
      ]
     },
     "execution_count": 14,
     "metadata": {},
     "output_type": "execute_result"
    }
   ],
   "source": [
    "#q7\n",
    "q7 = anagram(\"antibus governance\".replace(\" \", \"\"))\n",
    "q7"
   ]
  },
  {
   "cell_type": "code",
   "execution_count": 15,
   "metadata": {},
   "outputs": [
    {
     "data": {
      "text/plain": [
       "['Tempranillo Blend']"
      ]
     },
     "execution_count": 15,
     "metadata": {},
     "output_type": "execute_result"
    }
   ],
   "source": [
    "#q8\n",
    "q8 = anagram(\"Banned Petrol Mill\".replace(\" \",\"\"))\n",
    "q8"
   ]
  },
  {
   "cell_type": "code",
   "execution_count": 16,
   "metadata": {},
   "outputs": [
    {
     "data": {
      "text/plain": [
       "['Hall']"
      ]
     },
     "execution_count": 16,
     "metadata": {},
     "output_type": "execute_result"
    }
   ],
   "source": [
    "#q9\n",
    "highest = 0;\n",
    "for i in range(len(csv_data)):\n",
    "    if(csv_data[i][0] == 'US' and csv_data[i][2] != '' and float(csv_data[i][2]) > highest):\n",
    "        highest = float(csv_data[i][2])\n",
    "a = []\n",
    "for i in range(len(csv_data)):\n",
    "    if(csv_data[i][0] == 'US' and csv_data[i][2] != '' and float(csv_data[i][2]) == highest):\n",
    "        a.append(csv_data[i][4])\n",
    "list(set(a))"
   ]
  },
  {
   "cell_type": "code",
   "execution_count": 17,
   "metadata": {},
   "outputs": [
    {
     "data": {
      "text/plain": [
       "['Provence red blend', 'Malbec', 'Tannat']"
      ]
     },
     "execution_count": 17,
     "metadata": {},
     "output_type": "execute_result"
    }
   ],
   "source": [
    "#q10\n",
    "highest = 0;\n",
    "for i in range(len(csv_data)):\n",
    "    if(csv_data[i][0] == \"France\" and int(csv_data[i][1]) > highest):\n",
    "        highest = int(csv_data[i][1])\n",
    "a = []\n",
    "for i in range(len(csv_data)):\n",
    "    if(csv_data[i][0] == \"France\" and int(csv_data[i][1]) == highest):\n",
    "        a.append(csv_data[i][3])\n",
    "list(set(a))"
   ]
  },
  {
   "cell_type": "code",
   "execution_count": 18,
   "metadata": {},
   "outputs": [
    {
     "data": {
      "text/plain": [
       "1.288074888074888"
      ]
     },
     "execution_count": 18,
     "metadata": {},
     "output_type": "execute_result"
    }
   ],
   "source": [
    "#q11\n",
    "avg = avgPPD(\"Ponzi\")\n",
    "avg"
   ]
  },
  {
   "cell_type": "code",
   "execution_count": 19,
   "metadata": {},
   "outputs": [
    {
     "data": {
      "text/plain": [
       "1.3628968253968254"
      ]
     },
     "execution_count": 19,
     "metadata": {},
     "output_type": "execute_result"
    }
   ],
   "source": [
    "#q12\n",
    "avg = avgPPD('Blue Farm')\n",
    "avg"
   ]
  },
  {
   "cell_type": "code",
   "execution_count": 20,
   "metadata": {},
   "outputs": [
    {
     "data": {
      "text/plain": [
       "'Kumeu River'"
      ]
     },
     "execution_count": 20,
     "metadata": {},
     "output_type": "execute_result"
    }
   ],
   "source": [
    "#q13\n",
    "name = lowestPPD('New Zealand')\n",
    "name"
   ]
  },
  {
   "cell_type": "code",
   "execution_count": 21,
   "metadata": {},
   "outputs": [
    {
     "data": {
      "text/plain": [
       "['Dalrymple', \"D'Arenberg\"]"
      ]
     },
     "execution_count": 21,
     "metadata": {},
     "output_type": "execute_result"
    }
   ],
   "source": [
    "#q14\n",
    "name = lowestPPD('Australia')\n",
    "name"
   ]
  },
  {
   "cell_type": "code",
   "execution_count": 22,
   "metadata": {},
   "outputs": [
    {
     "data": {
      "text/plain": [
       "'Burrowing Owl'"
      ]
     },
     "execution_count": 22,
     "metadata": {},
     "output_type": "execute_result"
    }
   ],
   "source": [
    "#q15\n",
    "name = lowestPPD('Canada')\n",
    "name"
   ]
  },
  {
   "cell_type": "code",
   "execution_count": 23,
   "metadata": {},
   "outputs": [
    {
     "data": {
      "text/plain": [
       "['Touriga Nacional', 'Portuguese Sparkling', 'Portuguese Red']"
      ]
     },
     "execution_count": 23,
     "metadata": {},
     "output_type": "execute_result"
    }
   ],
   "source": [
    "#q16\n",
    "q16_winery = []\n",
    "for i in range(len(csv_data)):\n",
    "    if(csv_data[i][4] == 'Global Wines'):\n",
    "        q16_winery.append(csv_data[i][3])\n",
    "q16_winery = list(set(q16_winery))\n",
    "q16_winery"
   ]
  },
  {
   "cell_type": "code",
   "execution_count": 24,
   "metadata": {},
   "outputs": [
    {
     "data": {
      "text/plain": [
       "['Portuguese White', 'Portuguese Rosé', 'Portuguese Red']"
      ]
     },
     "execution_count": 24,
     "metadata": {},
     "output_type": "execute_result"
    }
   ],
   "source": [
    "#q17\n",
    "q17_winery = []\n",
    "for i in range(len(csv_data)):\n",
    "    if(csv_data[i][4] == 'Quinta Nova de Nossa Senhora do Carmo'):\n",
    "        q17_winery.append(csv_data[i][3])\n",
    "q17_winery = list(set(q17_winery))\n",
    "q17_winery"
   ]
  },
  {
   "cell_type": "code",
   "execution_count": 25,
   "metadata": {},
   "outputs": [
    {
     "data": {
      "text/plain": [
       "33.33333333333333"
      ]
     },
     "execution_count": 25,
     "metadata": {},
     "output_type": "execute_result"
    }
   ],
   "source": [
    "#q18\n",
    "count = 0\n",
    "for i in range(len(q16_winery)):\n",
    "    if(q16_winery[i] in q17_winery):\n",
    "        count += 1\n",
    "100 * (count/len(q16_winery))"
   ]
  },
  {
   "cell_type": "code",
   "execution_count": 26,
   "metadata": {},
   "outputs": [
    {
     "data": {
      "text/plain": [
       "10.0"
      ]
     },
     "execution_count": 26,
     "metadata": {},
     "output_type": "execute_result"
    }
   ],
   "source": [
    "#q19\n",
    "lowest = float(csv_data[0][2])\n",
    "for i in range(len(csv_data)):\n",
    "    if(csv_data[i][0] == 'US' and csv_data[i][2] != '' and float(csv_data[i][2]) < lowest):\n",
    "        lowest = float(csv_data[i][2])\n",
    "lowest"
   ]
  },
  {
   "cell_type": "code",
   "execution_count": 27,
   "metadata": {},
   "outputs": [
    {
     "data": {
      "text/plain": [
       "335.0"
      ]
     },
     "execution_count": 27,
     "metadata": {},
     "output_type": "execute_result"
    }
   ],
   "source": [
    "#q20\n",
    "highest = 0\n",
    "for i in range(len(csv_data)):\n",
    "    if(csv_data[i][0] == 'US' and csv_data[i][2] != '' and float(csv_data[i][2]) > highest):\n",
    "        highest = float(csv_data[i][2])\n",
    "float(highest) + float(lowest)"
   ]
  }
 ],
 "metadata": {
  "kernelspec": {
   "display_name": "Python 3",
   "language": "python",
   "name": "python3"
  },
  "language_info": {
   "codemirror_mode": {
    "name": "ipython",
    "version": 3
   },
   "file_extension": ".py",
   "mimetype": "text/x-python",
   "name": "python",
   "nbconvert_exporter": "python",
   "pygments_lexer": "ipython3",
   "version": "3.7.4"
  }
 },
 "nbformat": 4,
 "nbformat_minor": 2
}
