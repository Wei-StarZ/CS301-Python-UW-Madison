{
 "cells": [
  {
   "cell_type": "code",
   "execution_count": 1,
   "metadata": {},
   "outputs": [],
   "source": [
    "# project: p9\n",
    "# submitter: wxia9\n",
    "# partner: none\n",
    "import os, json, csv\n",
    "from collections import namedtuple\n",
    "import pandas as pd\n",
    "import matplotlib, pandas"
   ]
  },
  {
   "cell_type": "code",
   "execution_count": 2,
   "metadata": {},
   "outputs": [],
   "source": [
    "def openJSON(filename, flag):\n",
    "    if flag:\n",
    "        f = open(filename, encoding=\"utf-8\")\n",
    "    else:\n",
    "        f = open(os.path.join('data',filename), encoding=\"utf-8\")\n",
    "    json_str = f.read()\n",
    "    f.close()\n",
    "    data = json.loads(json_str)\n",
    "    return data"
   ]
  },
  {
   "cell_type": "code",
   "execution_count": 3,
   "metadata": {},
   "outputs": [],
   "source": [
    "def openCSV(filename):\n",
    "    exampleFile = open(os.path.join(\"data\",filename), encoding=\"utf-8\")\n",
    "    exampleReader = csv.reader(exampleFile)\n",
    "    exampleData = list(exampleReader)\n",
    "    exampleFile.close()\n",
    "    return exampleData"
   ]
  },
  {
   "cell_type": "code",
   "execution_count": 4,
   "metadata": {},
   "outputs": [],
   "source": [
    "def get_reviews(csvfile, JSONfile):\n",
    "    csv = openCSV(csvfile)\n",
    "    JSON = openJSON(JSONfile, False)\n",
    "    csv = csv[1:]\n",
    "    Review = namedtuple(\"Review\", [\"id\", \"username\", \"asin\", \"title\", \"text\", \"rating\", \n",
    "                                       \"do_recommend\", \"num_helpful\", \"date\"])\n",
    "    result = []\n",
    "    for i in range(len(csv)):\n",
    "        try:\n",
    "            username = JSON[csv[i][0]][0]\n",
    "            asin = JSON[csv[i][0]][1]\n",
    "            id = int(csv[i][0])\n",
    "            title = csv[i][1]\n",
    "            text = csv[i][2]\n",
    "            rating = int(csv[i][3])\n",
    "            do_recommend = eval(csv[i][4])\n",
    "            num_helpful = int(csv[i][5])\n",
    "            date = csv[i][6]\n",
    "            result.append(Review(id, username, asin, title, text, rating, do_recommend, num_helpful, date))\n",
    "        except (ValueError, KeyError) as e:\n",
    "            continue\n",
    "        except (IndexError) as k:\n",
    "            continue\n",
    "    return result"
   ]
  },
  {
   "cell_type": "code",
   "execution_count": 5,
   "metadata": {},
   "outputs": [
    {
     "data": {
      "text/plain": [
       "['sample_reviews.json',\n",
       " 'sample_reviews.csv',\n",
       " 'review5.json',\n",
       " 'review5.csv',\n",
       " 'review4.json',\n",
       " 'review4.csv',\n",
       " 'review3.json',\n",
       " 'review3.csv',\n",
       " 'review2.json',\n",
       " 'review2.csv',\n",
       " 'review1.json',\n",
       " 'review1.csv',\n",
       " 'products.json']"
      ]
     },
     "execution_count": 5,
     "metadata": {},
     "output_type": "execute_result"
    }
   ],
   "source": [
    "\n",
    "#q1\n",
    "receiver = os.listdir(\"data\")\n",
    "sorted(receiver, reverse=True)"
   ]
  },
  {
   "cell_type": "code",
   "execution_count": 6,
   "metadata": {
    "scrolled": true
   },
   "outputs": [
    {
     "data": {
      "text/plain": [
       "['data\\\\sample_reviews.json',\n",
       " 'data\\\\sample_reviews.csv',\n",
       " 'data\\\\review5.json',\n",
       " 'data\\\\review5.csv',\n",
       " 'data\\\\review4.json',\n",
       " 'data\\\\review4.csv',\n",
       " 'data\\\\review3.json',\n",
       " 'data\\\\review3.csv',\n",
       " 'data\\\\review2.json',\n",
       " 'data\\\\review2.csv',\n",
       " 'data\\\\review1.json',\n",
       " 'data\\\\review1.csv',\n",
       " 'data\\\\products.json']"
      ]
     },
     "execution_count": 6,
     "metadata": {},
     "output_type": "execute_result"
    }
   ],
   "source": [
    "#q2\n",
    "AllPath = list()\n",
    "for i in range(len(receiver)):\n",
    "    path = receiver[i]\n",
    "    AllPath.append(os.path.join('data', path))\n",
    "sorted(AllPath, reverse=True)"
   ]
  },
  {
   "cell_type": "code",
   "execution_count": 7,
   "metadata": {},
   "outputs": [
    {
     "data": {
      "text/plain": [
       "['data\\\\sample_reviews.csv',\n",
       " 'data\\\\review5.csv',\n",
       " 'data\\\\review4.csv',\n",
       " 'data\\\\review3.csv',\n",
       " 'data\\\\review2.csv',\n",
       " 'data\\\\review1.csv']"
      ]
     },
     "execution_count": 7,
     "metadata": {},
     "output_type": "execute_result"
    }
   ],
   "source": [
    "#q3\n",
    "AllPath = list()\n",
    "for i in range(len(receiver)):\n",
    "    path = receiver[i]\n",
    "    if path[-4:] == '.csv':\n",
    "        AllPath.append(os.path.join(\"data\", path))\n",
    "reviews = sorted(AllPath, reverse=True)\n",
    "reviews"
   ]
  },
  {
   "cell_type": "code",
   "execution_count": 8,
   "metadata": {},
   "outputs": [
    {
     "data": {
      "text/plain": [
       "['data\\\\review5.json',\n",
       " 'data\\\\review5.csv',\n",
       " 'data\\\\review4.json',\n",
       " 'data\\\\review4.csv',\n",
       " 'data\\\\review3.json',\n",
       " 'data\\\\review3.csv',\n",
       " 'data\\\\review2.json',\n",
       " 'data\\\\review2.csv',\n",
       " 'data\\\\review1.json',\n",
       " 'data\\\\review1.csv']"
      ]
     },
     "execution_count": 8,
     "metadata": {},
     "output_type": "execute_result"
    }
   ],
   "source": [
    "#q4\n",
    "AllPath = list()\n",
    "for i in range(len(receiver)):\n",
    "    path = receiver[i]\n",
    "    if path[0:6] == 'review':\n",
    "        AllPath.append(os.path.join(\"data\", path))\n",
    "sorted(AllPath, reverse=True)"
   ]
  },
  {
   "cell_type": "code",
   "execution_count": 9,
   "metadata": {
    "scrolled": true
   },
   "outputs": [
    {
     "data": {
      "text/plain": [
       "{'B00QFQRELG': 'Amazon 9W PowerFast Official OEM USB Charger and Power Adapter for Fire Tablets and Kindle eReaders',\n",
       " 'B01BH83OOM': 'Amazon Tap Smart Assistant Alexa enabled (black) Brand New',\n",
       " 'B00ZV9PXP2': 'All-New Kindle E-reader - Black, 6\" Glare-Free Touchscreen Display, Wi-Fi - Includes Special Offers',\n",
       " 'B0751RGYJV': 'Amazon Echo (2nd Generation) Smart Assistant Oak Finish Priority Shipping',\n",
       " 'B00IOY8XWQ': 'Kindle Voyage E-reader, 6 High-Resolution Display (300 ppi) with Adaptive Built-in Light, PagePress Sensors, Wi-Fi - Includes Special Offers',\n",
       " 'B0752151W6': 'All-new Echo (2nd Generation) with improved sound, powered by Dolby, and a new design Walnut Finish',\n",
       " 'B018Y226XO': 'Fire Kids Edition Tablet, 7 Display, Wi-Fi, 16 GB, Pink Kid-Proof Case',\n",
       " 'B01ACEKAJY': 'All-New Fire HD 8 Tablet, 8 HD Display, Wi-Fi, 32 GB - Includes Special Offers, Black',\n",
       " 'B01AHB9CYG': 'All-New Fire HD 8 Tablet, 8 HD Display, Wi-Fi, 32 GB - Includes Special Offers, Magenta',\n",
       " 'B01AHB9CN2': 'All-New Fire HD 8 Tablet, 8 HD Display, Wi-Fi, 16 GB - Includes Special Offers, Magenta',\n",
       " 'B00VINDBJK': 'Kindle Oasis E-reader with Leather Charging Cover - Merlot, 6 High-Resolution Display (300 ppi), Wi-Fi - Includes Special Offers',\n",
       " 'B01AHB9C1E': 'Fire HD 8 Tablet with Alexa, 8 HD Display, 32 GB, Tangerine - with Special Offers',\n",
       " 'B018Y229OU': 'Fire Tablet, 7 Display, Wi-Fi, 8 GB - Includes Special Offers, Magenta'}"
      ]
     },
     "execution_count": 9,
     "metadata": {},
     "output_type": "execute_result"
    }
   ],
   "source": [
    "#q5\n",
    "JSON = openJSON('products.json', False)\n",
    "JSON"
   ]
  },
  {
   "cell_type": "code",
   "execution_count": 10,
   "metadata": {},
   "outputs": [
    {
     "data": {
      "text/plain": [
       "'It does what it is suppose to. No problems with it...'"
      ]
     },
     "execution_count": 10,
     "metadata": {},
     "output_type": "execute_result"
    }
   ],
   "source": [
    "#q6\n",
    "review1 = openCSV(\"review1.csv\")\n",
    "header = review1[0]\n",
    "review1 = review1[1:]\n",
    "result = None\n",
    "count = 0\n",
    "for i in range(len(header)):\n",
    "    if header[i] == \"review text\":\n",
    "        count = i;\n",
    "        break;\n",
    "for i in range(len(review1)):\n",
    "    if review1[i][0] == '1410':\n",
    "        result = review1[i][count]\n",
    "        break;\n",
    "result"
   ]
  },
  {
   "cell_type": "code",
   "execution_count": 11,
   "metadata": {},
   "outputs": [
    {
     "data": {
      "text/plain": [
       "'I hate amazon app store. Nothing good in there. The tablet is too slow for what I do... it is good for reading only....'"
      ]
     },
     "execution_count": 11,
     "metadata": {},
     "output_type": "execute_result"
    }
   ],
   "source": [
    "#q7\n",
    "result = None\n",
    "for i in range(len(reviews)):\n",
    "    review = openCSV(reviews[i][5:])\n",
    "    for j in range(len(review)):\n",
    "        if review[j][0] == '69899':\n",
    "            result = review[j][count]\n",
    "            break\n",
    "result"
   ]
  },
  {
   "cell_type": "code",
   "execution_count": 12,
   "metadata": {},
   "outputs": [
    {
     "data": {
      "text/plain": [
       "'Perfection'"
      ]
     },
     "execution_count": 12,
     "metadata": {},
     "output_type": "execute_result"
    }
   ],
   "source": [
    "#q8\n",
    "flag = 0;\n",
    "for i in range(len(header)):\n",
    "    if header[i] == \"review title\":\n",
    "        count = i;\n",
    "        break;\n",
    "result = None\n",
    "for i in range(len(reviews)):\n",
    "    review = openCSV(reviews[i][5:])\n",
    "    for j in range(len(review)):\n",
    "        if review[j][0] == '28013':\n",
    "            result = review[j][count]\n",
    "            flag = 1;\n",
    "            break\n",
    "    if flag == 1:\n",
    "        break\n",
    "result"
   ]
  },
  {
   "cell_type": "code",
   "execution_count": 13,
   "metadata": {},
   "outputs": [
    {
     "data": {
      "text/plain": [
       "'review3.csv'"
      ]
     },
     "execution_count": 13,
     "metadata": {},
     "output_type": "execute_result"
    }
   ],
   "source": [
    "#q9\n",
    "reviews[i][5:]"
   ]
  },
  {
   "cell_type": "code",
   "execution_count": 14,
   "metadata": {
    "scrolled": false
   },
   "outputs": [
    {
     "data": {
      "text/plain": [
       "{'10101': ['Mikey123456789', 'B00QFQRELG'],\n",
       " '99904': ['diamond', 'B00QFQRELG'],\n",
       " '89604': ['Pat91', 'B00QFQRELG'],\n",
       " '58704': ['Frank', 'B00QFQRELG'],\n",
       " '38104': ['LADYD92', 'B00QFQRELG']}"
      ]
     },
     "execution_count": 14,
     "metadata": {},
     "output_type": "execute_result"
    }
   ],
   "source": [
    "#q10\n",
    "sample = openJSON('sample_reviews.json', False)\n",
    "sample"
   ]
  },
  {
   "cell_type": "code",
   "execution_count": 15,
   "metadata": {},
   "outputs": [
    {
     "data": {
      "text/plain": [
       "[Review(id=10101, username='Mikey123456789', asin='B00QFQRELG', title='A charger', text='It seems to work just like any other usb plug in charger.', rating=5, do_recommend=True, num_helpful=0, date='2017-01-02'),\n",
       " Review(id=99904, username='diamond', asin='B00QFQRELG', title='amazon power fast usb charger', text='got this for my kindle 7 tablet . Does an excellent job charging the kindle fire 7 a lot faster than the one it came with the kindle fire', rating=5, do_recommend=True, num_helpful=2, date='2016-06-03'),\n",
       " Review(id=89604, username='Pat91', asin='B00QFQRELG', title='Amazon powerfast wall charger', text='Best kindle charger ever. Took 30 minutes to being my kindle back to life.', rating=5, do_recommend=True, num_helpful=0, date='2016-11-21'),\n",
       " Review(id=58704, username='Frank', asin='B00QFQRELG', title='correct plug for kindle', text='Quickly charges kindle so son can use it. Worked great right out of the package', rating=5, do_recommend=True, num_helpful=0, date='2016-10-14'),\n",
       " Review(id=38104, username='LADYD92', asin='B00QFQRELG', title='Fast Charger', text='Bought this charger for the Kindle voyage and its great.', rating=5, do_recommend=True, num_helpful=0, date='2016-09-30')]"
      ]
     },
     "execution_count": 15,
     "metadata": {},
     "output_type": "execute_result"
    }
   ],
   "source": [
    "#q11\n",
    "get_reviews('sample_reviews.csv', 'sample_reviews.json')"
   ]
  },
  {
   "cell_type": "code",
   "execution_count": 16,
   "metadata": {
    "scrolled": true
   },
   "outputs": [
    {
     "data": {
      "text/plain": [
       "[Review(id=10101, username='Mikey123456789', asin='B00QFQRELG', title='A charger', text='It seems to work just like any other usb plug in charger.', rating=5, do_recommend=True, num_helpful=0, date='2017-01-02'),\n",
       " Review(id=99904, username='diamond', asin='B00QFQRELG', title='amazon power fast usb charger', text='got this for my kindle 7 tablet . Does an excellent job charging the kindle fire 7 a lot faster than the one it came with the kindle fire', rating=5, do_recommend=True, num_helpful=2, date='2016-06-03'),\n",
       " Review(id=89604, username='Pat91', asin='B00QFQRELG', title='Amazon powerfast wall charger', text='Best kindle charger ever. Took 30 minutes to being my kindle back to life.', rating=5, do_recommend=True, num_helpful=0, date='2016-11-21'),\n",
       " Review(id=58704, username='Frank', asin='B00QFQRELG', title='correct plug for kindle', text='Quickly charges kindle so son can use it. Worked great right out of the package', rating=5, do_recommend=True, num_helpful=0, date='2016-10-14'),\n",
       " Review(id=38104, username='LADYD92', asin='B00QFQRELG', title='Fast Charger', text='Bought this charger for the Kindle voyage and its great.', rating=5, do_recommend=True, num_helpful=0, date='2016-09-30'),\n",
       " Review(id=76407, username='RobT', asin='B00QFQRELG', title='Good charger', text='This wall charger works exactly as described for the Kindle Paperwhite.', rating=5, do_recommend=True, num_helpful=0, date='2016-07-22'),\n",
       " Review(id=83810, username='Iodine', asin='B00QFQRELG', title='Great item', text='Have been using this item and it seems to be working quite well.', rating=5, do_recommend=True, num_helpful=0, date='2017-03-15'),\n",
       " Review(id=32310, username='Akki', asin='B00QFQRELG', title='Nice one', text='Good one and working without any issues. Slim and portable', rating=5, do_recommend=True, num_helpful=0, date='2016-06-24'),\n",
       " Review(id=22010, username='STRIPYGOOSE', asin='B00QFQRELG', title='not any faster', text='it does not charge any faster than regular charger.', rating=3, do_recommend=False, num_helpful=0, date='2016-08-18'),\n",
       " Review(id=1410, username='Jk60', asin='B00QFQRELG', title='Satisfied', text='It does what it is suppose to. No problems with it...', rating=4, do_recommend=True, num_helpful=0, date='2016-12-07')]"
      ]
     },
     "execution_count": 16,
     "metadata": {},
     "output_type": "execute_result"
    }
   ],
   "source": [
    "#q12\n",
    "get_reviews('review1.csv', 'review1.json')[0:10]"
   ]
  },
  {
   "cell_type": "code",
   "execution_count": 17,
   "metadata": {},
   "outputs": [
    {
     "data": {
      "text/plain": [
       "[Review(id=25136, username='Angrydagg', asin='B018Y229OU', title='Nice features for the price.', text='For the price this tables does everything I need. so far.', rating=4, do_recommend=True, num_helpful=0, date='2015-12-30'),\n",
       " Review(id=84039, username='Appman2015', asin='B018Y229OU', title='Great for xmas', text='So far I have bought three of these of tablets and they love it', rating=4, do_recommend=True, num_helpful=1, date='2015-12-30'),\n",
       " Review(id=22239, username='SuzieQ', asin='B018Y229OU', title='great for pre teens', text='i am glad i got them for my grand children they r enjoying them', rating=5, do_recommend=True, num_helpful=0, date='2015-12-31'),\n",
       " Review(id=70842, username='Gracie', asin='B018Y229OU', title='Great kindle', text='Purchase was good. Very easy to set up and use. Clear screen. Easy to charge. Would like more storage.', rating=5, do_recommend=True, num_helpful=0, date='2015-12-31'),\n",
       " Review(id=60542, username='Jeremyjeepster', asin='B018Y229OU', title='Good entry level tablet reader.', text='His is a very economical entry level tablet. Great for kids or for first time users.', rating=4, do_recommend=True, num_helpful=0, date='2015-12-31'),\n",
       " Review(id=9042, username='kinglowe78', asin='B018Y229OU', title='Good Deal', text='Real good deal. Nice present for those who want a tablet', rating=4, do_recommend=True, num_helpful=1, date='2016-01-01'),\n",
       " Review(id=98845, username='jamal', asin='B018Y229OU', title='good basic', text='Good gift for basic Internet use browsing emails .', rating=3, do_recommend=True, num_helpful=1, date='2016-01-01'),\n",
       " Review(id=37045, username='CaOk', asin='B018Y229OU', title='decent budget tablet that does what it suppose to', text='Nothing fancy. A good budget tablet that does what It suppose to do', rating=4, do_recommend=True, num_helpful=0, date='2016-01-01'),\n",
       " Review(id=26745, username='Tablet2', asin='B018Y229OU', title='Affordable tablet', text='Bought tablet for my five year old nephew. Is affordable and has good specs. Easy to use. Camera and video are good. My nephew has no problem using it', rating=4, do_recommend=True, num_helpful=0, date='2016-01-01'),\n",
       " Review(id=3248, username='Tims54913', asin='B018Y229OU', title='Great tablet', text='If your connected to amazon the tablet is great to use.', rating=5, do_recommend=True, num_helpful=0, date='2016-01-02')]"
      ]
     },
     "execution_count": 17,
     "metadata": {},
     "output_type": "execute_result"
    }
   ],
   "source": [
    "#q13\n",
    "get_reviews('review2.csv', 'review2.json')[-10:]"
   ]
  },
  {
   "cell_type": "code",
   "execution_count": 18,
   "metadata": {},
   "outputs": [
    {
     "data": {
      "text/plain": [
       "Review(id=84713, username='mmolly1', asin='B01AHB9CN2', title='Great product', text='This product is very user friendly and it is very lightweight', rating=5, do_recommend=True, num_helpful=0, date='2017-01-08')"
      ]
     },
     "execution_count": 18,
     "metadata": {},
     "output_type": "execute_result"
    }
   ],
   "source": [
    "#q14\n",
    "allreviews = []\n",
    "for i in range(1, 6):\n",
    "    csvname = 'review' + str(i) + '.csv'\n",
    "    jsonname = 'review' + str(i) +'.json'\n",
    "    try:\n",
    "        review = get_reviews(csvname, jsonname)\n",
    "    except (ValueError) as e:\n",
    "        continue\n",
    "    for j in range(len(review)):\n",
    "        allreviews.append(review[j])\n",
    "for i in range(len(allreviews)):\n",
    "    if allreviews[i].id == 84713:\n",
    "        break\n",
    "allreviews[i]"
   ]
  },
  {
   "cell_type": "code",
   "execution_count": 19,
   "metadata": {},
   "outputs": [
    {
     "data": {
      "text/plain": [
       "Review(id=42931, username='tbistone', asin='B01BH83OOM', title='Amazing', text='I literally use this thing every single day. Love it.', rating=5, do_recommend=True, num_helpful=0, date='2016-12-20')"
      ]
     },
     "execution_count": 19,
     "metadata": {},
     "output_type": "execute_result"
    }
   ],
   "source": [
    "#q15\n",
    "for i in range(len(allreviews)):\n",
    "    if allreviews[i].id == 42931:\n",
    "        break\n",
    "allreviews[i]"
   ]
  },
  {
   "cell_type": "code",
   "execution_count": 20,
   "metadata": {},
   "outputs": [
    {
     "data": {
      "text/plain": [
       "[Review(id=74, username='Wayne', asin='B01AHB9CN2', title='Kindle upgrade', text='Gave this to my wife for Christmas. Upgraded from the original Kindle. She thoroughly enjoys it.', rating=5, do_recommend=True, num_helpful=0, date='2016-12-31'),\n",
       " Review(id=82, username='KKLORRAINE', asin='B01AHB9CN2', title='Good', text='Great for reading and Netflix. Fits nice in purse. Good price.', rating=4, do_recommend=True, num_helpful=0, date='2017-04-07'),\n",
       " Review(id=110, username='nell', asin='B00IOY8XWQ', title='I love it', text='Prefect for all reading conditions and environments. I take it everywhere.', rating=5, do_recommend=True, num_helpful=0, date='2016-07-09'),\n",
       " Review(id=122, username='apple21man', asin='B01BH83OOM', title='A great assistant', text='It works well it takes time for it to know your vocabulary', rating=5, do_recommend=True, num_helpful=0, date='2017-01-23'),\n",
       " Review(id=247, username='rockydon1', asin='B018Y229OU', title='great', text='The Kindle fire is a great product. Will do so many things. Would recommend to anyone.', rating=5, do_recommend=True, num_helpful=0, date='2015-12-29'),\n",
       " Review(id=251, username='Cheechu821', asin='B018Y229OU', title='Great product for its price', text='I purchased the tablet as a screen for my drink and it worked just fine', rating=3, do_recommend=True, num_helpful=0, date='2016-02-19'),\n",
       " Review(id=263, username='aram58', asin='B018Y229OU', title='love the tablet', text='I would recommend this tablet to anyone that is interested in one. It is just as good as a Samsung one and half the price.', rating=5, do_recommend=True, num_helpful=0, date='2016-07-08'),\n",
       " Review(id=271, username='NMGPRO', asin='B018Y229OU', title='Good little tablet', text='I purchased this to have a smaller footprint tablet. Could use more popular apps but still great for keeping the library at the tip of the fingers and a camera to boot.', rating=5, do_recommend=True, num_helpful=0, date='2016-01-21'),\n",
       " Review(id=275, username='MikeGA', asin='B018Y229OU', title='Great for Amazon', text='This product is a great entry level tablet. It is limited in both memory and function.', rating=5, do_recommend=True, num_helpful=0, date='2016-01-05'),\n",
       " Review(id=327, username='ritter6281', asin='B018Y229OU', title='Awesome tablet.', text='This tablet is better than any other tablet of the same cost range. My son saved up to buy his own tablet and had similar priced tablets break or have software issues. This tablet has a nice quality screen and it is nice to be able to not be forced to do everything through Amazon despite it being an Amazon tablet. The option of a Best Buy replacement plan is handy when getting the tablet for kids.', rating=5, do_recommend=True, num_helpful=0, date='2016-04-09')]"
      ]
     },
     "execution_count": 20,
     "metadata": {},
     "output_type": "execute_result"
    }
   ],
   "source": [
    "#q16\n",
    "allreviews.sort(key=lambda x:x.id)\n",
    "allreviews[0:10]"
   ]
  },
  {
   "cell_type": "code",
   "execution_count": 21,
   "metadata": {},
   "outputs": [],
   "source": [
    "def get_key(product, name):\n",
    "    for key in product:\n",
    "        if product[key] == name:\n",
    "            return key"
   ]
  },
  {
   "cell_type": "code",
   "execution_count": 22,
   "metadata": {},
   "outputs": [
    {
     "data": {
      "text/plain": [
       "165"
      ]
     },
     "execution_count": 22,
     "metadata": {},
     "output_type": "execute_result"
    }
   ],
   "source": [
    "#q17\n",
    "product = openJSON('products.json', False)\n",
    "receiver = get_key(product, 'Amazon Tap Smart Assistant Alexa enabled (black) Brand New')\n",
    "count = 0\n",
    "for i in range(len(allreviews)):\n",
    "    if allreviews[i].asin == receiver:\n",
    "        count += 1\n",
    "count"
   ]
  },
  {
   "cell_type": "code",
   "execution_count": 23,
   "metadata": {},
   "outputs": [
    {
     "data": {
      "text/plain": [
       "12"
      ]
     },
     "execution_count": 23,
     "metadata": {},
     "output_type": "execute_result"
    }
   ],
   "source": [
    "#q18\n",
    "count = 0\n",
    "receiver = get_key(product,  \"All-New Fire HD 8 Tablet, 8 HD Display, Wi-Fi, 32 GB - Includes Special Offers, Black\")\n",
    "for i in range(len(allreviews)):\n",
    "    if allreviews[i].asin == receiver:\n",
    "        count += 1\n",
    "count"
   ]
  },
  {
   "cell_type": "code",
   "execution_count": 24,
   "metadata": {},
   "outputs": [
    {
     "data": {
      "text/plain": [
       "'Fire Tablet, 7 Display, Wi-Fi, 8 GB - Includes Special Offers, Magenta'"
      ]
     },
     "execution_count": 24,
     "metadata": {},
     "output_type": "execute_result"
    }
   ],
   "source": [
    "#q19\n",
    "highest = 0\n",
    "count = 0\n",
    "result = None\n",
    "for key in product:\n",
    "    count = 0\n",
    "    for i in range(len(allreviews)):\n",
    "        if allreviews[i].asin == key:\n",
    "            count += 1\n",
    "    if count > highest:\n",
    "        result = key\n",
    "        highest = count\n",
    "product[result]"
   ]
  },
  {
   "cell_type": "code",
   "execution_count": 25,
   "metadata": {},
   "outputs": [
    {
     "data": {
      "text/plain": [
       "Review(id=85969, username='Beninkc', asin='B018Y229OU', title='5 star device crippled by amazon', text='This device would be the best possible tablet for the money if it had Google Play. However Amazon chose to block access to it. This took their well made tablet with a beautiful screen and great performance from an amazing value to a waste of money. This is my last amazon branded product.If you use a lot of apps or want specific apps shop for another device.', rating=1, do_recommend=False, num_helpful=20, date='2016-02-14')"
      ]
     },
     "execution_count": 25,
     "metadata": {},
     "output_type": "execute_result"
    }
   ],
   "source": [
    "#q20\n",
    "highest = 0\n",
    "results = None\n",
    "for i in range(len(allreviews)):\n",
    "    if allreviews[i].asin == result:\n",
    "        if highest < allreviews[i].num_helpful:\n",
    "            highest = allreviews[i].num_helpful\n",
    "for i in range(len(allreviews)):\n",
    "    if allreviews[i].asin == result and allreviews[i].num_helpful == highest:\n",
    "        results = allreviews[i]\n",
    "results"
   ]
  },
  {
   "cell_type": "code",
   "execution_count": 26,
   "metadata": {},
   "outputs": [
    {
     "data": {
      "text/plain": [
       "3798"
      ]
     },
     "execution_count": 26,
     "metadata": {},
     "output_type": "execute_result"
    }
   ],
   "source": [
    "#q21\n",
    "unique = []\n",
    "for i in range(len(allreviews)):\n",
    "    if not allreviews[i].username in unique:\n",
    "        unique.append(allreviews[i].username)\n",
    "len(unique)"
   ]
  },
  {
   "cell_type": "code",
   "execution_count": 27,
   "metadata": {
    "scrolled": true
   },
   "outputs": [
    {
     "data": {
      "text/plain": [
       "{'Dave': 5,\n",
       " 'Steve': 4,\n",
       " 'Mike': 4,\n",
       " '1234': 4,\n",
       " 'Susan': 4,\n",
       " 'Angie': 4,\n",
       " 'Chris': 4,\n",
       " 'Missy': 4,\n",
       " 'Pete': 3,\n",
       " 'Anonymous': 3,\n",
       " 'Josh': 3,\n",
       " 'Charles': 3,\n",
       " 'Rick': 3,\n",
       " 'Dani': 3,\n",
       " 'mike': 3,\n",
       " 'Bill': 3,\n",
       " 'John': 3,\n",
       " 'Jojo': 3,\n",
       " 'Kindle': 3,\n",
       " 'Bubba': 3,\n",
       " 'kcladyz': 3,\n",
       " 'Frank': 3,\n",
       " 'Grandma': 3,\n",
       " 'Mimi': 3,\n",
       " 'Richard': 3,\n",
       " 'Manny': 3,\n",
       " 'Susie': 3,\n",
       " 'Charlie': 3,\n",
       " 'Michael': 3,\n",
       " 'David': 3}"
      ]
     },
     "execution_count": 27,
     "metadata": {},
     "output_type": "execute_result"
    }
   ],
   "source": [
    "#q22\n",
    "count = 0\n",
    "useful = 0;\n",
    "usermap = dict()\n",
    "usefulmap = dict()\n",
    "for i in range(len(unique)):\n",
    "    count = 0\n",
    "    useful = 0\n",
    "    for j in range(len(allreviews)):\n",
    "        if allreviews[j].username == unique[i]:\n",
    "            useful += allreviews[j].num_helpful\n",
    "            count += 1\n",
    "    usermap[unique[i]] = count\n",
    "    usefulmap[unique[i]] = useful\n",
    "top30 = sorted(usermap, key=usermap.get, reverse=True)[0:30]\n",
    "result = dict()\n",
    "for i in range(len(top30)):\n",
    "    result[top30[i]] = usermap[top30[i]]\n",
    "result"
   ]
  },
  {
   "cell_type": "code",
   "execution_count": 28,
   "metadata": {},
   "outputs": [
    {
     "data": {
      "text/plain": [
       "{'Ellen': 10,\n",
       " 'Earthdog': 27,\n",
       " 'fenton': 6,\n",
       " 'Dick': 5,\n",
       " 'Junior': 7,\n",
       " 'AshT': 5,\n",
       " 'Stuartc': 8,\n",
       " 'safissad': 8,\n",
       " 'iMax': 5,\n",
       " 'trouble': 5,\n",
       " 'Roberto002007': 7,\n",
       " 'EricO': 7,\n",
       " 'stephfasc22': 5,\n",
       " 'LadyEsco702': 8,\n",
       " 'Karch': 5,\n",
       " 'TerrieT': 5,\n",
       " 'mysixpack': 6,\n",
       " 'Mark': 5,\n",
       " 'Rodge': 6,\n",
       " 'Deejay': 8,\n",
       " 'FrankW': 5,\n",
       " 'Beninkc': 20,\n",
       " 'CarlosEA': 10,\n",
       " '1Briansapp': 5,\n",
       " 'Quasimodo': 5,\n",
       " 'Kime': 5}"
      ]
     },
     "execution_count": 28,
     "metadata": {},
     "output_type": "execute_result"
    }
   ],
   "source": [
    "#q23\n",
    "result = dict()\n",
    "for key in usefulmap:\n",
    "    if usefulmap[key] >= 5:\n",
    "        result[key] = usefulmap[key]\n",
    "result"
   ]
  },
  {
   "cell_type": "code",
   "execution_count": 29,
   "metadata": {
    "scrolled": true
   },
   "outputs": [
    {
     "data": {
      "text/plain": [
       "{'Amazon 9W PowerFast Official OEM USB Charger and Power Adapter for Fire Tablets and Kindle eReaders': 4.7272727272727275,\n",
       " 'Amazon Tap Smart Assistant Alexa enabled (black) Brand New': 4.6909090909090905,\n",
       " 'All-New Kindle E-reader - Black, 6\" Glare-Free Touchscreen Display, Wi-Fi - Includes Special Offers': 4.590163934426229,\n",
       " 'Amazon Echo (2nd Generation) Smart Assistant Oak Finish Priority Shipping': 5.0,\n",
       " 'Kindle Voyage E-reader, 6 High-Resolution Display (300 ppi) with Adaptive Built-in Light, PagePress Sensors, Wi-Fi - Includes Special Offers': 4.666666666666667,\n",
       " 'All-new Echo (2nd Generation) with improved sound, powered by Dolby, and a new design Walnut Finish': 5.0,\n",
       " 'Fire Kids Edition Tablet, 7 Display, Wi-Fi, 16 GB, Pink Kid-Proof Case': 4.603448275862069,\n",
       " 'All-New Fire HD 8 Tablet, 8 HD Display, Wi-Fi, 32 GB - Includes Special Offers, Black': 4.583333333333333,\n",
       " 'All-New Fire HD 8 Tablet, 8 HD Display, Wi-Fi, 32 GB - Includes Special Offers, Magenta': 4.574468085106383,\n",
       " 'All-New Fire HD 8 Tablet, 8 HD Display, Wi-Fi, 16 GB - Includes Special Offers, Magenta': 4.6,\n",
       " 'Kindle Oasis E-reader with Leather Charging Cover - Merlot, 6 High-Resolution Display (300 ppi), Wi-Fi - Includes Special Offers': 4.866666666666666,\n",
       " 'Fire HD 8 Tablet with Alexa, 8 HD Display, 32 GB, Tangerine - with Special Offers': 3.8333333333333335,\n",
       " 'Fire Tablet, 7 Display, Wi-Fi, 8 GB - Includes Special Offers, Magenta': 4.490408673894913}"
      ]
     },
     "execution_count": 29,
     "metadata": {},
     "output_type": "execute_result"
    }
   ],
   "source": [
    "#q24\n",
    "count = 0\n",
    "total = 0\n",
    "avgrating = dict()\n",
    "procount = dict()\n",
    "for key in product:\n",
    "    count = 0\n",
    "    total = 0\n",
    "    for i in range(len(allreviews)):\n",
    "        if key == allreviews[i].asin:\n",
    "            count += 1\n",
    "            total += allreviews[i].rating\n",
    "    procount[product[key]] = count\n",
    "    avgrating[product[key]] = total/count\n",
    "avgrating"
   ]
  },
  {
   "cell_type": "code",
   "execution_count": 30,
   "metadata": {},
   "outputs": [],
   "source": [
    "#copied from: https://github.com/tylerharter/cs301-projects/tree/master/fall19/lab-p9b\n",
    "def scatter(x, y, xlabel=\"Number of reviews\", ylabel=\"Average rating\"):\n",
    "    df = pd.DataFrame({\"x\":x, \"y\":y})\n",
    "    ax = df.plot.scatter(x=\"x\", y=\"y\", color=\"black\", fontsize=16, xlim=0, ylim=0)\n",
    "    ax.set_xlabel(xlabel, fontsize=16)\n",
    "    ax.set_ylabel(ylabel, fontsize=16)\n",
    "    ax.get_xaxis().get_major_formatter().set_scientific(False)\n",
    "    ax.get_yaxis().get_major_formatter().set_scientific(False)"
   ]
  },
  {
   "cell_type": "code",
   "execution_count": 31,
   "metadata": {
    "scrolled": false
   },
   "outputs": [
    {
     "data": {
      "image/png": "[encoded data removed]",
      "text/plain": [
       "<Figure size 432x288 with 1 Axes>"
      ]
     },
     "metadata": {
      "needs_background": "light"
     },
     "output_type": "display_data"
    }
   ],
   "source": [
    "#q25\n",
    "rating = []\n",
    "rwcount = []\n",
    "for key in avgrating:\n",
    "    rating.append(avgrating[key])\n",
    "    rwcount.append(procount[key])\n",
    "%matplotlib inline\n",
    "scatter(rwcount, rating)"
   ]
  },
  {
   "cell_type": "code",
   "execution_count": 32,
   "metadata": {},
   "outputs": [
    {
     "data": {
      "image/png": "[encoded data removed]",
      "text/plain": [
       "<Figure size 432x288 with 1 Axes>"
      ]
     },
     "metadata": {
      "needs_background": "light"
     },
     "output_type": "display_data"
    }
   ],
   "source": [
    "#q26\n",
    "modifiedrw = []\n",
    "modifiedrating = []\n",
    "for i in range(len(rwcount)):\n",
    "    if rwcount[i] < 500:\n",
    "        modifiedrw.append(rwcount[i])\n",
    "        modifiedrating.append(rating[i])\n",
    "scatter(modifiedrw, modifiedrating)"
   ]
  },
  {
   "cell_type": "code",
   "execution_count": 33,
   "metadata": {},
   "outputs": [],
   "source": [
    "def bucket(bucket):\n",
    "    result = dict()\n",
    "    for i in range(6):\n",
    "        result[i] = []\n",
    "    for i in range(len(bucket)):\n",
    "        result[bucket[i].rating].append(bucket[i])\n",
    "    return result"
   ]
  },
  {
   "cell_type": "code",
   "execution_count": 34,
   "metadata": {
    "scrolled": true
   },
   "outputs": [
    {
     "data": {
      "image/png": "[encoded data removed]",
      "text/plain": [
       "<Figure size 432x288 with 1 Axes>"
      ]
     },
     "metadata": {
      "needs_background": "light"
     },
     "output_type": "display_data"
    }
   ],
   "source": [
    "#q27\n",
    "receiver = bucket(allreviews)\n",
    "total = 0\n",
    "avglength = []\n",
    "mapper = dict()\n",
    "for key in receiver:\n",
    "    total = 0\n",
    "    for i in range(len(receiver[key])):\n",
    "        total += len(receiver[key][i].text)\n",
    "    if len(receiver[key]) == 0:\n",
    "        mapper[key] = 0\n",
    "    else:\n",
    "        mapper[key] = total/len(receiver[key])\n",
    "for key in mapper:\n",
    "    avglength.append(mapper[key])\n",
    "scatter(list(mapper), avglength, xlabel = 'Rating', ylabel = 'Average text length')"
   ]
  },
  {
   "cell_type": "code",
   "execution_count": 35,
   "metadata": {},
   "outputs": [
    {
     "data": {
      "image/png": "[encoded data removed]",
      "text/plain": [
       "<Figure size 432x288 with 1 Axes>"
      ]
     },
     "metadata": {
      "needs_background": "light"
     },
     "output_type": "display_data"
    }
   ],
   "source": [
    "#q28\n",
    "helpful = []\n",
    "count = 0\n",
    "helpfulmapper = dict()\n",
    "for key in receiver:\n",
    "    count = 0\n",
    "    for i in range(len(receiver[key])):\n",
    "        if receiver[key][i].num_helpful > 0 :\n",
    "            count += 1\n",
    "    if len(receiver[key]) == 0:\n",
    "        helpfulmapper[key] = 0\n",
    "    else:\n",
    "        helpfulmapper[key] = count/len(receiver[key])\n",
    "for key in helpfulmapper:\n",
    "    helpful.append(helpfulmapper[key])\n",
    "scatter(list(helpfulmapper), helpful, xlabel = 'Rating', ylabel = 'Percentage of helpful reviews')"
   ]
  },
  {
   "cell_type": "code",
   "execution_count": 36,
   "metadata": {},
   "outputs": [
    {
     "data": {
      "text/plain": [
       "4.607549120992761"
      ]
     },
     "execution_count": 36,
     "metadata": {},
     "output_type": "execute_result"
    }
   ],
   "source": [
    "#q29\n",
    "total = 0\n",
    "count = 0\n",
    "for i in range(len(allreviews)):\n",
    "    if allreviews[i].do_recommend:\n",
    "        total += allreviews[i].rating\n",
    "        count += 1\n",
    "total/count"
   ]
  },
  {
   "cell_type": "code",
   "execution_count": 37,
   "metadata": {},
   "outputs": [
    {
     "data": {
      "image/png": "[encoded data removed]",
      "text/plain": [
       "<Figure size 432x288 with 1 Axes>"
      ]
     },
     "metadata": {
      "needs_background": "light"
     },
     "output_type": "display_data"
    }
   ],
   "source": [
    "#q30\n",
    "possibility = []\n",
    "count = 0\n",
    "possmapper = dict()\n",
    "for key in receiver:\n",
    "    count = 0\n",
    "    for i in range(len(receiver[key])):\n",
    "        if receiver[key][i].do_recommend :\n",
    "            count += 1\n",
    "    if len(receiver[key]) == 0:\n",
    "        possmapper[key] = 0\n",
    "    else:\n",
    "        possmapper[key] = count/len(receiver[key])\n",
    "for key in possmapper:\n",
    "    possibility.append(possmapper[key])\n",
    "scatter(list(possmapper), possibility, xlabel = 'Rating', ylabel = 'Probability of recommendation')"
   ]
  },
  {
   "cell_type": "code",
   "execution_count": 38,
   "metadata": {},
   "outputs": [
    {
     "data": {
      "text/plain": [
       "{'this': 1016,\n",
       " 'to': 1442,\n",
       " 'my': 1146,\n",
       " 'for': 1800,\n",
       " 'the': 1740,\n",
       " 'and': 1818,\n",
       " 'i': 1317,\n",
       " 'it': 1286,\n",
       " 'a': 1134}"
      ]
     },
     "execution_count": 38,
     "metadata": {},
     "output_type": "execute_result"
    }
   ],
   "source": [
    "#q31\n",
    "wordmap = dict()\n",
    "for i in range(len(receiver[5])):\n",
    "    getter = receiver[5][i].text.lower().split(\" \")\n",
    "    for i in range(len(getter)):\n",
    "        if getter[i] in wordmap:\n",
    "            wordmap[getter[i]] += 1\n",
    "        else:\n",
    "            wordmap[getter[i]] = 1\n",
    "modifiedword = dict()\n",
    "for key in wordmap:\n",
    "    if wordmap[key] > 1000:\n",
    "        modifiedword[key] = wordmap[key]\n",
    "modifiedword"
   ]
  },
  {
   "cell_type": "code",
   "execution_count": 39,
   "metadata": {},
   "outputs": [
    {
     "data": {
      "text/plain": [
       "{'kindle': 142,\n",
       " 'love': 158,\n",
       " 'it': 137,\n",
       " 'a': 143,\n",
       " 'great': 1093,\n",
       " 'the': 231,\n",
       " 'tablet': 681,\n",
       " 'good': 212,\n",
       " 'for': 617,\n",
       " 'awesome': 108,\n",
       " 'kids': 132,\n",
       " 'gift': 105,\n",
       " 'fire': 104,\n",
       " 'price': 149,\n",
       " 'product': 179,\n",
       " 'my': 138,\n",
       " 'to': 106}"
      ]
     },
     "execution_count": 39,
     "metadata": {},
     "output_type": "execute_result"
    }
   ],
   "source": [
    "#q32\n",
    "titlemap = dict()\n",
    "for i in range(len(receiver[5])):\n",
    "    getter = receiver[5][i].title.lower().split(\" \")\n",
    "    for i in range(len(getter)):\n",
    "        if getter[i] in titlemap:\n",
    "            titlemap[getter[i]] += 1\n",
    "        else:\n",
    "            titlemap[getter[i]] = 1\n",
    "modifiedtitle = dict()\n",
    "for key in titlemap:\n",
    "    if titlemap[key] > 100:\n",
    "        modifiedtitle[key] = titlemap[key]\n",
    "modifiedtitle"
   ]
  },
  {
   "cell_type": "code",
   "execution_count": 40,
   "metadata": {},
   "outputs": [
    {
     "data": {
      "text/plain": [
       "{'poor': 2,\n",
       " 'tablet': 4,\n",
       " 'a': 5,\n",
       " 'great': 2,\n",
       " 'very': 3,\n",
       " 'disappointed': 2,\n",
       " 'use': 2,\n",
       " 'amazon': 5,\n",
       " 'not': 8,\n",
       " 'good': 2,\n",
       " '5': 2,\n",
       " 'for': 2,\n",
       " 'with': 2,\n",
       " 'work': 2,\n",
       " 'really': 2,\n",
       " 'to': 2,\n",
       " 'and': 2,\n",
       " 'kindle': 2,\n",
       " 'does': 2}"
      ]
     },
     "execution_count": 40,
     "metadata": {},
     "output_type": "execute_result"
    }
   ],
   "source": [
    "#q33\n",
    "titlemap = dict()\n",
    "for i in range(len(receiver[1])):\n",
    "    getter = receiver[1][i].title.lower().split(\" \")\n",
    "    for i in range(len(getter)):\n",
    "        if getter[i] in titlemap:\n",
    "            titlemap[getter[i]] += 1\n",
    "        else:\n",
    "            titlemap[getter[i]] = 1\n",
    "modifiedtitle = dict()\n",
    "for key in titlemap:\n",
    "    if titlemap[key] > 1:\n",
    "        modifiedtitle[key] = titlemap[key]\n",
    "modifiedtitle"
   ]
  },
  {
   "cell_type": "code",
   "execution_count": 41,
   "metadata": {
    "scrolled": true
   },
   "outputs": [
    {
     "data": {
      "text/plain": [
       "{'great': 37,\n",
       " 'for': 60,\n",
       " 'price': 18,\n",
       " 'ok': 18,\n",
       " 'tablet': 51,\n",
       " 'the': 18,\n",
       " 'good': 42,\n",
       " 'not': 13,\n",
       " 'a': 17}"
      ]
     },
     "execution_count": 41,
     "metadata": {},
     "output_type": "execute_result"
    }
   ],
   "source": [
    "#q34\n",
    "titlemap = dict()\n",
    "for i in range(len(receiver[3])):\n",
    "    getter = receiver[3][i].title.lower().split(\" \")\n",
    "    for i in range(len(getter)):\n",
    "        if getter[i] in titlemap:\n",
    "            titlemap[getter[i]] += 1\n",
    "        else:\n",
    "            titlemap[getter[i]] = 1\n",
    "modifiedtitle = dict()\n",
    "for key in titlemap:\n",
    "    if titlemap[key] > 10:\n",
    "        modifiedtitle[key] = titlemap[key]\n",
    "modifiedtitle"
   ]
  },
  {
   "cell_type": "code",
   "execution_count": 42,
   "metadata": {},
   "outputs": [],
   "source": [
    "def get_paths(currentdir, target, result):\n",
    "    receiver = os.listdir(currentdir)\n",
    "    for i in range(len(receiver)):\n",
    "        if receiver[i] == target:\n",
    "            result.append(os.path.join(currentdir, target))\n",
    "            return result\n",
    "        else:\n",
    "            if os.path.isdir(os.path.join(currentdir,receiver[i])):\n",
    "                result = get_paths(os.path.join(currentdir,receiver[i]), target, result)\n",
    "    return result"
   ]
  },
  {
   "cell_type": "code",
   "execution_count": 43,
   "metadata": {},
   "outputs": [
    {
     "data": {
      "text/plain": [
       "['broken_file\\\\rating5\\\\helpful\\\\helpful.json']"
      ]
     },
     "execution_count": 43,
     "metadata": {},
     "output_type": "execute_result"
    }
   ],
   "source": [
    "#q35\n",
    "result = []\n",
    "result = get_paths(\"broken_file\", \"helpful.json\", result)\n",
    "sorted(result, reverse=True)"
   ]
  },
  {
   "cell_type": "code",
   "execution_count": 44,
   "metadata": {},
   "outputs": [],
   "source": [
    "def get_allpaths(currentdir, target, result, flag):\n",
    "    receiver = os.listdir(currentdir)\n",
    "    for i in range(len(receiver)):\n",
    "        if receiver[i] == target or flag:\n",
    "            if os.path.isdir(os.path.join(currentdir,receiver[i])):\n",
    "                result = get_allpaths(os.path.join(currentdir,receiver[i]), target, result, True)\n",
    "        if flag and os.path.isfile(os.path.join(currentdir,receiver[i])):\n",
    "            result.append(os.path.join(currentdir,receiver[i]))\n",
    "    return result"
   ]
  },
  {
   "cell_type": "code",
   "execution_count": 45,
   "metadata": {},
   "outputs": [
    {
     "data": {
      "text/plain": [
       "['broken_file\\\\rating4\\\\very_helpful\\\\very_helpful.json',\n",
       " 'broken_file\\\\rating4\\\\others\\\\short\\\\short.json',\n",
       " 'broken_file\\\\rating4\\\\others\\\\others\\\\others.json',\n",
       " 'broken_file\\\\rating4\\\\not_helpful.json']"
      ]
     },
     "execution_count": 45,
     "metadata": {},
     "output_type": "execute_result"
    }
   ],
   "source": [
    "#q36\n",
    "result = []\n",
    "result = get_allpaths(\"broken_file\", \"rating4\", result, False)\n",
    "sorted(result, reverse=True)"
   ]
  },
  {
   "cell_type": "code",
   "execution_count": 46,
   "metadata": {
    "scrolled": true
   },
   "outputs": [
    {
     "data": {
      "text/plain": [
       "['broken_file\\\\rating5\\\\others.json',\n",
       " 'broken_file\\\\rating5\\\\helpful\\\\helpful.json',\n",
       " 'broken_file\\\\rating4\\\\very_helpful\\\\very_helpful.json',\n",
       " 'broken_file\\\\rating4\\\\others\\\\short\\\\short.json',\n",
       " 'broken_file\\\\rating4\\\\others\\\\others\\\\others.json',\n",
       " 'broken_file\\\\rating4\\\\not_helpful.json',\n",
       " 'broken_file\\\\rating3\\\\others\\\\others.json',\n",
       " 'broken_file\\\\rating3\\\\long\\\\long.json',\n",
       " 'broken_file\\\\others.json']"
      ]
     },
     "execution_count": 46,
     "metadata": {},
     "output_type": "execute_result"
    }
   ],
   "source": [
    "#q37\n",
    "result = []\n",
    "result = get_allpaths(\"broken_file\", \"broken_file\", result, True)\n",
    "sorted(result, reverse=True)"
   ]
  },
  {
   "cell_type": "code",
   "execution_count": 47,
   "metadata": {},
   "outputs": [
    {
     "data": {
      "text/plain": [
       "1"
      ]
     },
     "execution_count": 47,
     "metadata": {},
     "output_type": "execute_result"
    }
   ],
   "source": [
    "#q38\n",
    "allcombined = dict()\n",
    "newdict = dict()\n",
    "for i in range(len(result)):\n",
    "    intermediate = openJSON(result[i], True)\n",
    "    for key in intermediate:\n",
    "        allcombined[key] = intermediate[key]\n",
    "for key in allcombined:\n",
    "    newdict[allcombined[key][1]] = 1\n",
    "len(newdict)"
   ]
  },
  {
   "cell_type": "code",
   "execution_count": 48,
   "metadata": {},
   "outputs": [],
   "source": [
    "with open(os.path.join('data','broken_data.json'), 'w') as f:\n",
    "    json.dump(allcombined, f)"
   ]
  },
  {
   "cell_type": "code",
   "execution_count": 49,
   "metadata": {
    "scrolled": true
   },
   "outputs": [
    {
     "data": {
      "text/plain": [
       "4992"
      ]
     },
     "execution_count": 49,
     "metadata": {},
     "output_type": "execute_result"
    }
   ],
   "source": [
    "#q39\n",
    "newreviews = []\n",
    "for i in range(1, 6):\n",
    "    csvname = 'review' + str(i) + '.csv'\n",
    "    jsonname = 'review' + str(i) +'.json'\n",
    "    if i == 4:\n",
    "        jsonname = 'broken_data.json'\n",
    "    review = get_reviews(csvname, jsonname)\n",
    "    for j in range(len(review)):\n",
    "        newreviews.append(review[j])\n",
    "os.remove(os.path.join('data','broken_data.json'))\n",
    "len(newreviews)"
   ]
  },
  {
   "cell_type": "code",
   "execution_count": 50,
   "metadata": {},
   "outputs": [
    {
     "data": {
      "text/plain": [
       "0.31190229022053717"
      ]
     },
     "execution_count": 50,
     "metadata": {},
     "output_type": "execute_result"
    }
   ],
   "source": [
    "#q40\n",
    "oldrating = 0\n",
    "newrating = 0\n",
    "count = 0\n",
    "for i in range(len(allreviews)):\n",
    "    if product[allreviews[i].asin] ==  'Fire Tablet, 7 Display, Wi-Fi, 8 GB - Includes Special Offers, Magenta':\n",
    "        oldrating += allreviews[i].rating\n",
    "        count += 1\n",
    "oldrating = oldrating/count\n",
    "count = 0\n",
    "for i in range(len(newreviews)):\n",
    "    if product[newreviews[i].asin] ==  'Fire Tablet, 7 Display, Wi-Fi, 8 GB - Includes Special Offers, Magenta':\n",
    "        newrating += newreviews[i].rating\n",
    "        count += 1\n",
    "newrating = newrating/count\n",
    "((newrating - oldrating)/oldrating)*100"
   ]
  }
 ],
 "metadata": {
  "kernelspec": {
   "display_name": "Python 3",
   "language": "python",
   "name": "python3"
  },
  "language_info": {
   "codemirror_mode": {
    "name": "ipython",
    "version": 3
   },
   "file_extension": ".py",
   "mimetype": "text/x-python",
   "name": "python",
   "nbconvert_exporter": "python",
   "pygments_lexer": "ipython3",
   "version": "3.7.4"
  }
 },
 "nbformat": 4,
 "nbformat_minor": 2
}
