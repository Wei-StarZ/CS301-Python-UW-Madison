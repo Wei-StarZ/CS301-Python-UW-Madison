{
 "cells": [
  {
   "cell_type": "code",
   "execution_count": 1,
   "metadata": {},
   "outputs": [],
   "source": [
    "# project: p8\n",
    "# submitter: wxia9\n",
    "# partner: none\n",
    "import csv\n",
    "import copy\n",
    "import matplotlib, pandas"
   ]
  },
  {
   "cell_type": "code",
   "execution_count": 2,
   "metadata": {},
   "outputs": [],
   "source": [
    "# copied from https://automatetheboringstuff.com/chapter14/\n",
    "def get_mapping(filename):\n",
    "    exampleFile = open(filename, encoding=\"utf-8\")\n",
    "    exampleReader = csv.reader(exampleFile)\n",
    "    exampleData = list(exampleReader)\n",
    "    exampleFile.close()\n",
    "    mapping = dict()\n",
    "    for i  in range(len(exampleData)):\n",
    "        mapping[exampleData[i][0]] = exampleData[i][1] \n",
    "    return mapping"
   ]
  },
  {
   "cell_type": "code",
   "execution_count": 3,
   "metadata": {
    "scrolled": false
   },
   "outputs": [
    {
     "data": {
      "text/plain": [
       "{'nm0000131': 'John Cusack',\n",
       " 'nm0000154': 'Mel Gibson',\n",
       " 'nm0000163': 'Dustin Hoffman',\n",
       " 'nm0000418': 'Danny Glover',\n",
       " 'nm0000432': 'Gene Hackman',\n",
       " 'nm0000997': 'Gary Busey',\n",
       " 'nm0001149': 'Richard Donner',\n",
       " 'nm0001219': 'Gary Fleder',\n",
       " 'nm0752751': 'Mitchell Ryan',\n",
       " 'tt0313542': 'Runaway Jury',\n",
       " 'tt0093409': 'Lethal Weapon'}"
      ]
     },
     "execution_count": 3,
     "metadata": {},
     "output_type": "execute_result"
    }
   ],
   "source": [
    "#q1\n",
    "mapping = get_mapping(\"small_mapping.csv\")\n",
    "mapping"
   ]
  },
  {
   "cell_type": "code",
   "execution_count": 4,
   "metadata": {},
   "outputs": [
    {
     "data": {
      "text/plain": [
       "'Mitchell Ryan'"
      ]
     },
     "execution_count": 4,
     "metadata": {},
     "output_type": "execute_result"
    }
   ],
   "source": [
    "#q2\n",
    "mapping['nm0752751']"
   ]
  },
  {
   "cell_type": "code",
   "execution_count": 5,
   "metadata": {},
   "outputs": [
    {
     "data": {
      "text/plain": [
       "['John Cusack',\n",
       " 'Mel Gibson',\n",
       " 'Dustin Hoffman',\n",
       " 'Danny Glover',\n",
       " 'Gene Hackman',\n",
       " 'Gary Busey',\n",
       " 'Richard Donner',\n",
       " 'Gary Fleder',\n",
       " 'Mitchell Ryan']"
      ]
     },
     "execution_count": 5,
     "metadata": {},
     "output_type": "execute_result"
    }
   ],
   "source": [
    "#q3\n",
    "nm = []\n",
    "for k in mapping:\n",
    "    if(k[0:2] == 'nm'):\n",
    "        nm.append(mapping[k])\n",
    "nm"
   ]
  },
  {
   "cell_type": "code",
   "execution_count": 6,
   "metadata": {},
   "outputs": [
    {
     "data": {
      "text/plain": [
       "['nm0000997', 'nm0001219']"
      ]
     },
     "execution_count": 6,
     "metadata": {},
     "output_type": "execute_result"
    }
   ],
   "source": [
    "#q4\n",
    "check = []\n",
    "for k in mapping:\n",
    "    receiver = mapping[k].split(\" \")\n",
    "    if(receiver[0].lower() == 'gary'):\n",
    "        check.append(k)\n",
    "smallMap = mapping;\n",
    "check"
   ]
  },
  {
   "cell_type": "code",
   "execution_count": 7,
   "metadata": {},
   "outputs": [],
   "source": [
    "def get_raw_movies(filename):\n",
    "    exampleFile = open(filename, encoding=\"utf-8\")\n",
    "    exampleReader = csv.reader(exampleFile)\n",
    "    exampleData = list(exampleReader)\n",
    "    header = exampleData.pop(0)\n",
    "    exampleFile.close()\n",
    "    mapping = []\n",
    "    bucket = dict()\n",
    "    subbucket = []\n",
    "    for i  in range(len(exampleData)):\n",
    "        subbucket = []\n",
    "        bucket = dict()\n",
    "        for j in range(len(exampleData[i])):\n",
    "            if j == header.index('year'):\n",
    "                exampleData[i][j] = int(exampleData[i][j])\n",
    "            if j == header.index('rating'):\n",
    "                exampleData[i][j] = float(exampleData[i][j])\n",
    "            if(j >= header.index('directors')):\n",
    "                subbucket = exampleData[i][j].split(\",\")\n",
    "                bucket[header[j]] = subbucket\n",
    "            else:\n",
    "                bucket[header[j]] = exampleData[i][j]\n",
    "        mapping.append(bucket)\n",
    "    return mapping"
   ]
  },
  {
   "cell_type": "code",
   "execution_count": 8,
   "metadata": {
    "scrolled": false
   },
   "outputs": [
    {
     "data": {
      "text/plain": [
       "[{'title': 'tt0313542',\n",
       "  'year': 2003,\n",
       "  'rating': 7.1,\n",
       "  'directors': ['nm0001219'],\n",
       "  'actors': ['nm0000131', 'nm0000432', 'nm0000163'],\n",
       "  'genres': ['Crime', 'Drama', 'Thriller']},\n",
       " {'title': 'tt0093409',\n",
       "  'year': 1987,\n",
       "  'rating': 7.6,\n",
       "  'directors': ['nm0001149'],\n",
       "  'actors': ['nm0000154', 'nm0000418', 'nm0000997', 'nm0752751'],\n",
       "  'genres': ['Action', 'Crime', 'Thriller']}]"
      ]
     },
     "execution_count": 8,
     "metadata": {},
     "output_type": "execute_result"
    }
   ],
   "source": [
    "#q5\n",
    "smallMov = get_raw_movies(\"small_movies.csv\")\n",
    "smallMov"
   ]
  },
  {
   "cell_type": "code",
   "execution_count": 9,
   "metadata": {},
   "outputs": [
    {
     "data": {
      "text/plain": [
       "3"
      ]
     },
     "execution_count": 9,
     "metadata": {},
     "output_type": "execute_result"
    }
   ],
   "source": [
    "#q6\n",
    "len(smallMov[0]['genres'])"
   ]
  },
  {
   "cell_type": "code",
   "execution_count": 10,
   "metadata": {
    "scrolled": true
   },
   "outputs": [
    {
     "data": {
      "text/plain": [
       "'nm0752751'"
      ]
     },
     "execution_count": 10,
     "metadata": {},
     "output_type": "execute_result"
    }
   ],
   "source": [
    "#q7\n",
    "smallMov[1]['actors'][len(smallMov[1]['actors']) - 1]"
   ]
  },
  {
   "cell_type": "code",
   "execution_count": 11,
   "metadata": {},
   "outputs": [],
   "source": [
    "def get_movies(movie,mapping):\n",
    "    mapdata = get_mapping(mapping)\n",
    "    movdata = get_raw_movies(movie)\n",
    "    for i in range(len(movdata)):\n",
    "        for k in movdata[i]:\n",
    "            if k == 'title':\n",
    "                for t in mapdata:\n",
    "                    if t == movdata[i][k]:\n",
    "                        movdata[i][k] = mapdata[t]\n",
    "                        break;\n",
    "            elif(k == 'directors' or k == 'actors'):\n",
    "                for d in range(len(movdata[i][k])):\n",
    "                    for t2 in mapdata:\n",
    "                        if t2 == movdata[i][k][d]:\n",
    "                            movdata[i][k][d] = mapdata[t2]\n",
    "                            break;\n",
    "    return movdata"
   ]
  },
  {
   "cell_type": "code",
   "execution_count": 12,
   "metadata": {
    "scrolled": true
   },
   "outputs": [
    {
     "data": {
      "text/plain": [
       "'Runaway Jury'"
      ]
     },
     "execution_count": 12,
     "metadata": {},
     "output_type": "execute_result"
    }
   ],
   "source": [
    "#q8\n",
    "small = get_movies(\"small_movies.csv\", \"small_mapping.csv\")\n",
    "small[0][\"title\"]"
   ]
  },
  {
   "cell_type": "code",
   "execution_count": 13,
   "metadata": {},
   "outputs": [
    {
     "data": {
      "text/plain": [
       "['Mel Gibson', 'Danny Glover', 'Gary Busey', 'Mitchell Ryan']"
      ]
     },
     "execution_count": 13,
     "metadata": {},
     "output_type": "execute_result"
    }
   ],
   "source": [
    "#q9\n",
    "small[1][\"actors\"]"
   ]
  },
  {
   "cell_type": "code",
   "execution_count": 14,
   "metadata": {},
   "outputs": [
    {
     "data": {
      "text/plain": [
       "['Richard Donner']"
      ]
     },
     "execution_count": 14,
     "metadata": {},
     "output_type": "execute_result"
    }
   ],
   "source": [
    "#q10\n",
    "small[-1][\"directors\"]"
   ]
  },
  {
   "cell_type": "code",
   "execution_count": 15,
   "metadata": {},
   "outputs": [
    {
     "data": {
      "text/plain": [
       "[{'title': 'Runaway Jury',\n",
       "  'year': 2003,\n",
       "  'rating': 7.1,\n",
       "  'directors': ['Gary Fleder'],\n",
       "  'actors': ['John Cusack', 'Gene Hackman', 'Dustin Hoffman'],\n",
       "  'genres': ['Crime', 'Drama', 'Thriller']},\n",
       " {'title': 'Lethal Weapon',\n",
       "  'year': 1987,\n",
       "  'rating': 7.6,\n",
       "  'directors': ['Richard Donner'],\n",
       "  'actors': ['Mel Gibson', 'Danny Glover', 'Gary Busey', 'Mitchell Ryan'],\n",
       "  'genres': ['Action', 'Crime', 'Thriller']}]"
      ]
     },
     "execution_count": 15,
     "metadata": {},
     "output_type": "execute_result"
    }
   ],
   "source": [
    "#q11\n",
    "small"
   ]
  },
  {
   "cell_type": "code",
   "execution_count": 16,
   "metadata": {
    "scrolled": true
   },
   "outputs": [
    {
     "data": {
      "text/plain": [
       "[{'title': 'The Big Wedding',\n",
       "  'year': 2013,\n",
       "  'rating': 5.6,\n",
       "  'directors': ['Justin Zackham'],\n",
       "  'actors': ['Robert De Niro'],\n",
       "  'genres': ['Comedy', 'Drama', 'Romance']},\n",
       " {'title': 'The Affair of the Necklace',\n",
       "  'year': 2001,\n",
       "  'rating': 6.1,\n",
       "  'directors': ['Charles Shyer'],\n",
       "  'actors': ['Simon Baker', 'Jonathan Pryce', 'Adrien Brody'],\n",
       "  'genres': ['Drama', 'History', 'Romance']},\n",
       " {'title': 'The Barefoot Executive',\n",
       "  'year': 1971,\n",
       "  'rating': 6.0,\n",
       "  'directors': ['Robert Butler'],\n",
       "  'actors': ['Kurt Russell', 'Joe Flynn', 'Harry Morgan', 'Wally Cox'],\n",
       "  'genres': ['Comedy', 'Family']}]"
      ]
     },
     "execution_count": 16,
     "metadata": {},
     "output_type": "execute_result"
    }
   ],
   "source": [
    "#q12\n",
    "movies = get_movies(\"movies.csv\", \"mapping.csv\")\n",
    "movies[0:3]"
   ]
  },
  {
   "cell_type": "code",
   "execution_count": 17,
   "metadata": {
    "scrolled": false
   },
   "outputs": [
    {
     "data": {
      "text/plain": [
       "[{'title': 'Fortitude and Glory: Angelo Dundee and His Fighters',\n",
       "  'year': 2012,\n",
       "  'rating': 7.2,\n",
       "  'directors': ['Chris Tasara'],\n",
       "  'actors': ['Angelo Dundee', 'George Foreman', 'Freddie Roach'],\n",
       "  'genres': ['Sport']},\n",
       " {'title': 'Ivanhoe',\n",
       "  'year': 1952,\n",
       "  'rating': 6.8,\n",
       "  'directors': ['Richard Thorpe'],\n",
       "  'actors': ['Robert Taylor', 'George Sanders'],\n",
       "  'genres': ['Adventure', 'Drama', 'History']},\n",
       " {'title': 'The Great Gatsby',\n",
       "  'year': 1949,\n",
       "  'rating': 6.6,\n",
       "  'directors': ['Elliott Nugent'],\n",
       "  'actors': ['Alan Ladd', 'Macdonald Carey'],\n",
       "  'genres': ['Drama']}]"
      ]
     },
     "execution_count": 17,
     "metadata": {},
     "output_type": "execute_result"
    }
   ],
   "source": [
    "#q13\n",
    "movies[-3:]"
   ]
  },
  {
   "cell_type": "code",
   "execution_count": 18,
   "metadata": {},
   "outputs": [],
   "source": [
    "# you are not allowed to change this function\n",
    "def filter_movies_by_year(movies, year):\n",
    "    i = 0\n",
    "    while i < len(movies):\n",
    "        if movies[i][\"year\"] != year:\n",
    "            movies.pop(i)\n",
    "        else:\n",
    "            i += 1\n",
    "    return movies"
   ]
  },
  {
   "cell_type": "code",
   "execution_count": 19,
   "metadata": {},
   "outputs": [
    {
     "data": {
      "text/plain": [
       "[{'title': 'Arizona',\n",
       "  'year': 1931,\n",
       "  'rating': 6.0,\n",
       "  'directors': ['George B. Seitz'],\n",
       "  'actors': ['John Wayne', 'Forrest Stanley'],\n",
       "  'genres': ['Drama', 'Romance']},\n",
       " {'title': 'City Lights',\n",
       "  'year': 1931,\n",
       "  'rating': 8.5,\n",
       "  'directors': ['Charles Chaplin'],\n",
       "  'actors': ['Charles Chaplin', 'Harry Myers'],\n",
       "  'genres': ['Comedy', 'Drama', 'Romance']},\n",
       " {'title': 'The Range Feud',\n",
       "  'year': 1931,\n",
       "  'rating': 5.8,\n",
       "  'directors': ['D. Ross Lederman'],\n",
       "  'actors': ['Buck Jones', 'John Wayne', 'Edward LeSaint'],\n",
       "  'genres': ['Mystery', 'Western']}]"
      ]
     },
     "execution_count": 19,
     "metadata": {},
     "output_type": "execute_result"
    }
   ],
   "source": [
    "#q14\n",
    "filter1931 = filter_movies_by_year(copy.deepcopy(movies), 1931)\n",
    "filter1931"
   ]
  },
  {
   "cell_type": "code",
   "execution_count": 20,
   "metadata": {},
   "outputs": [
    {
     "data": {
      "text/plain": [
       "[{'title': 'Texas Cyclone',\n",
       "  'year': 1932,\n",
       "  'rating': 6.2,\n",
       "  'directors': ['D. Ross Lederman'],\n",
       "  'actors': ['Wallace MacDonald', 'Tim McCoy', 'Wheeler Oakman', 'John Wayne'],\n",
       "  'genres': ['Action', 'Western']},\n",
       " {'title': 'Haunted Gold',\n",
       "  'year': 1932,\n",
       "  'rating': 5.5,\n",
       "  'directors': ['Mack V. Wright'],\n",
       "  'actors': ['Otto Hoffman',\n",
       "   'John Wayne',\n",
       "   'Duke',\n",
       "   'Harry Woods',\n",
       "   'Erville Alderson'],\n",
       "  'genres': ['Horror', 'Mystery', 'Western']},\n",
       " {'title': 'Girl Crazy',\n",
       "  'year': 1932,\n",
       "  'rating': 6.3,\n",
       "  'directors': ['William A. Seiter'],\n",
       "  'actors': ['Bert Wheeler', 'Robert Woolsey', 'Eddie Quillan'],\n",
       "  'genres': ['Comedy']},\n",
       " {'title': 'Hot Saturday',\n",
       "  'year': 1932,\n",
       "  'rating': 6.6,\n",
       "  'directors': ['William A. Seiter'],\n",
       "  'actors': ['Cary Grant', 'Randolph Scott', 'Edward Woods'],\n",
       "  'genres': ['Drama', 'Romance']},\n",
       " {'title': 'Lady and Gent',\n",
       "  'year': 1932,\n",
       "  'rating': 5.7,\n",
       "  'directors': ['Stephen Roberts'],\n",
       "  'actors': ['Morgan Wallace',\n",
       "   'George Bancroft',\n",
       "   'Charles Starrett',\n",
       "   'James Gleason',\n",
       "   'John Wayne'],\n",
       "  'genres': ['Drama', 'Sport']},\n",
       " {'title': 'The Big Stampede',\n",
       "  'year': 1932,\n",
       "  'rating': 5.8,\n",
       "  'directors': ['Tenny Wright'],\n",
       "  'actors': ['John Wayne', 'Noah Beery', 'Paul Hurst'],\n",
       "  'genres': ['Western']},\n",
       " {'title': 'The Shadow of the Eagle',\n",
       "  'year': 1932,\n",
       "  'rating': 5.8,\n",
       "  'directors': ['B. Reeves Eason', 'Ford Beebe'],\n",
       "  'actors': ['John Wayne', 'Walter Miller', 'Kenneth Harlan'],\n",
       "  'genres': ['Crime', 'Drama', 'Mystery']},\n",
       " {'title': 'Ride Him, Cowboy',\n",
       "  'year': 1932,\n",
       "  'rating': 5.4,\n",
       "  'directors': ['Fred Allen'],\n",
       "  'actors': ['Otis Harlan', 'John Wayne', 'Duke', 'Henry B. Walthall'],\n",
       "  'genres': ['Romance', 'Western']},\n",
       " {'title': \"Smilin' Through\",\n",
       "  'year': 1932,\n",
       "  'rating': 7.0,\n",
       "  'directors': ['Sidney Franklin'],\n",
       "  'actors': ['Fredric March', 'Leslie Howard', 'O.P. Heggie'],\n",
       "  'genres': ['Drama', 'Romance']},\n",
       " {'title': 'The Hurricane Express',\n",
       "  'year': 1932,\n",
       "  'rating': 5.6,\n",
       "  'directors': ['J.P. McGowan', 'Armand Schaefer'],\n",
       "  'actors': ['Tully Marshall', 'Conway Tearle', 'John Wayne'],\n",
       "  'genres': ['Action', 'Adventure', 'Crime']}]"
      ]
     },
     "execution_count": 20,
     "metadata": {},
     "output_type": "execute_result"
    }
   ],
   "source": [
    "#q15\n",
    "filter1932 = filter_movies_by_year(copy.deepcopy(movies), 1932)\n",
    "filter1932"
   ]
  },
  {
   "cell_type": "code",
   "execution_count": 21,
   "metadata": {},
   "outputs": [],
   "source": [
    "def unique(name):\n",
    "    unique = []\n",
    "    for i in range(len(movies)):\n",
    "        for t in range(len(movies[i][name])):\n",
    "            if not movies[i][name][t] in unique:\n",
    "                unique.append(movies[i][name][t])\n",
    "    return unique"
   ]
  },
  {
   "cell_type": "code",
   "execution_count": 22,
   "metadata": {},
   "outputs": [
    {
     "data": {
      "text/plain": [
       "18"
      ]
     },
     "execution_count": 22,
     "metadata": {},
     "output_type": "execute_result"
    }
   ],
   "source": [
    "#q16\n",
    "genre = unique('genres')\n",
    "len(genre)"
   ]
  },
  {
   "cell_type": "code",
   "execution_count": 23,
   "metadata": {},
   "outputs": [
    {
     "data": {
      "text/plain": [
       "1247"
      ]
     },
     "execution_count": 23,
     "metadata": {},
     "output_type": "execute_result"
    }
   ],
   "source": [
    "#q17\n",
    "director = unique(\"directors\")\n",
    "len(director)"
   ]
  },
  {
   "cell_type": "code",
   "execution_count": 24,
   "metadata": {},
   "outputs": [
    {
     "data": {
      "text/plain": [
       "'Shoulder Arms'"
      ]
     },
     "execution_count": 24,
     "metadata": {},
     "output_type": "execute_result"
    }
   ],
   "source": [
    "#q18\n",
    "index = 0;\n",
    "for i in range(len(movies)):\n",
    "    if len(movies[i]['actors']) > len(movies[index]['actors']):\n",
    "        index = i\n",
    "movies[index]['title']"
   ]
  },
  {
   "cell_type": "code",
   "execution_count": 25,
   "metadata": {},
   "outputs": [
    {
     "data": {
      "text/plain": [
       "6.401659528907912"
      ]
     },
     "execution_count": 25,
     "metadata": {},
     "output_type": "execute_result"
    }
   ],
   "source": [
    "#q19\n",
    "total = 0\n",
    "for i in range(len(movies)):\n",
    "    total += movies[i]['rating']\n",
    "total/len(movies)"
   ]
  },
  {
   "cell_type": "code",
   "execution_count": 26,
   "metadata": {},
   "outputs": [
    {
     "data": {
      "text/plain": [
       "'Dr. Strangelove or: How I Learned to Stop Worrying and Love the Bomb'"
      ]
     },
     "execution_count": 26,
     "metadata": {},
     "output_type": "execute_result"
    }
   ],
   "source": [
    "#q20\n",
    "index = 0;\n",
    "for i in range(len(movies)):\n",
    "    if len(movies[i]['title']) > len(movies[index]['title']):\n",
    "        index = i\n",
    "movies[index]['title']"
   ]
  },
  {
   "cell_type": "code",
   "execution_count": 27,
   "metadata": {},
   "outputs": [],
   "source": [
    "def bucketize(movie_list, movie_key):\n",
    "    bucket = dict()\n",
    "    receiver = []\n",
    "    for i in range(len(movie_list)):\n",
    "        receiver = []\n",
    "        if type(movie_list[i][movie_key]) is list:\n",
    "            for j in range(len(movie_list[i][movie_key])):\n",
    "                receiver = []\n",
    "                if movie_list[i][movie_key][j] in bucket:\n",
    "                    bucket[movie_list[i][movie_key][j]].append(movie_list[i])\n",
    "                else:\n",
    "                    receiver.append(movie_list[i])\n",
    "                    bucket[movie_list[i][movie_key][j]] = receiver\n",
    "        else:\n",
    "            if movie_list[i][movie_key] in bucket:\n",
    "                bucket[movie_list[i][movie_key]].append(movie_list[i])\n",
    "            else:\n",
    "                receiver.append(movie_list[i])\n",
    "                bucket[movie_list[i][movie_key]] = receiver\n",
    "    return bucket\n",
    "test_movies = [\n",
    "{\"title\": \"A\", \"year\": 2018, \"style\": \"short\", \"genres\": [\"g1\"]},\n",
    "{\"title\": \"B\", \"year\": 2018, \"style\": \"long\",  \"genres\": [\"g2\"]},\n",
    "{\"title\": \"C\", \"year\": 2019, \"style\": \"short\", \"genres\": [\"g3\"]},\n",
    "{\"title\": \"D\", \"year\": 2019, \"style\": \"long\", \"genres\": [\"g1\", \"g2\", \"g3\"]},\n",
    "]"
   ]
  },
  {
   "cell_type": "code",
   "execution_count": 28,
   "metadata": {
    "scrolled": true
   },
   "outputs": [
    {
     "data": {
      "text/plain": [
       "{2018: [{'title': 'A', 'year': 2018, 'style': 'short', 'genres': ['g1']},\n",
       "  {'title': 'B', 'year': 2018, 'style': 'long', 'genres': ['g2']}],\n",
       " 2019: [{'title': 'C', 'year': 2019, 'style': 'short', 'genres': ['g3']},\n",
       "  {'title': 'D', 'year': 2019, 'style': 'long', 'genres': ['g1', 'g2', 'g3']}]}"
      ]
     },
     "execution_count": 28,
     "metadata": {},
     "output_type": "execute_result"
    }
   ],
   "source": [
    "#q21\n",
    "bucketize(test_movies, \"year\")"
   ]
  },
  {
   "cell_type": "code",
   "execution_count": 29,
   "metadata": {},
   "outputs": [
    {
     "data": {
      "text/plain": [
       "{'short': [{'title': 'A', 'year': 2018, 'style': 'short', 'genres': ['g1']},\n",
       "  {'title': 'C', 'year': 2019, 'style': 'short', 'genres': ['g3']}],\n",
       " 'long': [{'title': 'B', 'year': 2018, 'style': 'long', 'genres': ['g2']},\n",
       "  {'title': 'D', 'year': 2019, 'style': 'long', 'genres': ['g1', 'g2', 'g3']}]}"
      ]
     },
     "execution_count": 29,
     "metadata": {},
     "output_type": "execute_result"
    }
   ],
   "source": [
    "#q22\n",
    "bucketize(test_movies, \"style\")"
   ]
  },
  {
   "cell_type": "code",
   "execution_count": 30,
   "metadata": {
    "scrolled": true
   },
   "outputs": [
    {
     "data": {
      "text/plain": [
       "{'g1': [{'title': 'A', 'year': 2018, 'style': 'short', 'genres': ['g1']},\n",
       "  {'title': 'D', 'year': 2019, 'style': 'long', 'genres': ['g1', 'g2', 'g3']}],\n",
       " 'g2': [{'title': 'B', 'year': 2018, 'style': 'long', 'genres': ['g2']},\n",
       "  {'title': 'D', 'year': 2019, 'style': 'long', 'genres': ['g1', 'g2', 'g3']}],\n",
       " 'g3': [{'title': 'C', 'year': 2019, 'style': 'short', 'genres': ['g3']},\n",
       "  {'title': 'D', 'year': 2019, 'style': 'long', 'genres': ['g1', 'g2', 'g3']}]}"
      ]
     },
     "execution_count": 30,
     "metadata": {},
     "output_type": "execute_result"
    }
   ],
   "source": [
    "#q23\n",
    "bucketize(test_movies, \"genres\")"
   ]
  },
  {
   "cell_type": "code",
   "execution_count": 31,
   "metadata": {},
   "outputs": [
    {
     "data": {
      "text/plain": [
       "{'Crime': [{'title': 'Runaway Jury',\n",
       "   'year': 2003,\n",
       "   'rating': 7.1,\n",
       "   'directors': ['Gary Fleder'],\n",
       "   'actors': ['John Cusack', 'Gene Hackman', 'Dustin Hoffman'],\n",
       "   'genres': ['Crime', 'Drama', 'Thriller']},\n",
       "  {'title': 'Lethal Weapon',\n",
       "   'year': 1987,\n",
       "   'rating': 7.6,\n",
       "   'directors': ['Richard Donner'],\n",
       "   'actors': ['Mel Gibson', 'Danny Glover', 'Gary Busey', 'Mitchell Ryan'],\n",
       "   'genres': ['Action', 'Crime', 'Thriller']}],\n",
       " 'Drama': [{'title': 'Runaway Jury',\n",
       "   'year': 2003,\n",
       "   'rating': 7.1,\n",
       "   'directors': ['Gary Fleder'],\n",
       "   'actors': ['John Cusack', 'Gene Hackman', 'Dustin Hoffman'],\n",
       "   'genres': ['Crime', 'Drama', 'Thriller']}],\n",
       " 'Thriller': [{'title': 'Runaway Jury',\n",
       "   'year': 2003,\n",
       "   'rating': 7.1,\n",
       "   'directors': ['Gary Fleder'],\n",
       "   'actors': ['John Cusack', 'Gene Hackman', 'Dustin Hoffman'],\n",
       "   'genres': ['Crime', 'Drama', 'Thriller']},\n",
       "  {'title': 'Lethal Weapon',\n",
       "   'year': 1987,\n",
       "   'rating': 7.6,\n",
       "   'directors': ['Richard Donner'],\n",
       "   'actors': ['Mel Gibson', 'Danny Glover', 'Gary Busey', 'Mitchell Ryan'],\n",
       "   'genres': ['Action', 'Crime', 'Thriller']}],\n",
       " 'Action': [{'title': 'Lethal Weapon',\n",
       "   'year': 1987,\n",
       "   'rating': 7.6,\n",
       "   'directors': ['Richard Donner'],\n",
       "   'actors': ['Mel Gibson', 'Danny Glover', 'Gary Busey', 'Mitchell Ryan'],\n",
       "   'genres': ['Action', 'Crime', 'Thriller']}]}"
      ]
     },
     "execution_count": 31,
     "metadata": {},
     "output_type": "execute_result"
    }
   ],
   "source": [
    "#q24\n",
    "bucketize(small, \"genres\")"
   ]
  },
  {
   "cell_type": "code",
   "execution_count": 32,
   "metadata": {},
   "outputs": [
    {
     "data": {
      "text/plain": [
       "7"
      ]
     },
     "execution_count": 32,
     "metadata": {},
     "output_type": "execute_result"
    }
   ],
   "source": [
    "#q25\n",
    "len(bucketize(small, \"actors\"))"
   ]
  },
  {
   "cell_type": "code",
   "execution_count": 33,
   "metadata": {},
   "outputs": [
    {
     "data": {
      "text/plain": [
       "2605"
      ]
     },
     "execution_count": 33,
     "metadata": {},
     "output_type": "execute_result"
    }
   ],
   "source": [
    "#q26\n",
    "len(bucketize(movies, \"actors\"))"
   ]
  },
  {
   "cell_type": "code",
   "execution_count": 34,
   "metadata": {},
   "outputs": [
    {
     "data": {
      "text/plain": [
       "{'Comedy': 485,\n",
       " 'Drama': 1094,\n",
       " 'Romance': 352,\n",
       " 'History': 73,\n",
       " 'Family': 85,\n",
       " 'Mystery': 121,\n",
       " 'Thriller': 250,\n",
       " 'Action': 299,\n",
       " 'Crime': 357,\n",
       " 'Adventure': 283,\n",
       " 'Western': 226,\n",
       " 'Music': 38,\n",
       " 'Animation': 45,\n",
       " 'Sport': 48,\n",
       " 'Fantasy': 59,\n",
       " 'War': 99,\n",
       " 'Sci-Fi': 69,\n",
       " 'Horror': 85}"
      ]
     },
     "execution_count": 34,
     "metadata": {},
     "output_type": "execute_result"
    }
   ],
   "source": [
    "#q27\n",
    "genresDict = dict()\n",
    "receiver = bucketize(movies, \"genres\")\n",
    "for k in receiver:\n",
    "    genresDict[k] = len(receiver[k])\n",
    "genresDict"
   ]
  },
  {
   "cell_type": "code",
   "execution_count": 35,
   "metadata": {},
   "outputs": [],
   "source": [
    "#from the p8-lab...https://github.com/tylerharter/cs301-projects/tree/master/fall19/lab-p8b\n",
    "def plot_dict(d, label=\"Please Label Me!!!\"):\n",
    "    ax = pandas.Series(d).sort_index().plot.bar(color=\"black\", fontsize=16)\n",
    "    ax.set_ylabel(label, fontsize=16)"
   ]
  },
  {
   "cell_type": "code",
   "execution_count": 36,
   "metadata": {},
   "outputs": [
    {
     "data": {
      "image/png": "[encoded data removed]",
      "text/plain": [
       "<Figure size 432x288 with 1 Axes>"
      ]
     },
     "metadata": {
      "needs_background": "light"
     },
     "output_type": "display_data"
    }
   ],
   "source": [
    "#q28\n",
    "plot = genresDict\n",
    "%matplotlib inline\n",
    "plot_dict(plot, \"Number of Movies\")"
   ]
  },
  {
   "cell_type": "code",
   "execution_count": 37,
   "metadata": {},
   "outputs": [],
   "source": [
    "def filter_year(movies, flag, year):\n",
    "    i = 0\n",
    "    while i < len(movies):\n",
    "        if flag == 0:\n",
    "            if movies[i][\"year\"] > year:\n",
    "                movies.pop(i)\n",
    "            else:\n",
    "                i += 1\n",
    "        else:\n",
    "            if movies[i][\"year\"] < year:\n",
    "                movies.pop(i)\n",
    "            else:\n",
    "                i += 1\n",
    "    return movies"
   ]
  },
  {
   "cell_type": "code",
   "execution_count": 38,
   "metadata": {},
   "outputs": [
    {
     "data": {
      "image/png": "[encoded data removed]",
      "text/plain": [
       "<Figure size 432x288 with 1 Axes>"
      ]
     },
     "metadata": {
      "needs_background": "light"
     },
     "output_type": "display_data"
    }
   ],
   "source": [
    "#q29\n",
    "prior2000 = filter_year(copy.deepcopy(movies), 0, 2000)\n",
    "priorGenre = dict()\n",
    "receiver = bucketize(prior2000, \"genres\")\n",
    "for k in receiver:\n",
    "    priorGenre[k] = len(receiver[k])\n",
    "plot_dict(priorGenre, \"Number of Movies\")"
   ]
  },
  {
   "cell_type": "code",
   "execution_count": 39,
   "metadata": {},
   "outputs": [
    {
     "data": {
      "image/png": "[encoded data removed]",
      "text/plain": [
       "<Figure size 432x288 with 1 Axes>"
      ]
     },
     "metadata": {
      "needs_background": "light"
     },
     "output_type": "display_data"
    }
   ],
   "source": [
    "#q30\n",
    "after2000 = filter_year(copy.deepcopy(movies), 1, 2000)\n",
    "afterGenre = dict()\n",
    "receiver = bucketize(after2000, \"genres\")\n",
    "for k in receiver:\n",
    "    afterGenre[k] = len(receiver[k])\n",
    "plot_dict(afterGenre, \"Number of Movies\")"
   ]
  },
  {
   "cell_type": "code",
   "execution_count": 40,
   "metadata": {
    "scrolled": true
   },
   "outputs": [
    {
     "data": {
      "image/png": "[encoded data removed]",
      "text/plain": [
       "<Figure size 432x288 with 1 Axes>"
      ]
     },
     "metadata": {
      "needs_background": "light"
     },
     "output_type": "display_data"
    }
   ],
   "source": [
    "#q31\n",
    "include2000 = filter_year(copy.deepcopy(movies), 1, 2000)\n",
    "yearBuck = dict()\n",
    "receiver = bucketize(include2000, 'year')\n",
    "for k in receiver:\n",
    "    yearBuck[k] = len(receiver[k])\n",
    "plot_dict(yearBuck, \"Number of Movies\")"
   ]
  },
  {
   "cell_type": "code",
   "execution_count": 41,
   "metadata": {},
   "outputs": [
    {
     "data": {
      "text/plain": [
       "{'Howard Hawks': 42,\n",
       " 'Charles Chaplin': 34,\n",
       " 'Henry Hathaway': 36,\n",
       " 'Stanley Kubrick': 46,\n",
       " 'Taylor Hackford': 32,\n",
       " 'Cecil B. DeMille': 30,\n",
       " 'Lee H. Katzin': 30,\n",
       " 'Richard Fleischer': 32,\n",
       " 'Sidney Lumet': 33,\n",
       " 'George Sherman': 33,\n",
       " 'John Huston': 30,\n",
       " 'Robert Siodmak': 30,\n",
       " 'Eldar Ryazanov': 31,\n",
       " 'Martin Ritt': 32}"
      ]
     },
     "execution_count": 41,
     "metadata": {},
     "output_type": "execute_result"
    }
   ],
   "source": [
    "#q32\n",
    "directors = bucketize(copy.deepcopy(movies), 'directors')\n",
    "span30 = dict()\n",
    "lowest = 2019;\n",
    "highest = 0;\n",
    "for k in directors:\n",
    "    lowest = 2019\n",
    "    highest = 0\n",
    "    if type(directors[k]) is list:\n",
    "        for t in range(len(directors[k])):\n",
    "            if lowest > directors[k][t]['year']:\n",
    "                lowest = directors[k][t]['year']\n",
    "            if highest < directors[k][t]['year']:\n",
    "                highest = directors[k][t]['year']\n",
    "    if (highest - lowest) >= 30:\n",
    "        span30[k] = highest - lowest\n",
    "span30"
   ]
  },
  {
   "cell_type": "code",
   "execution_count": 42,
   "metadata": {},
   "outputs": [
    {
     "data": {
      "text/plain": [
       "{'Kurt Russell': 50,\n",
       " 'Mickey Rooney': 75,\n",
       " 'Robert Mitchum': 51,\n",
       " 'Glenn Ford': 52,\n",
       " 'James Caan': 52,\n",
       " 'Anthony Quinn': 61,\n",
       " 'George Burns': 60,\n",
       " 'Dean Stockwell': 53}"
      ]
     },
     "execution_count": 42,
     "metadata": {},
     "output_type": "execute_result"
    }
   ],
   "source": [
    "#q33\n",
    "actors = bucketize(copy.deepcopy(movies), 'actors')\n",
    "span50 = dict()\n",
    "lowest = 2019;\n",
    "highest = 0;\n",
    "for k in actors:\n",
    "    lowest = 2019\n",
    "    highest = 0\n",
    "    if type(actors[k]) is list:\n",
    "        for t in range(len(actors[k])):\n",
    "            if lowest > actors[k][t]['year']:\n",
    "                lowest = actors[k][t]['year']\n",
    "            if highest < actors[k][t]['year']:\n",
    "                highest = actors[k][t]['year']\n",
    "    if (highest - lowest) >= 50:\n",
    "        span50[k] = highest - lowest\n",
    "span50"
   ]
  },
  {
   "cell_type": "code",
   "execution_count": 43,
   "metadata": {},
   "outputs": [],
   "source": [
    "def row_ranking(row):\n",
    "    return row[\"span\"]"
   ]
  },
  {
   "cell_type": "code",
   "execution_count": 44,
   "metadata": {},
   "outputs": [
    {
     "data": {
      "text/plain": [
       "[{'name': 'Stanley Kubrick', 'span': 46},\n",
       " {'name': 'Howard Hawks', 'span': 42},\n",
       " {'name': 'Henry Hathaway', 'span': 36},\n",
       " {'name': 'Charles Chaplin', 'span': 34},\n",
       " {'name': 'Sidney Lumet', 'span': 33},\n",
       " {'name': 'George Sherman', 'span': 33},\n",
       " {'name': 'Taylor Hackford', 'span': 32},\n",
       " {'name': 'Richard Fleischer', 'span': 32},\n",
       " {'name': 'Martin Ritt', 'span': 32},\n",
       " {'name': 'Eldar Ryazanov', 'span': 31}]"
      ]
     },
     "execution_count": 44,
     "metadata": {},
     "output_type": "execute_result"
    }
   ],
   "source": [
    "#q34\n",
    "directors = bucketize(copy.deepcopy(movies), 'directors')\n",
    "span = dict()\n",
    "namespan = dict()\n",
    "spanlist = []\n",
    "lowest = 2019;\n",
    "highest = 0;\n",
    "for k in directors:\n",
    "    lowest = 2019\n",
    "    highest = 0\n",
    "    namespan = dict()\n",
    "    if type(directors[k]) is list:\n",
    "        for t in range(len(directors[k])):\n",
    "            if lowest > directors[k][t]['year']:\n",
    "                lowest = directors[k][t]['year']\n",
    "            if highest < directors[k][t]['year']:\n",
    "                highest = directors[k][t]['year']\n",
    "        span[k] = highest - lowest\n",
    "    namespan['name'] = k\n",
    "    namespan['span'] = span[k]\n",
    "    spanlist.append(namespan)\n",
    "spanlist.sort(key=row_ranking, reverse=True)\n",
    "spanlist[0:10]"
   ]
  },
  {
   "cell_type": "code",
   "execution_count": 45,
   "metadata": {},
   "outputs": [
    {
     "data": {
      "text/plain": [
       "[{'name': 'Mickey Rooney', 'span': 75},\n",
       " {'name': 'Anthony Quinn', 'span': 61},\n",
       " {'name': 'George Burns', 'span': 60},\n",
       " {'name': 'Dean Stockwell', 'span': 53},\n",
       " {'name': 'Glenn Ford', 'span': 52},\n",
       " {'name': 'James Caan', 'span': 52},\n",
       " {'name': 'Robert Mitchum', 'span': 51},\n",
       " {'name': 'Kurt Russell', 'span': 50},\n",
       " {'name': 'Robert De Niro', 'span': 49},\n",
       " {'name': 'Marlon Brando', 'span': 49}]"
      ]
     },
     "execution_count": 45,
     "metadata": {},
     "output_type": "execute_result"
    }
   ],
   "source": [
    "#q35\n",
    "actors = bucketize(copy.deepcopy(movies), 'actors')\n",
    "span = dict()\n",
    "namespan = dict()\n",
    "spanlist = []\n",
    "lowest = 2019;\n",
    "highest = 0;\n",
    "for k in actors:\n",
    "    lowest = 2019\n",
    "    highest = 0\n",
    "    namespan = dict()\n",
    "    if type(actors[k]) is list:\n",
    "        for t in range(len(actors[k])):\n",
    "            if lowest > actors[k][t]['year']:\n",
    "                lowest = actors[k][t]['year']\n",
    "            if highest < actors[k][t]['year']:\n",
    "                highest = actors[k][t]['year']\n",
    "        span[k] = highest - lowest\n",
    "    namespan['name'] = k\n",
    "    namespan['span'] = span[k]\n",
    "    spanlist.append(namespan)\n",
    "spanlist.sort(key=row_ranking, reverse=True)\n",
    "spanlist[0:10]"
   ]
  },
  {
   "cell_type": "code",
   "execution_count": 46,
   "metadata": {},
   "outputs": [],
   "source": [
    "def row_median(row):\n",
    "    return row[\"rating\"]"
   ]
  },
  {
   "cell_type": "code",
   "execution_count": 47,
   "metadata": {},
   "outputs": [
    {
     "data": {
      "text/plain": [
       "[{'category': 'Animation', 'rating': 7.3, 'count': 45},\n",
       " {'category': 'History', 'rating': 6.7, 'count': 73},\n",
       " {'category': 'War', 'rating': 6.7, 'count': 99}]"
      ]
     },
     "execution_count": 47,
     "metadata": {},
     "output_type": "execute_result"
    }
   ],
   "source": [
    "#q36\n",
    "fullgenres = bucketize(movies, 'genres')\n",
    "result = []\n",
    "for k in fullgenres:\n",
    "    receiver = dict()\n",
    "    fullgenres[k].sort(key=row_median)\n",
    "    receiver['category'] = k\n",
    "    if len(fullgenres[k])%2 == 1:\n",
    "        receiver['rating'] = fullgenres[k][len(fullgenres[k])//2]['rating']\n",
    "    else:\n",
    "        receiver['rating'] = (fullgenres[k][len(fullgenres[k])//2]['rating']+fullgenres[k][len(fullgenres[k])//2-1]['rating'])/2\n",
    "    receiver['count'] = len(fullgenres[k])\n",
    "    result.append(receiver)\n",
    "result.sort(key=row_median,reverse=True)\n",
    "result[0:3]"
   ]
  },
  {
   "cell_type": "code",
   "execution_count": 48,
   "metadata": {},
   "outputs": [
    {
     "data": {
      "text/plain": [
       "[{'category': 1921, 'rating': 8.3, 'count': 1},\n",
       " {'category': 1925, 'rating': 8.2, 'count': 1},\n",
       " {'category': 1919, 'rating': 7.5, 'count': 1},\n",
       " {'category': 1923, 'rating': 7.3, 'count': 2},\n",
       " {'category': 1962, 'rating': 7.2, 'count': 17},\n",
       " {'category': 1964, 'rating': 7.1, 'count': 19},\n",
       " {'category': 1957, 'rating': 7.0, 'count': 24},\n",
       " {'category': 1985, 'rating': 7.0, 'count': 17},\n",
       " {'category': 1976, 'rating': 7.0, 'count': 17},\n",
       " {'category': 1963, 'rating': 6.95, 'count': 10}]"
      ]
     },
     "execution_count": 48,
     "metadata": {},
     "output_type": "execute_result"
    }
   ],
   "source": [
    "#q37\n",
    "fullgenres = bucketize(movies, 'year')\n",
    "result = []\n",
    "for k in fullgenres:\n",
    "    receiver = dict()\n",
    "    fullgenres[k].sort(key=row_median)\n",
    "    receiver['category'] = k\n",
    "    if len(fullgenres[k])%2 == 1:\n",
    "        receiver['rating'] = fullgenres[k][len(fullgenres[k])//2]['rating']\n",
    "    else:\n",
    "        receiver['rating'] = (fullgenres[k][len(fullgenres[k])//2]['rating'] + fullgenres[k][len(fullgenres[k])//2 - 1]['rating'])/2\n",
    "    receiver['count'] = len(fullgenres[k])\n",
    "    result.append(receiver)\n",
    "result.sort(key=row_median,reverse=True)\n",
    "result[0:10]"
   ]
  },
  {
   "cell_type": "code",
   "execution_count": 49,
   "metadata": {},
   "outputs": [
    {
     "data": {
      "text/plain": [
       "[{'category': 1962, 'rating': 7.2, 'count': 17},\n",
       " {'category': 1964, 'rating': 7.1, 'count': 19},\n",
       " {'category': 1957, 'rating': 7.0, 'count': 24},\n",
       " {'category': 1985, 'rating': 7.0, 'count': 17},\n",
       " {'category': 1976, 'rating': 7.0, 'count': 17}]"
      ]
     },
     "execution_count": 49,
     "metadata": {},
     "output_type": "execute_result"
    }
   ],
   "source": [
    "#q38\n",
    "receiver = []\n",
    "for i in range(len(result)):\n",
    "    if result[i]['count'] > 9:\n",
    "        if(len(receiver) == 5):\n",
    "            break;\n",
    "        receiver.append(result[i])\n",
    "receiver"
   ]
  },
  {
   "cell_type": "code",
   "execution_count": 50,
   "metadata": {},
   "outputs": [
    {
     "data": {
      "text/plain": [
       "[{'category': 'Christopher Nolan', 'rating': 8.5, 'count': 9},\n",
       " {'category': 'Leonid Gayday', 'rating': 8.4, 'count': 5},\n",
       " {'category': 'Stanley Kubrick', 'rating': 8.3, 'count': 11},\n",
       " {'category': 'Sergio Leone', 'rating': 8.3, 'count': 7}]"
      ]
     },
     "execution_count": 50,
     "metadata": {},
     "output_type": "execute_result"
    }
   ],
   "source": [
    "#q39\n",
    "fullgenres = bucketize(movies, 'directors')\n",
    "result = []\n",
    "for k in fullgenres:\n",
    "    receiver = dict()\n",
    "    fullgenres[k].sort(key=row_median)\n",
    "    receiver['category'] = k\n",
    "    if len(fullgenres[k])%2 == 1:\n",
    "        receiver['rating'] = fullgenres[k][len(fullgenres[k])//2]['rating']\n",
    "    else:\n",
    "        receiver['rating'] = (fullgenres[k][len(fullgenres[k])//2]['rating'] + fullgenres[k][len(fullgenres[k])//2 - 1]['rating'])/2\n",
    "    receiver['count'] = len(fullgenres[k])\n",
    "    result.append(receiver)\n",
    "result.sort(key=row_median,reverse=True)\n",
    "receiver = []\n",
    "for i in range(len(result)):\n",
    "    if result[i]['count'] > 2:\n",
    "        if(len(receiver) == 4):\n",
    "            break;\n",
    "        receiver.append(result[i])\n",
    "receiver"
   ]
  },
  {
   "cell_type": "code",
   "execution_count": 51,
   "metadata": {},
   "outputs": [
    {
     "data": {
      "text/plain": [
       "[{'category': 'Henry Bergman', 'rating': 8.2, 'count': 5},\n",
       " {'category': 'Ioan Gruffudd', 'rating': 8.2, 'count': 6},\n",
       " {'category': 'Robert Lindsay', 'rating': 8.2, 'count': 6}]"
      ]
     },
     "execution_count": 51,
     "metadata": {},
     "output_type": "execute_result"
    }
   ],
   "source": [
    "#q40\n",
    "fullgenres = bucketize(movies, 'actors')\n",
    "result = []\n",
    "for k in fullgenres:\n",
    "    receiver = dict()\n",
    "    fullgenres[k].sort(key=row_median)\n",
    "    receiver['category'] = k\n",
    "    if len(fullgenres[k])%2 == 1:\n",
    "        receiver['rating'] = fullgenres[k][len(fullgenres[k])//2]['rating']\n",
    "    else:\n",
    "        receiver['rating'] = (fullgenres[k][len(fullgenres[k])//2]['rating'] + fullgenres[k][len(fullgenres[k])//2 - 1]['rating'])/2\n",
    "    receiver['count'] = len(fullgenres[k])\n",
    "    result.append(receiver)\n",
    "result.sort(key=row_median,reverse=True)\n",
    "receiver = []\n",
    "for i in range(len(result)):\n",
    "    if result[i]['count'] > 4:\n",
    "        if(len(receiver) == 3):\n",
    "            break;\n",
    "        receiver.append(result[i])\n",
    "receiver"
   ]
  }
 ],
 "metadata": {
  "kernelspec": {
   "display_name": "Python 3",
   "language": "python",
   "name": "python3"
  },
  "language_info": {
   "codemirror_mode": {
    "name": "ipython",
    "version": 3
   },
   "file_extension": ".py",
   "mimetype": "text/x-python",
   "name": "python",
   "nbconvert_exporter": "python",
   "pygments_lexer": "ipython3",
   "version": "3.7.4"
  }
 },
 "nbformat": 4,
 "nbformat_minor": 2
}
