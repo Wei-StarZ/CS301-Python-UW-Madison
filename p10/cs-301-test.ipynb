{
 "cells": [
  {
   "cell_type": "code",
   "execution_count": 1,
   "metadata": {},
   "outputs": [],
   "source": [
    "# project: p10\n",
    "# submitter: wxia9\n",
    "# partner: none\n",
    "import os, math\n",
    "import matplotlib\n",
    "from math import radians, cos, sin, asin, sqrt\n",
    "from bs4 import BeautifulSoup\n",
    "import json\n",
    "import pandas as pd\n",
    "from pandas import DataFrame, Series\n",
    "import requests"
   ]
  },
  {
   "cell_type": "code",
   "execution_count": 2,
   "metadata": {},
   "outputs": [],
   "source": [
    "def download(filename, url):\n",
    "    # We do not download again if the file already exists\n",
    "    if os.path.exists(filename):\n",
    "        return 0\n",
    "    r = requests.get(url)\n",
    "    r.raise_for_status()\n",
    "    if not filename[-4:] == 'json':\n",
    "        return r\n",
    "    with open(filename, 'w') as f:\n",
    "        json.dump(r.json(), f)\n",
    "    return r.json()"
   ]
  },
  {
   "cell_type": "code",
   "execution_count": 3,
   "metadata": {},
   "outputs": [],
   "source": [
    "receiver = download('countries.json', 'https://raw.githubusercontent.com/tylerharter/caraza-harter-com/master/tyler/cs301/fall19/data/countries.json')"
   ]
  },
  {
   "cell_type": "code",
   "execution_count": 4,
   "metadata": {},
   "outputs": [
    {
     "data": {
      "text/html": [
       "<div>\n",
       "<style scoped>\n",
       "    .dataframe tbody tr th:only-of-type {\n",
       "        vertical-align: middle;\n",
       "    }\n",
       "\n",
       "    .dataframe tbody tr th {\n",
       "        vertical-align: top;\n",
       "    }\n",
       "\n",
       "    .dataframe thead th {\n",
       "        text-align: right;\n",
       "    }\n",
       "</style>\n",
       "<table border=\"1\" class=\"dataframe\">\n",
       "  <thead>\n",
       "    <tr style=\"text-align: right;\">\n",
       "      <th></th>\n",
       "      <th>area</th>\n",
       "      <th>birth-rate</th>\n",
       "      <th>coastline</th>\n",
       "      <th>continent</th>\n",
       "      <th>country</th>\n",
       "      <th>death-rate</th>\n",
       "      <th>gdp-per-capita</th>\n",
       "      <th>infant-mortality</th>\n",
       "      <th>literacy</th>\n",
       "      <th>net-migration</th>\n",
       "      <th>phones</th>\n",
       "      <th>population</th>\n",
       "      <th>region</th>\n",
       "    </tr>\n",
       "  </thead>\n",
       "  <tbody>\n",
       "    <tr>\n",
       "      <td>0</td>\n",
       "      <td>756950</td>\n",
       "      <td>15.23</td>\n",
       "      <td>0.85</td>\n",
       "      <td>South America</td>\n",
       "      <td>Chile</td>\n",
       "      <td>5.81</td>\n",
       "      <td>9900</td>\n",
       "      <td>8.80</td>\n",
       "      <td>96,2</td>\n",
       "      <td>0.00</td>\n",
       "      <td>213,0</td>\n",
       "      <td>16134219</td>\n",
       "      <td>LATIN AMER. &amp; CARIB</td>\n",
       "    </tr>\n",
       "    <tr>\n",
       "      <td>1</td>\n",
       "      <td>665</td>\n",
       "      <td>17.80</td>\n",
       "      <td>24.21</td>\n",
       "      <td>Asia</td>\n",
       "      <td>Bahrain</td>\n",
       "      <td>4.14</td>\n",
       "      <td>16900</td>\n",
       "      <td>17.27</td>\n",
       "      <td>89,1</td>\n",
       "      <td>1.05</td>\n",
       "      <td>281,3</td>\n",
       "      <td>698585</td>\n",
       "      <td>NEAR EAST</td>\n",
       "    </tr>\n",
       "    <tr>\n",
       "      <td>2</td>\n",
       "      <td>22966</td>\n",
       "      <td>28.84</td>\n",
       "      <td>1.68</td>\n",
       "      <td>North America</td>\n",
       "      <td>Belize</td>\n",
       "      <td>5.72</td>\n",
       "      <td>4900</td>\n",
       "      <td>25.69</td>\n",
       "      <td>94,1</td>\n",
       "      <td>0.00</td>\n",
       "      <td>115,7</td>\n",
       "      <td>287730</td>\n",
       "      <td>LATIN AMER. &amp; CARIB</td>\n",
       "    </tr>\n",
       "    <tr>\n",
       "      <td>3</td>\n",
       "      <td>582650</td>\n",
       "      <td>39.72</td>\n",
       "      <td>0.09</td>\n",
       "      <td>Africa</td>\n",
       "      <td>Kenya</td>\n",
       "      <td>14.02</td>\n",
       "      <td>1000</td>\n",
       "      <td>61.47</td>\n",
       "      <td>85,1</td>\n",
       "      <td>-0.10</td>\n",
       "      <td>8,1</td>\n",
       "      <td>34707817</td>\n",
       "      <td>SUB-SAHARAN AFRICA</td>\n",
       "    </tr>\n",
       "    <tr>\n",
       "      <td>4</td>\n",
       "      <td>11854</td>\n",
       "      <td>33.05</td>\n",
       "      <td>3.12</td>\n",
       "      <td>Australia</td>\n",
       "      <td>Marshall Islands</td>\n",
       "      <td>4.78</td>\n",
       "      <td>1600</td>\n",
       "      <td>29.45</td>\n",
       "      <td>93,7</td>\n",
       "      <td>-6.04</td>\n",
       "      <td>91,2</td>\n",
       "      <td>60422</td>\n",
       "      <td>OCEANIA</td>\n",
       "    </tr>\n",
       "    <tr>\n",
       "      <td>...</td>\n",
       "      <td>...</td>\n",
       "      <td>...</td>\n",
       "      <td>...</td>\n",
       "      <td>...</td>\n",
       "      <td>...</td>\n",
       "      <td>...</td>\n",
       "      <td>...</td>\n",
       "      <td>...</td>\n",
       "      <td>...</td>\n",
       "      <td>...</td>\n",
       "      <td>...</td>\n",
       "      <td>...</td>\n",
       "      <td>...</td>\n",
       "    </tr>\n",
       "    <tr>\n",
       "      <td>169</td>\n",
       "      <td>2381740</td>\n",
       "      <td>17.14</td>\n",
       "      <td>0.04</td>\n",
       "      <td>Africa</td>\n",
       "      <td>Algeria</td>\n",
       "      <td>4.61</td>\n",
       "      <td>6000</td>\n",
       "      <td>31.00</td>\n",
       "      <td>70,0</td>\n",
       "      <td>-0.39</td>\n",
       "      <td>78,1</td>\n",
       "      <td>32930091</td>\n",
       "      <td>NORTHERN AFRICA</td>\n",
       "    </tr>\n",
       "    <tr>\n",
       "      <td>170</td>\n",
       "      <td>103000</td>\n",
       "      <td>13.64</td>\n",
       "      <td>4.83</td>\n",
       "      <td>Europe</td>\n",
       "      <td>Iceland</td>\n",
       "      <td>6.72</td>\n",
       "      <td>30900</td>\n",
       "      <td>3.31</td>\n",
       "      <td>99,9</td>\n",
       "      <td>2.38</td>\n",
       "      <td>647,7</td>\n",
       "      <td>299388</td>\n",
       "      <td>WESTERN EUROPE</td>\n",
       "    </tr>\n",
       "    <tr>\n",
       "      <td>171</td>\n",
       "      <td>748</td>\n",
       "      <td>25.37</td>\n",
       "      <td>56.02</td>\n",
       "      <td>Australia</td>\n",
       "      <td>Tonga</td>\n",
       "      <td>5.28</td>\n",
       "      <td>2200</td>\n",
       "      <td>12.62</td>\n",
       "      <td>98,5</td>\n",
       "      <td>0.00</td>\n",
       "      <td>97,7</td>\n",
       "      <td>114689</td>\n",
       "      <td>OCEANIA</td>\n",
       "    </tr>\n",
       "    <tr>\n",
       "      <td>172</td>\n",
       "      <td>27750</td>\n",
       "      <td>36.44</td>\n",
       "      <td>6.38</td>\n",
       "      <td>North America</td>\n",
       "      <td>Haiti</td>\n",
       "      <td>12.17</td>\n",
       "      <td>1600</td>\n",
       "      <td>73.45</td>\n",
       "      <td>52,9</td>\n",
       "      <td>-3.40</td>\n",
       "      <td>16,9</td>\n",
       "      <td>8308504</td>\n",
       "      <td>LATIN AMER. &amp; CARIB</td>\n",
       "    </tr>\n",
       "    <tr>\n",
       "      <td>173</td>\n",
       "      <td>1284000</td>\n",
       "      <td>45.73</td>\n",
       "      <td>0.00</td>\n",
       "      <td>Africa</td>\n",
       "      <td>Chad</td>\n",
       "      <td>16.38</td>\n",
       "      <td>1200</td>\n",
       "      <td>93.82</td>\n",
       "      <td>47,5</td>\n",
       "      <td>-0.11</td>\n",
       "      <td>1,3</td>\n",
       "      <td>9944201</td>\n",
       "      <td>SUB-SAHARAN AFRICA</td>\n",
       "    </tr>\n",
       "  </tbody>\n",
       "</table>\n",
       "<p>174 rows × 13 columns</p>\n",
       "</div>"
      ],
      "text/plain": [
       "        area  birth-rate  coastline      continent           country  \\\n",
       "0     756950       15.23       0.85  South America             Chile   \n",
       "1        665       17.80      24.21           Asia           Bahrain   \n",
       "2      22966       28.84       1.68  North America            Belize   \n",
       "3     582650       39.72       0.09         Africa             Kenya   \n",
       "4      11854       33.05       3.12      Australia  Marshall Islands   \n",
       "..       ...         ...        ...            ...               ...   \n",
       "169  2381740       17.14       0.04         Africa           Algeria   \n",
       "170   103000       13.64       4.83         Europe           Iceland   \n",
       "171      748       25.37      56.02      Australia             Tonga   \n",
       "172    27750       36.44       6.38  North America             Haiti   \n",
       "173  1284000       45.73       0.00         Africa              Chad   \n",
       "\n",
       "     death-rate  gdp-per-capita  infant-mortality literacy  net-migration  \\\n",
       "0          5.81            9900              8.80     96,2           0.00   \n",
       "1          4.14           16900             17.27     89,1           1.05   \n",
       "2          5.72            4900             25.69     94,1           0.00   \n",
       "3         14.02            1000             61.47     85,1          -0.10   \n",
       "4          4.78            1600             29.45     93,7          -6.04   \n",
       "..          ...             ...               ...      ...            ...   \n",
       "169        4.61            6000             31.00     70,0          -0.39   \n",
       "170        6.72           30900              3.31     99,9           2.38   \n",
       "171        5.28            2200             12.62     98,5           0.00   \n",
       "172       12.17            1600             73.45     52,9          -3.40   \n",
       "173       16.38            1200             93.82     47,5          -0.11   \n",
       "\n",
       "    phones  population               region  \n",
       "0    213,0    16134219  LATIN AMER. & CARIB  \n",
       "1    281,3      698585            NEAR EAST  \n",
       "2    115,7      287730  LATIN AMER. & CARIB  \n",
       "3      8,1    34707817   SUB-SAHARAN AFRICA  \n",
       "4     91,2       60422              OCEANIA  \n",
       "..     ...         ...                  ...  \n",
       "169   78,1    32930091      NORTHERN AFRICA  \n",
       "170  647,7      299388       WESTERN EUROPE  \n",
       "171   97,7      114689              OCEANIA  \n",
       "172   16,9     8308504  LATIN AMER. & CARIB  \n",
       "173    1,3     9944201   SUB-SAHARAN AFRICA  \n",
       "\n",
       "[174 rows x 13 columns]"
      ]
     },
     "execution_count": 4,
     "metadata": {},
     "output_type": "execute_result"
    }
   ],
   "source": [
    "countries = pd.read_json('countries.json')\n",
    "countries"
   ]
  },
  {
   "cell_type": "code",
   "execution_count": 5,
   "metadata": {},
   "outputs": [
    {
     "data": {
      "text/plain": [
       "174"
      ]
     },
     "execution_count": 5,
     "metadata": {},
     "output_type": "execute_result"
    }
   ],
   "source": [
    "#q1\n",
    "countries.shape[0]"
   ]
  },
  {
   "cell_type": "code",
   "execution_count": 6,
   "metadata": {},
   "outputs": [
    {
     "data": {
      "text/plain": [
       "127170843"
      ]
     },
     "execution_count": 6,
     "metadata": {},
     "output_type": "execute_result"
    }
   ],
   "source": [
    "#q2\n",
    "countries['area'].sum()"
   ]
  },
  {
   "cell_type": "code",
   "execution_count": 7,
   "metadata": {
    "scrolled": true
   },
   "outputs": [],
   "source": [
    "k = download('capitals.html', 'https://raw.githubusercontent.com/tylerharter/cs301-projects/master/fall19/p10/techslides-snapshot.html')"
   ]
  },
  {
   "cell_type": "code",
   "execution_count": 8,
   "metadata": {
    "scrolled": true
   },
   "outputs": [
    {
     "data": {
      "text/html": [
       "<div>\n",
       "<style scoped>\n",
       "    .dataframe tbody tr th:only-of-type {\n",
       "        vertical-align: middle;\n",
       "    }\n",
       "\n",
       "    .dataframe tbody tr th {\n",
       "        vertical-align: top;\n",
       "    }\n",
       "\n",
       "    .dataframe thead th {\n",
       "        text-align: right;\n",
       "    }\n",
       "</style>\n",
       "<table border=\"1\" class=\"dataframe\">\n",
       "  <thead>\n",
       "    <tr style=\"text-align: right;\">\n",
       "      <th></th>\n",
       "      <th>country</th>\n",
       "      <th>capital</th>\n",
       "      <th>latitude</th>\n",
       "      <th>longitude</th>\n",
       "    </tr>\n",
       "  </thead>\n",
       "  <tbody>\n",
       "    <tr>\n",
       "      <td>0</td>\n",
       "      <td>Afghanistan</td>\n",
       "      <td>Kabul</td>\n",
       "      <td>34.516667</td>\n",
       "      <td>69.183333</td>\n",
       "    </tr>\n",
       "    <tr>\n",
       "      <td>1</td>\n",
       "      <td>Albania</td>\n",
       "      <td>Tirana</td>\n",
       "      <td>41.316667</td>\n",
       "      <td>19.816667</td>\n",
       "    </tr>\n",
       "    <tr>\n",
       "      <td>2</td>\n",
       "      <td>Algeria</td>\n",
       "      <td>Algiers</td>\n",
       "      <td>36.750000</td>\n",
       "      <td>3.050000</td>\n",
       "    </tr>\n",
       "    <tr>\n",
       "      <td>3</td>\n",
       "      <td>Anguilla</td>\n",
       "      <td>The Valley</td>\n",
       "      <td>18.216667</td>\n",
       "      <td>-63.050000</td>\n",
       "    </tr>\n",
       "    <tr>\n",
       "      <td>4</td>\n",
       "      <td>Argentina</td>\n",
       "      <td>Buenos Aires</td>\n",
       "      <td>-34.583333</td>\n",
       "      <td>-58.666667</td>\n",
       "    </tr>\n",
       "  </tbody>\n",
       "</table>\n",
       "</div>"
      ],
      "text/plain": [
       "       country       capital   latitude  longitude\n",
       "0  Afghanistan         Kabul  34.516667  69.183333\n",
       "1      Albania        Tirana  41.316667  19.816667\n",
       "2      Algeria       Algiers  36.750000   3.050000\n",
       "3     Anguilla    The Valley  18.216667 -63.050000\n",
       "4    Argentina  Buenos Aires -34.583333 -58.666667"
      ]
     },
     "execution_count": 8,
     "metadata": {},
     "output_type": "execute_result"
    }
   ],
   "source": [
    "\n",
    "page = BeautifulSoup(k.text, \"html.parser\")\n",
    "tables = page.find_all(\"table\")\n",
    "trl = tables[0]\n",
    "trs = trl.find_all(\"tr\")\n",
    "header = ['country', 'capital', 'latitude', 'longitude']\n",
    "trs = trs[1:]\n",
    "resultlist = list()\n",
    "receivingdict = dict()\n",
    "for tr in trs:\n",
    "    receivingdict = dict()\n",
    "    tds = tr.find_all('td')\n",
    "    if countries['country'].str.contains(tds[0].get_text()).any():\n",
    "        for i in range(4):\n",
    "            receivingdict[header[i]] = tds[i].get_text()\n",
    "        resultlist.append(receivingdict)\n",
    "with open('capitals.json', 'w') as f:\n",
    "    json.dump(resultlist, f)\n",
    "capitals = pd.read_json('capitals.json')\n",
    "capitals.head()"
   ]
  },
  {
   "cell_type": "code",
   "execution_count": 9,
   "metadata": {},
   "outputs": [
    {
     "data": {
      "text/plain": [
       "['Afghanistan',\n",
       " 'Albania',\n",
       " 'Algeria',\n",
       " 'Anguilla',\n",
       " 'Argentina',\n",
       " 'Armenia',\n",
       " 'Aruba',\n",
       " 'Australia',\n",
       " 'Austria',\n",
       " 'Azerbaijan',\n",
       " 'Bahrain',\n",
       " 'Bangladesh',\n",
       " 'Barbados',\n",
       " 'Belarus',\n",
       " 'Belgium',\n",
       " 'Belize',\n",
       " 'Benin',\n",
       " 'Bermuda',\n",
       " 'Bhutan',\n",
       " 'Bolivia',\n",
       " 'Botswana',\n",
       " 'Brazil',\n",
       " 'Bulgaria',\n",
       " 'Burkina Faso',\n",
       " 'Burundi',\n",
       " 'Cambodia',\n",
       " 'Cameroon',\n",
       " 'Canada',\n",
       " 'Cape Verde',\n",
       " 'Cayman Islands',\n",
       " 'Chad',\n",
       " 'Chile',\n",
       " 'China',\n",
       " 'Colombia',\n",
       " 'Comoros',\n",
       " 'Costa Rica',\n",
       " 'Croatia',\n",
       " 'Cuba',\n",
       " 'Czech Republic',\n",
       " 'Denmark',\n",
       " 'Djibouti',\n",
       " 'Dominica',\n",
       " 'Dominican Republic',\n",
       " 'Ecuador',\n",
       " 'Egypt',\n",
       " 'El Salvador',\n",
       " 'Equatorial Guinea',\n",
       " 'Eritrea',\n",
       " 'Estonia',\n",
       " 'Ethiopia',\n",
       " 'Fiji',\n",
       " 'Finland',\n",
       " 'France',\n",
       " 'French Polynesia',\n",
       " 'Gabon',\n",
       " 'Georgia',\n",
       " 'Germany',\n",
       " 'Ghana',\n",
       " 'Greece',\n",
       " 'Grenada',\n",
       " 'Guam',\n",
       " 'Guatemala',\n",
       " 'Guinea',\n",
       " 'Guinea-Bissau',\n",
       " 'Guyana',\n",
       " 'Haiti',\n",
       " 'Honduras',\n",
       " 'Hungary',\n",
       " 'Iceland',\n",
       " 'India',\n",
       " 'Indonesia',\n",
       " 'Iran',\n",
       " 'Iraq',\n",
       " 'Ireland',\n",
       " 'Israel',\n",
       " 'Italy',\n",
       " 'Jamaica',\n",
       " 'Japan',\n",
       " 'Jordan',\n",
       " 'Kazakhstan',\n",
       " 'Kenya',\n",
       " 'Kuwait',\n",
       " 'Kyrgyzstan',\n",
       " 'Laos',\n",
       " 'Latvia',\n",
       " 'Lebanon',\n",
       " 'Lesotho',\n",
       " 'Liberia',\n",
       " 'Libya',\n",
       " 'Liechtenstein',\n",
       " 'Lithuania',\n",
       " 'Luxembourg',\n",
       " 'Madagascar',\n",
       " 'Malawi',\n",
       " 'Malaysia',\n",
       " 'Maldives',\n",
       " 'Mali',\n",
       " 'Malta',\n",
       " 'Marshall Islands',\n",
       " 'Mauritania',\n",
       " 'Mauritius',\n",
       " 'Mexico',\n",
       " 'Moldova',\n",
       " 'Monaco',\n",
       " 'Mongolia',\n",
       " 'Morocco',\n",
       " 'Mozambique',\n",
       " 'Namibia',\n",
       " 'Nepal',\n",
       " 'Netherlands',\n",
       " 'New Caledonia',\n",
       " 'New Zealand',\n",
       " 'Nicaragua',\n",
       " 'Niger',\n",
       " 'Nigeria',\n",
       " 'Norway',\n",
       " 'Oman',\n",
       " 'Pakistan',\n",
       " 'Palau',\n",
       " 'Panama',\n",
       " 'Papua New Guinea',\n",
       " 'Paraguay',\n",
       " 'Peru',\n",
       " 'Philippines',\n",
       " 'Poland',\n",
       " 'Portugal',\n",
       " 'Puerto Rico',\n",
       " 'Qatar',\n",
       " 'Romania',\n",
       " 'Russia',\n",
       " 'Rwanda',\n",
       " 'Saint Helena',\n",
       " 'Saint Lucia',\n",
       " 'Saint Vincent and the Grenadines',\n",
       " 'Samoa',\n",
       " 'San Marino',\n",
       " 'Saudi Arabia',\n",
       " 'Senegal',\n",
       " 'Seychelles',\n",
       " 'Sierra Leone',\n",
       " 'Singapore',\n",
       " 'Slovenia',\n",
       " 'Somalia',\n",
       " 'South Africa',\n",
       " 'Spain',\n",
       " 'Sri Lanka',\n",
       " 'Sudan',\n",
       " 'Suriname',\n",
       " 'Swaziland',\n",
       " 'Sweden',\n",
       " 'Switzerland',\n",
       " 'Syria',\n",
       " 'Taiwan',\n",
       " 'Tajikistan',\n",
       " 'Tanzania',\n",
       " 'Thailand',\n",
       " 'Togo',\n",
       " 'Tonga',\n",
       " 'Tunisia',\n",
       " 'Turkey',\n",
       " 'Turkmenistan',\n",
       " 'Uganda',\n",
       " 'Ukraine',\n",
       " 'United Arab Emirates',\n",
       " 'United Kingdom',\n",
       " 'United States',\n",
       " 'Uruguay',\n",
       " 'Uzbekistan',\n",
       " 'Vanuatu',\n",
       " 'Venezuela',\n",
       " 'Vietnam',\n",
       " 'Yemen',\n",
       " 'Zambia',\n",
       " 'Zimbabwe']"
      ]
     },
     "execution_count": 9,
     "metadata": {},
     "output_type": "execute_result"
    }
   ],
   "source": [
    "#q3\n",
    "receiver = capitals['country']\n",
    "sorted(receiver.tolist())"
   ]
  },
  {
   "cell_type": "code",
   "execution_count": 10,
   "metadata": {
    "scrolled": true
   },
   "outputs": [
    {
     "data": {
      "text/plain": [
       "'Havana'"
      ]
     },
     "execution_count": 10,
     "metadata": {},
     "output_type": "execute_result"
    }
   ],
   "source": [
    "#q4\n",
    "result = capitals['country'] == 'Cuba'\n",
    "capitals[result]['capital'][capitals[result].index[0]]"
   ]
  },
  {
   "cell_type": "code",
   "execution_count": 11,
   "metadata": {},
   "outputs": [
    {
     "data": {
      "text/plain": [
       "'Georgia'"
      ]
     },
     "execution_count": 11,
     "metadata": {},
     "output_type": "execute_result"
    }
   ],
   "source": [
    "#q5\n",
    "result = capitals['capital'] == 'Tbilisi'\n",
    "capitals[result]['country'][capitals[result].index[0]]"
   ]
  },
  {
   "cell_type": "code",
   "execution_count": 12,
   "metadata": {},
   "outputs": [
    {
     "data": {
      "text/plain": [
       "['New Zealand',\n",
       " 'Australia',\n",
       " 'Uruguay',\n",
       " 'Argentina',\n",
       " 'Chile',\n",
       " 'Lesotho',\n",
       " 'Swaziland']"
      ]
     },
     "execution_count": 12,
     "metadata": {},
     "output_type": "execute_result"
    }
   ],
   "source": [
    "#q6\n",
    "southern = capitals.sort_values(by = ['latitude'])['country'].tolist()\n",
    "southern[0:7]"
   ]
  },
  {
   "cell_type": "code",
   "execution_count": 13,
   "metadata": {},
   "outputs": [
    {
     "data": {
      "text/plain": [
       "['Iceland', 'Finland', 'Norway', 'Estonia', 'Sweden']"
      ]
     },
     "execution_count": 13,
     "metadata": {},
     "output_type": "execute_result"
    }
   ],
   "source": [
    "#q7\n",
    "receiver = southern[-5:]\n",
    "receiver.reverse()\n",
    "receiver"
   ]
  },
  {
   "cell_type": "code",
   "execution_count": 14,
   "metadata": {
    "scrolled": true
   },
   "outputs": [
    {
     "data": {
      "text/html": [
       "<div>\n",
       "<style scoped>\n",
       "    .dataframe tbody tr th:only-of-type {\n",
       "        vertical-align: middle;\n",
       "    }\n",
       "\n",
       "    .dataframe tbody tr th {\n",
       "        vertical-align: top;\n",
       "    }\n",
       "\n",
       "    .dataframe thead th {\n",
       "        text-align: right;\n",
       "    }\n",
       "</style>\n",
       "<table border=\"1\" class=\"dataframe\">\n",
       "  <thead>\n",
       "    <tr style=\"text-align: right;\">\n",
       "      <th></th>\n",
       "      <th>area</th>\n",
       "      <th>birth-rate</th>\n",
       "      <th>coastline</th>\n",
       "      <th>death-rate</th>\n",
       "      <th>gdp-per-capita</th>\n",
       "      <th>infant-mortality</th>\n",
       "      <th>net-migration</th>\n",
       "      <th>population</th>\n",
       "    </tr>\n",
       "  </thead>\n",
       "  <tbody>\n",
       "    <tr>\n",
       "      <td>count</td>\n",
       "      <td>1.740000e+02</td>\n",
       "      <td>174.000000</td>\n",
       "      <td>174.000000</td>\n",
       "      <td>174.000000</td>\n",
       "      <td>174.000000</td>\n",
       "      <td>174.000000</td>\n",
       "      <td>174.000000</td>\n",
       "      <td>1.740000e+02</td>\n",
       "    </tr>\n",
       "    <tr>\n",
       "      <td>mean</td>\n",
       "      <td>7.308669e+05</td>\n",
       "      <td>22.463851</td>\n",
       "      <td>10.895000</td>\n",
       "      <td>9.625172</td>\n",
       "      <td>9829.885057</td>\n",
       "      <td>37.749425</td>\n",
       "      <td>0.124425</td>\n",
       "      <td>3.598794e+07</td>\n",
       "    </tr>\n",
       "    <tr>\n",
       "      <td>std</td>\n",
       "      <td>2.011115e+06</td>\n",
       "      <td>11.278992</td>\n",
       "      <td>38.347494</td>\n",
       "      <td>5.187143</td>\n",
       "      <td>10624.354342</td>\n",
       "      <td>35.242398</td>\n",
       "      <td>4.479222</td>\n",
       "      <td>1.337194e+08</td>\n",
       "    </tr>\n",
       "    <tr>\n",
       "      <td>min</td>\n",
       "      <td>2.000000e+00</td>\n",
       "      <td>8.250000</td>\n",
       "      <td>0.000000</td>\n",
       "      <td>2.410000</td>\n",
       "      <td>500.000000</td>\n",
       "      <td>2.290000</td>\n",
       "      <td>-13.920000</td>\n",
       "      <td>7.502000e+03</td>\n",
       "    </tr>\n",
       "    <tr>\n",
       "      <td>25%</td>\n",
       "      <td>2.777000e+04</td>\n",
       "      <td>12.597500</td>\n",
       "      <td>0.090000</td>\n",
       "      <td>6.027500</td>\n",
       "      <td>1900.000000</td>\n",
       "      <td>8.540000</td>\n",
       "      <td>-0.907500</td>\n",
       "      <td>2.027785e+06</td>\n",
       "    </tr>\n",
       "    <tr>\n",
       "      <td>50%</td>\n",
       "      <td>1.375200e+05</td>\n",
       "      <td>20.010000</td>\n",
       "      <td>0.450000</td>\n",
       "      <td>8.230000</td>\n",
       "      <td>5250.000000</td>\n",
       "      <td>23.920000</td>\n",
       "      <td>0.000000</td>\n",
       "      <td>7.454650e+06</td>\n",
       "    </tr>\n",
       "    <tr>\n",
       "      <td>75%</td>\n",
       "      <td>5.244775e+05</td>\n",
       "      <td>29.860000</td>\n",
       "      <td>3.165000</td>\n",
       "      <td>11.715000</td>\n",
       "      <td>14725.000000</td>\n",
       "      <td>61.732500</td>\n",
       "      <td>0.815000</td>\n",
       "      <td>2.287946e+07</td>\n",
       "    </tr>\n",
       "    <tr>\n",
       "      <td>max</td>\n",
       "      <td>1.707520e+07</td>\n",
       "      <td>50.730000</td>\n",
       "      <td>331.660000</td>\n",
       "      <td>29.740000</td>\n",
       "      <td>55100.000000</td>\n",
       "      <td>163.070000</td>\n",
       "      <td>23.060000</td>\n",
       "      <td>1.313974e+09</td>\n",
       "    </tr>\n",
       "  </tbody>\n",
       "</table>\n",
       "</div>"
      ],
      "text/plain": [
       "               area  birth-rate   coastline  death-rate  gdp-per-capita  \\\n",
       "count  1.740000e+02  174.000000  174.000000  174.000000      174.000000   \n",
       "mean   7.308669e+05   22.463851   10.895000    9.625172     9829.885057   \n",
       "std    2.011115e+06   11.278992   38.347494    5.187143    10624.354342   \n",
       "min    2.000000e+00    8.250000    0.000000    2.410000      500.000000   \n",
       "25%    2.777000e+04   12.597500    0.090000    6.027500     1900.000000   \n",
       "50%    1.375200e+05   20.010000    0.450000    8.230000     5250.000000   \n",
       "75%    5.244775e+05   29.860000    3.165000   11.715000    14725.000000   \n",
       "max    1.707520e+07   50.730000  331.660000   29.740000    55100.000000   \n",
       "\n",
       "       infant-mortality  net-migration    population  \n",
       "count        174.000000     174.000000  1.740000e+02  \n",
       "mean          37.749425       0.124425  3.598794e+07  \n",
       "std           35.242398       4.479222  1.337194e+08  \n",
       "min            2.290000     -13.920000  7.502000e+03  \n",
       "25%            8.540000      -0.907500  2.027785e+06  \n",
       "50%           23.920000       0.000000  7.454650e+06  \n",
       "75%           61.732500       0.815000  2.287946e+07  \n",
       "max          163.070000      23.060000  1.313974e+09  "
      ]
     },
     "execution_count": 14,
     "metadata": {},
     "output_type": "execute_result"
    }
   ],
   "source": [
    "#q8\n",
    "countries.describe()"
   ]
  },
  {
   "cell_type": "code",
   "execution_count": 15,
   "metadata": {},
   "outputs": [
    {
     "data": {
      "text/html": [
       "<div>\n",
       "<style scoped>\n",
       "    .dataframe tbody tr th:only-of-type {\n",
       "        vertical-align: middle;\n",
       "    }\n",
       "\n",
       "    .dataframe tbody tr th {\n",
       "        vertical-align: top;\n",
       "    }\n",
       "\n",
       "    .dataframe thead th {\n",
       "        text-align: right;\n",
       "    }\n",
       "</style>\n",
       "<table border=\"1\" class=\"dataframe\">\n",
       "  <thead>\n",
       "    <tr style=\"text-align: right;\">\n",
       "      <th></th>\n",
       "      <th>area</th>\n",
       "      <th>birth-rate</th>\n",
       "      <th>coastline</th>\n",
       "      <th>death-rate</th>\n",
       "      <th>gdp-per-capita</th>\n",
       "      <th>infant-mortality</th>\n",
       "      <th>literacy</th>\n",
       "      <th>net-migration</th>\n",
       "      <th>phones</th>\n",
       "      <th>population</th>\n",
       "    </tr>\n",
       "  </thead>\n",
       "  <tbody>\n",
       "    <tr>\n",
       "      <td>count</td>\n",
       "      <td>1.740000e+02</td>\n",
       "      <td>174.000000</td>\n",
       "      <td>174.000000</td>\n",
       "      <td>174.000000</td>\n",
       "      <td>174.000000</td>\n",
       "      <td>174.000000</td>\n",
       "      <td>174.000000</td>\n",
       "      <td>174.000000</td>\n",
       "      <td>174.000000</td>\n",
       "      <td>1.740000e+02</td>\n",
       "    </tr>\n",
       "    <tr>\n",
       "      <td>mean</td>\n",
       "      <td>7.308669e+05</td>\n",
       "      <td>22.463851</td>\n",
       "      <td>10.895000</td>\n",
       "      <td>9.625172</td>\n",
       "      <td>9829.885057</td>\n",
       "      <td>37.749425</td>\n",
       "      <td>82.362069</td>\n",
       "      <td>0.124425</td>\n",
       "      <td>215.770690</td>\n",
       "      <td>3.598794e+07</td>\n",
       "    </tr>\n",
       "    <tr>\n",
       "      <td>std</td>\n",
       "      <td>2.011115e+06</td>\n",
       "      <td>11.278992</td>\n",
       "      <td>38.347494</td>\n",
       "      <td>5.187143</td>\n",
       "      <td>10624.354342</td>\n",
       "      <td>35.242398</td>\n",
       "      <td>20.003166</td>\n",
       "      <td>4.479222</td>\n",
       "      <td>218.713811</td>\n",
       "      <td>1.337194e+08</td>\n",
       "    </tr>\n",
       "    <tr>\n",
       "      <td>min</td>\n",
       "      <td>2.000000e+00</td>\n",
       "      <td>8.250000</td>\n",
       "      <td>0.000000</td>\n",
       "      <td>2.410000</td>\n",
       "      <td>500.000000</td>\n",
       "      <td>2.290000</td>\n",
       "      <td>17.600000</td>\n",
       "      <td>-13.920000</td>\n",
       "      <td>1.300000</td>\n",
       "      <td>7.502000e+03</td>\n",
       "    </tr>\n",
       "    <tr>\n",
       "      <td>25%</td>\n",
       "      <td>2.777000e+04</td>\n",
       "      <td>12.597500</td>\n",
       "      <td>0.090000</td>\n",
       "      <td>6.027500</td>\n",
       "      <td>1900.000000</td>\n",
       "      <td>8.540000</td>\n",
       "      <td>70.100000</td>\n",
       "      <td>-0.907500</td>\n",
       "      <td>32.000000</td>\n",
       "      <td>2.027785e+06</td>\n",
       "    </tr>\n",
       "    <tr>\n",
       "      <td>50%</td>\n",
       "      <td>1.375200e+05</td>\n",
       "      <td>20.010000</td>\n",
       "      <td>0.450000</td>\n",
       "      <td>8.230000</td>\n",
       "      <td>5250.000000</td>\n",
       "      <td>23.920000</td>\n",
       "      <td>92.100000</td>\n",
       "      <td>0.000000</td>\n",
       "      <td>140.350000</td>\n",
       "      <td>7.454650e+06</td>\n",
       "    </tr>\n",
       "    <tr>\n",
       "      <td>75%</td>\n",
       "      <td>5.244775e+05</td>\n",
       "      <td>29.860000</td>\n",
       "      <td>3.165000</td>\n",
       "      <td>11.715000</td>\n",
       "      <td>14725.000000</td>\n",
       "      <td>61.732500</td>\n",
       "      <td>98.000000</td>\n",
       "      <td>0.815000</td>\n",
       "      <td>331.750000</td>\n",
       "      <td>2.287946e+07</td>\n",
       "    </tr>\n",
       "    <tr>\n",
       "      <td>max</td>\n",
       "      <td>1.707520e+07</td>\n",
       "      <td>50.730000</td>\n",
       "      <td>331.660000</td>\n",
       "      <td>29.740000</td>\n",
       "      <td>55100.000000</td>\n",
       "      <td>163.070000</td>\n",
       "      <td>100.000000</td>\n",
       "      <td>23.060000</td>\n",
       "      <td>1035.600000</td>\n",
       "      <td>1.313974e+09</td>\n",
       "    </tr>\n",
       "  </tbody>\n",
       "</table>\n",
       "</div>"
      ],
      "text/plain": [
       "               area  birth-rate   coastline  death-rate  gdp-per-capita  \\\n",
       "count  1.740000e+02  174.000000  174.000000  174.000000      174.000000   \n",
       "mean   7.308669e+05   22.463851   10.895000    9.625172     9829.885057   \n",
       "std    2.011115e+06   11.278992   38.347494    5.187143    10624.354342   \n",
       "min    2.000000e+00    8.250000    0.000000    2.410000      500.000000   \n",
       "25%    2.777000e+04   12.597500    0.090000    6.027500     1900.000000   \n",
       "50%    1.375200e+05   20.010000    0.450000    8.230000     5250.000000   \n",
       "75%    5.244775e+05   29.860000    3.165000   11.715000    14725.000000   \n",
       "max    1.707520e+07   50.730000  331.660000   29.740000    55100.000000   \n",
       "\n",
       "       infant-mortality    literacy  net-migration       phones    population  \n",
       "count        174.000000  174.000000     174.000000   174.000000  1.740000e+02  \n",
       "mean          37.749425   82.362069       0.124425   215.770690  3.598794e+07  \n",
       "std           35.242398   20.003166       4.479222   218.713811  1.337194e+08  \n",
       "min            2.290000   17.600000     -13.920000     1.300000  7.502000e+03  \n",
       "25%            8.540000   70.100000      -0.907500    32.000000  2.027785e+06  \n",
       "50%           23.920000   92.100000       0.000000   140.350000  7.454650e+06  \n",
       "75%           61.732500   98.000000       0.815000   331.750000  2.287946e+07  \n",
       "max          163.070000  100.000000      23.060000  1035.600000  1.313974e+09  "
      ]
     },
     "execution_count": 15,
     "metadata": {},
     "output_type": "execute_result"
    }
   ],
   "source": [
    "#q9\n",
    "countries = countries.replace(',', '.', regex = True)\n",
    "countries['literacy'] = countries['literacy'].astype(float)\n",
    "countries['phones'] = countries['phones'].astype(float)\n",
    "countries.describe()"
   ]
  },
  {
   "cell_type": "code",
   "execution_count": 16,
   "metadata": {},
   "outputs": [
    {
     "data": {
      "text/plain": [
       "'Belarus'"
      ]
     },
     "execution_count": 16,
     "metadata": {},
     "output_type": "execute_result"
    }
   ],
   "source": [
    "#q10\n",
    "Europe = countries[(countries['coastline'] == 0)  & (countries['continent'] == 'Europe')]\n",
    "Europe[Europe['area'] == Europe['area'].max()]['country'][Europe[Europe['area'] == Europe['area'].max()].index[0]]"
   ]
  },
  {
   "cell_type": "code",
   "execution_count": 17,
   "metadata": {},
   "outputs": [
    {
     "data": {
      "text/plain": [
       "'Kazakhstan'"
      ]
     },
     "execution_count": 17,
     "metadata": {},
     "output_type": "execute_result"
    }
   ],
   "source": [
    "#q11\n",
    "AsiaLand = countries[(countries['coastline'] == 0)  & (countries['continent'] == 'Asia')]\n",
    "AsiaLand[AsiaLand['area'] == AsiaLand['area'].max()]['country'][AsiaLand[AsiaLand['area'] == AsiaLand['area'].max()].index[0]]"
   ]
  },
  {
   "cell_type": "code",
   "execution_count": 18,
   "metadata": {},
   "outputs": [
    {
     "data": {
      "text/plain": [
       "'Afghanistan'"
      ]
     },
     "execution_count": 18,
     "metadata": {},
     "output_type": "execute_result"
    }
   ],
   "source": [
    "#q12\n",
    "AsiaLand[AsiaLand['population'] == AsiaLand['population'].max()]['country'][AsiaLand[AsiaLand['population'] == AsiaLand['population'].max()].index[0]]"
   ]
  },
  {
   "cell_type": "code",
   "execution_count": 19,
   "metadata": {},
   "outputs": [],
   "source": [
    "#copied from: https://stackoverflow.com/questions/4913349/haversine-formula-in-python-bearing-and-distance-between-two-gps-points\n",
    "def haversine(lon1, lat1, lon2, lat2):\n",
    "    \"\"\"\n",
    "    Calculate the great circle distance between two points \n",
    "    on the earth (specified in decimal degrees)\n",
    "    \"\"\"\n",
    "    # convert decimal degrees to radians \n",
    "    lon1, lat1, lon2, lat2 = map(radians, [lon1, lat1, lon2, lat2])\n",
    "\n",
    "    # haversine formula \n",
    "    dlon = lon2 - lon1 \n",
    "    dlat = lat2 - lat1 \n",
    "    a = sin(dlat/2)**2 + cos(lat1) * cos(lat2) * sin(dlon/2)**2\n",
    "    c = 2 * asin(sqrt(a)) \n",
    "    r = 3956 # Radius of earth in kilometers. Use 3956 for miles\n",
    "    return c * r"
   ]
  },
  {
   "cell_type": "code",
   "execution_count": 20,
   "metadata": {},
   "outputs": [
    {
     "data": {
      "text/plain": [
       "1.433899492072933"
      ]
     },
     "execution_count": 20,
     "metadata": {},
     "output_type": "execute_result"
    }
   ],
   "source": [
    "#q13\n",
    "haversine(-89.411893, 43.070231,-89.384113, 43.074645)"
   ]
  },
  {
   "cell_type": "code",
   "execution_count": 21,
   "metadata": {},
   "outputs": [
    {
     "data": {
      "text/plain": [
       "6032.330932363535"
      ]
     },
     "execution_count": 21,
     "metadata": {},
     "output_type": "execute_result"
    }
   ],
   "source": [
    "#q14\n",
    "lon1 = capitals['longitude'][capitals[capitals['country'] == 'Japan'].index[0]]\n",
    "lat1 = capitals['latitude'][capitals[capitals['country'] == 'Japan'].index[0]]\n",
    "lon2 = capitals['longitude'][capitals[capitals['country'] == 'France'].index[0]]\n",
    "lat2 = capitals['latitude'][capitals[capitals['country'] == 'France'].index[0]]\n",
    "haversine(lon1,lat1,lon2,lat2)"
   ]
  },
  {
   "cell_type": "code",
   "execution_count": 22,
   "metadata": {},
   "outputs": [
    {
     "data": {
      "text/html": [
       "<div>\n",
       "<style scoped>\n",
       "    .dataframe tbody tr th:only-of-type {\n",
       "        vertical-align: middle;\n",
       "    }\n",
       "\n",
       "    .dataframe tbody tr th {\n",
       "        vertical-align: top;\n",
       "    }\n",
       "\n",
       "    .dataframe thead th {\n",
       "        text-align: right;\n",
       "    }\n",
       "</style>\n",
       "<table border=\"1\" class=\"dataframe\">\n",
       "  <thead>\n",
       "    <tr style=\"text-align: right;\">\n",
       "      <th></th>\n",
       "      <th>Guam</th>\n",
       "      <th>New Zealand</th>\n",
       "      <th>Australia</th>\n",
       "    </tr>\n",
       "  </thead>\n",
       "  <tbody>\n",
       "    <tr>\n",
       "      <td>Guam</td>\n",
       "      <td>NaN</td>\n",
       "      <td>4239.31</td>\n",
       "      <td>3377.1</td>\n",
       "    </tr>\n",
       "    <tr>\n",
       "      <td>New Zealand</td>\n",
       "      <td>4239.31</td>\n",
       "      <td>NaN</td>\n",
       "      <td>1445.15</td>\n",
       "    </tr>\n",
       "    <tr>\n",
       "      <td>Australia</td>\n",
       "      <td>3377.1</td>\n",
       "      <td>1445.15</td>\n",
       "      <td>NaN</td>\n",
       "    </tr>\n",
       "  </tbody>\n",
       "</table>\n",
       "</div>"
      ],
      "text/plain": [
       "                Guam New Zealand Australia\n",
       "Guam             NaN     4239.31    3377.1\n",
       "New Zealand  4239.31         NaN   1445.15\n",
       "Australia     3377.1     1445.15       NaN"
      ]
     },
     "execution_count": 22,
     "metadata": {},
     "output_type": "execute_result"
    }
   ],
   "source": [
    "#q15\n",
    "Guamlon = capitals['longitude'][capitals[capitals['country'] == 'Guam'].index[0]]\n",
    "Guamlat = capitals['latitude'][capitals[capitals['country'] == 'Guam'].index[0]]\n",
    "Newlon = capitals['longitude'][capitals[capitals['country'] == 'New Zealand'].index[0]]\n",
    "Newlat = capitals['latitude'][capitals[capitals['country'] == 'New Zealand'].index[0]]\n",
    "Auslon = capitals['longitude'][capitals[capitals['country'] == 'Australia'].index[0]]\n",
    "Auslat = capitals['latitude'][capitals[capitals['country'] == 'Australia'].index[0]]\n",
    "df =  DataFrame({\n",
    "    \"Guam\": [\"NaN\", haversine(Guamlon,Guamlat,Newlon,Newlat), haversine(Guamlon,Guamlat,Auslon,Auslat)],\n",
    "    \"New Zealand\": [haversine(Guamlon,Guamlat,Newlon,Newlat),\"NaN\",haversine(Auslon,Auslat,Newlon,Newlat)],\n",
    "    \"Australia\": [haversine(Guamlon,Guamlat,Auslon,Auslat),haversine(Auslon,Auslat,Newlon,Newlat),\"NaN\"]\n",
    "}, index=[\"Guam\", \"New Zealand\", \"Australia\"])\n",
    "df"
   ]
  },
  {
   "cell_type": "code",
   "execution_count": 23,
   "metadata": {},
   "outputs": [
    {
     "data": {
      "text/html": [
       "<div>\n",
       "<style scoped>\n",
       "    .dataframe tbody tr th:only-of-type {\n",
       "        vertical-align: middle;\n",
       "    }\n",
       "\n",
       "    .dataframe tbody tr th {\n",
       "        vertical-align: top;\n",
       "    }\n",
       "\n",
       "    .dataframe thead th {\n",
       "        text-align: right;\n",
       "    }\n",
       "</style>\n",
       "<table border=\"1\" class=\"dataframe\">\n",
       "  <thead>\n",
       "    <tr style=\"text-align: right;\">\n",
       "      <th></th>\n",
       "      <th>Marshall Islands</th>\n",
       "      <th>French Polynesia</th>\n",
       "      <th>New Zealand</th>\n",
       "      <th>Vanuatu</th>\n",
       "      <th>Palau</th>\n",
       "      <th>Papua New Guinea</th>\n",
       "      <th>Guam</th>\n",
       "      <th>Samoa</th>\n",
       "      <th>New Caledonia</th>\n",
       "      <th>Australia</th>\n",
       "      <th>Fiji</th>\n",
       "      <th>Tonga</th>\n",
       "    </tr>\n",
       "  </thead>\n",
       "  <tbody>\n",
       "    <tr>\n",
       "      <td>Marshall Islands</td>\n",
       "      <td>NaN</td>\n",
       "      <td>3159.856137</td>\n",
       "      <td>3348.725378</td>\n",
       "      <td>1727.328621</td>\n",
       "      <td>2516.301728</td>\n",
       "      <td>2019.144119</td>\n",
       "      <td>1861.584428</td>\n",
       "      <td>1849.150692</td>\n",
       "      <td>2054.905160</td>\n",
       "      <td>3263.901948</td>\n",
       "      <td>1806.972599</td>\n",
       "      <td>2151.129410</td>\n",
       "    </tr>\n",
       "    <tr>\n",
       "      <td>French Polynesia</td>\n",
       "      <td>3159.856137</td>\n",
       "      <td>NaN</td>\n",
       "      <td>2668.807328</td>\n",
       "      <td>2765.339382</td>\n",
       "      <td>5447.018761</td>\n",
       "      <td>4265.757856</td>\n",
       "      <td>4961.131713</td>\n",
       "      <td>1496.953816</td>\n",
       "      <td>2864.497308</td>\n",
       "      <td>3920.570216</td>\n",
       "      <td>2102.135722</td>\n",
       "      <td>1686.539411</td>\n",
       "    </tr>\n",
       "    <tr>\n",
       "      <td>New Zealand</td>\n",
       "      <td>3348.725378</td>\n",
       "      <td>2668.807328</td>\n",
       "      <td>NaN</td>\n",
       "      <td>1671.641167</td>\n",
       "      <td>4218.188412</td>\n",
       "      <td>2767.607095</td>\n",
       "      <td>4239.314912</td>\n",
       "      <td>2062.548020</td>\n",
       "      <td>1400.483623</td>\n",
       "      <td>1445.147895</td>\n",
       "      <td>1613.916992</td>\n",
       "      <td>1510.219450</td>\n",
       "    </tr>\n",
       "    <tr>\n",
       "      <td>Vanuatu</td>\n",
       "      <td>1727.328621</td>\n",
       "      <td>2765.339382</td>\n",
       "      <td>1671.641167</td>\n",
       "      <td>NaN</td>\n",
       "      <td>2882.041892</td>\n",
       "      <td>1527.495923</td>\n",
       "      <td>2687.395771</td>\n",
       "      <td>1349.904435</td>\n",
       "      <td>335.602971</td>\n",
       "      <td>1687.810709</td>\n",
       "      <td>663.967196</td>\n",
       "      <td>1098.016273</td>\n",
       "    </tr>\n",
       "    <tr>\n",
       "      <td>Palau</td>\n",
       "      <td>2516.301728</td>\n",
       "      <td>5447.018761</td>\n",
       "      <td>4218.188412</td>\n",
       "      <td>2882.041892</td>\n",
       "      <td>NaN</td>\n",
       "      <td>1453.306058</td>\n",
       "      <td>800.243081</td>\n",
       "      <td>3956.305436</td>\n",
       "      <td>2974.892838</td>\n",
       "      <td>3099.023227</td>\n",
       "      <td>3468.037102</td>\n",
       "      <td>3931.843110</td>\n",
       "    </tr>\n",
       "    <tr>\n",
       "      <td>Papua New Guinea</td>\n",
       "      <td>2019.144119</td>\n",
       "      <td>4265.757856</td>\n",
       "      <td>2767.607095</td>\n",
       "      <td>1527.495923</td>\n",
       "      <td>1453.306058</td>\n",
       "      <td>NaN</td>\n",
       "      <td>1591.171595</td>\n",
       "      <td>2789.123270</td>\n",
       "      <td>1552.708901</td>\n",
       "      <td>1786.749660</td>\n",
       "      <td>2174.712829</td>\n",
       "      <td>2623.742354</td>\n",
       "    </tr>\n",
       "    <tr>\n",
       "      <td>Guam</td>\n",
       "      <td>1861.584428</td>\n",
       "      <td>4961.131713</td>\n",
       "      <td>4239.314912</td>\n",
       "      <td>2687.395771</td>\n",
       "      <td>800.243081</td>\n",
       "      <td>1591.171595</td>\n",
       "      <td>NaN</td>\n",
       "      <td>3520.883355</td>\n",
       "      <td>2871.868601</td>\n",
       "      <td>3377.103870</td>\n",
       "      <td>3165.570014</td>\n",
       "      <td>3617.512808</td>\n",
       "    </tr>\n",
       "    <tr>\n",
       "      <td>Samoa</td>\n",
       "      <td>1849.150692</td>\n",
       "      <td>1496.953816</td>\n",
       "      <td>2062.548020</td>\n",
       "      <td>1349.904435</td>\n",
       "      <td>3956.305436</td>\n",
       "      <td>2789.123270</td>\n",
       "      <td>3520.883355</td>\n",
       "      <td>NaN</td>\n",
       "      <td>1542.152644</td>\n",
       "      <td>2840.091065</td>\n",
       "      <td>716.316054</td>\n",
       "      <td>553.393188</td>\n",
       "    </tr>\n",
       "    <tr>\n",
       "      <td>New Caledonia</td>\n",
       "      <td>2054.905160</td>\n",
       "      <td>2864.497308</td>\n",
       "      <td>1400.483623</td>\n",
       "      <td>335.602971</td>\n",
       "      <td>2974.892838</td>\n",
       "      <td>1552.708901</td>\n",
       "      <td>2871.868601</td>\n",
       "      <td>1542.152644</td>\n",
       "      <td>NaN</td>\n",
       "      <td>1375.924712</td>\n",
       "      <td>825.890876</td>\n",
       "      <td>1179.069567</td>\n",
       "    </tr>\n",
       "    <tr>\n",
       "      <td>Australia</td>\n",
       "      <td>3263.901948</td>\n",
       "      <td>3920.570216</td>\n",
       "      <td>1445.147895</td>\n",
       "      <td>1687.810709</td>\n",
       "      <td>3099.023227</td>\n",
       "      <td>1786.749660</td>\n",
       "      <td>3377.103870</td>\n",
       "      <td>2840.091065</td>\n",
       "      <td>1375.924712</td>\n",
       "      <td>NaN</td>\n",
       "      <td>2145.768971</td>\n",
       "      <td>2362.766922</td>\n",
       "    </tr>\n",
       "    <tr>\n",
       "      <td>Fiji</td>\n",
       "      <td>1806.972599</td>\n",
       "      <td>2102.135722</td>\n",
       "      <td>1613.916992</td>\n",
       "      <td>663.967196</td>\n",
       "      <td>3468.037102</td>\n",
       "      <td>2174.712829</td>\n",
       "      <td>3165.570014</td>\n",
       "      <td>716.316054</td>\n",
       "      <td>825.890876</td>\n",
       "      <td>2145.768971</td>\n",
       "      <td>NaN</td>\n",
       "      <td>463.843872</td>\n",
       "    </tr>\n",
       "    <tr>\n",
       "      <td>Tonga</td>\n",
       "      <td>2151.129410</td>\n",
       "      <td>1686.539411</td>\n",
       "      <td>1510.219450</td>\n",
       "      <td>1098.016273</td>\n",
       "      <td>3931.843110</td>\n",
       "      <td>2623.742354</td>\n",
       "      <td>3617.512808</td>\n",
       "      <td>553.393188</td>\n",
       "      <td>1179.069567</td>\n",
       "      <td>2362.766922</td>\n",
       "      <td>463.843872</td>\n",
       "      <td>NaN</td>\n",
       "    </tr>\n",
       "  </tbody>\n",
       "</table>\n",
       "</div>"
      ],
      "text/plain": [
       "                  Marshall Islands  French Polynesia  New Zealand  \\\n",
       "Marshall Islands               NaN       3159.856137  3348.725378   \n",
       "French Polynesia       3159.856137               NaN  2668.807328   \n",
       "New Zealand            3348.725378       2668.807328          NaN   \n",
       "Vanuatu                1727.328621       2765.339382  1671.641167   \n",
       "Palau                  2516.301728       5447.018761  4218.188412   \n",
       "Papua New Guinea       2019.144119       4265.757856  2767.607095   \n",
       "Guam                   1861.584428       4961.131713  4239.314912   \n",
       "Samoa                  1849.150692       1496.953816  2062.548020   \n",
       "New Caledonia          2054.905160       2864.497308  1400.483623   \n",
       "Australia              3263.901948       3920.570216  1445.147895   \n",
       "Fiji                   1806.972599       2102.135722  1613.916992   \n",
       "Tonga                  2151.129410       1686.539411  1510.219450   \n",
       "\n",
       "                      Vanuatu        Palau  Papua New Guinea         Guam  \\\n",
       "Marshall Islands  1727.328621  2516.301728       2019.144119  1861.584428   \n",
       "French Polynesia  2765.339382  5447.018761       4265.757856  4961.131713   \n",
       "New Zealand       1671.641167  4218.188412       2767.607095  4239.314912   \n",
       "Vanuatu                   NaN  2882.041892       1527.495923  2687.395771   \n",
       "Palau             2882.041892          NaN       1453.306058   800.243081   \n",
       "Papua New Guinea  1527.495923  1453.306058               NaN  1591.171595   \n",
       "Guam              2687.395771   800.243081       1591.171595          NaN   \n",
       "Samoa             1349.904435  3956.305436       2789.123270  3520.883355   \n",
       "New Caledonia      335.602971  2974.892838       1552.708901  2871.868601   \n",
       "Australia         1687.810709  3099.023227       1786.749660  3377.103870   \n",
       "Fiji               663.967196  3468.037102       2174.712829  3165.570014   \n",
       "Tonga             1098.016273  3931.843110       2623.742354  3617.512808   \n",
       "\n",
       "                        Samoa  New Caledonia    Australia         Fiji  \\\n",
       "Marshall Islands  1849.150692    2054.905160  3263.901948  1806.972599   \n",
       "French Polynesia  1496.953816    2864.497308  3920.570216  2102.135722   \n",
       "New Zealand       2062.548020    1400.483623  1445.147895  1613.916992   \n",
       "Vanuatu           1349.904435     335.602971  1687.810709   663.967196   \n",
       "Palau             3956.305436    2974.892838  3099.023227  3468.037102   \n",
       "Papua New Guinea  2789.123270    1552.708901  1786.749660  2174.712829   \n",
       "Guam              3520.883355    2871.868601  3377.103870  3165.570014   \n",
       "Samoa                     NaN    1542.152644  2840.091065   716.316054   \n",
       "New Caledonia     1542.152644            NaN  1375.924712   825.890876   \n",
       "Australia         2840.091065    1375.924712          NaN  2145.768971   \n",
       "Fiji               716.316054     825.890876  2145.768971          NaN   \n",
       "Tonga              553.393188    1179.069567  2362.766922   463.843872   \n",
       "\n",
       "                        Tonga  \n",
       "Marshall Islands  2151.129410  \n",
       "French Polynesia  1686.539411  \n",
       "New Zealand       1510.219450  \n",
       "Vanuatu           1098.016273  \n",
       "Palau             3931.843110  \n",
       "Papua New Guinea  2623.742354  \n",
       "Guam              3617.512808  \n",
       "Samoa              553.393188  \n",
       "New Caledonia     1179.069567  \n",
       "Australia         2362.766922  \n",
       "Fiji               463.843872  \n",
       "Tonga                     NaN  "
      ]
     },
     "execution_count": 23,
     "metadata": {},
     "output_type": "execute_result"
    }
   ],
   "source": [
    "#q16\n",
    "Auscountry = countries[countries['continent'] == 'Australia']['country'].tolist()\n",
    "AusDict = dict()\n",
    "temp = list()\n",
    "lon1 = 0\n",
    "lat1 = 0\n",
    "lon2 = 0\n",
    "lat2 = 0\n",
    "for i in range(len(Auscountry)):\n",
    "    lon1 = 0\n",
    "    lat1 = 0\n",
    "    lon2 = 0\n",
    "    lat2 = 0\n",
    "    temp = list()\n",
    "    lon1 = capitals['longitude'][capitals[capitals['country'] == Auscountry[i]].index[0]]\n",
    "    lat1 = capitals['latitude'][capitals[capitals['country'] == Auscountry[i]].index[0]]\n",
    "    for j in range(len(Auscountry)):\n",
    "        lon2 = capitals['longitude'][capitals[capitals['country'] == Auscountry[j]].index[0]]\n",
    "        lat2 = capitals['latitude'][capitals[capitals['country'] == Auscountry[j]].index[0]]\n",
    "        if Auscountry[i] == Auscountry[j]:\n",
    "            temp.append(None)\n",
    "        else:\n",
    "            temp.append(haversine(lon1,lat1,lon2,lat2))\n",
    "    AusDict[Auscountry[i]] = temp\n",
    "\n",
    "AusDistance = DataFrame(AusDict\n",
    "    , Auscountry)\n",
    "AusDistance"
   ]
  },
  {
   "cell_type": "code",
   "execution_count": 24,
   "metadata": {},
   "outputs": [
    {
     "data": {
      "text/plain": [
       "'Vanuatu'"
      ]
     },
     "execution_count": 24,
     "metadata": {},
     "output_type": "execute_result"
    }
   ],
   "source": [
    "#q17\n",
    "mindict = dict()\n",
    "for i in range(len(Auscountry)):\n",
    "    average = AusDistance[Auscountry[i]].mean(axis = 0, skipna = True)\n",
    "    mindict[Auscountry[i]] = average\n",
    "minkey = None\n",
    "for key in mindict:\n",
    "    if minkey == None:\n",
    "        minkey = key\n",
    "    if mindict[minkey] > mindict[key]:\n",
    "        minkey = key\n",
    "minkey"
   ]
  },
  {
   "cell_type": "code",
   "execution_count": 25,
   "metadata": {},
   "outputs": [
    {
     "data": {
      "text/plain": [
       "'French Polynesia'"
      ]
     },
     "execution_count": 25,
     "metadata": {},
     "output_type": "execute_result"
    }
   ],
   "source": [
    "#q18\n",
    "maxkey = None\n",
    "for key in mindict:\n",
    "    if maxkey == None:\n",
    "        maxkey = key\n",
    "    if mindict[maxkey] < mindict[key]:\n",
    "        maxkey = key\n",
    "maxkey"
   ]
  },
  {
   "cell_type": "code",
   "execution_count": 26,
   "metadata": {
    "scrolled": true
   },
   "outputs": [
    {
     "data": {
      "text/html": [
       "<div>\n",
       "<style scoped>\n",
       "    .dataframe tbody tr th:only-of-type {\n",
       "        vertical-align: middle;\n",
       "    }\n",
       "\n",
       "    .dataframe tbody tr th {\n",
       "        vertical-align: top;\n",
       "    }\n",
       "\n",
       "    .dataframe thead th {\n",
       "        text-align: right;\n",
       "    }\n",
       "</style>\n",
       "<table border=\"1\" class=\"dataframe\">\n",
       "  <thead>\n",
       "    <tr style=\"text-align: right;\">\n",
       "      <th></th>\n",
       "      <th>nearest</th>\n",
       "      <th>distance</th>\n",
       "    </tr>\n",
       "  </thead>\n",
       "  <tbody>\n",
       "    <tr>\n",
       "      <td>Marshall Islands</td>\n",
       "      <td>Vanuatu</td>\n",
       "      <td>1727.328621</td>\n",
       "    </tr>\n",
       "    <tr>\n",
       "      <td>French Polynesia</td>\n",
       "      <td>Samoa</td>\n",
       "      <td>1496.953816</td>\n",
       "    </tr>\n",
       "    <tr>\n",
       "      <td>New Zealand</td>\n",
       "      <td>New Caledonia</td>\n",
       "      <td>1400.483623</td>\n",
       "    </tr>\n",
       "    <tr>\n",
       "      <td>Vanuatu</td>\n",
       "      <td>New Caledonia</td>\n",
       "      <td>335.602971</td>\n",
       "    </tr>\n",
       "    <tr>\n",
       "      <td>Palau</td>\n",
       "      <td>Guam</td>\n",
       "      <td>800.243081</td>\n",
       "    </tr>\n",
       "    <tr>\n",
       "      <td>Papua New Guinea</td>\n",
       "      <td>Palau</td>\n",
       "      <td>1453.306058</td>\n",
       "    </tr>\n",
       "    <tr>\n",
       "      <td>Guam</td>\n",
       "      <td>Palau</td>\n",
       "      <td>800.243081</td>\n",
       "    </tr>\n",
       "    <tr>\n",
       "      <td>Samoa</td>\n",
       "      <td>Tonga</td>\n",
       "      <td>553.393188</td>\n",
       "    </tr>\n",
       "    <tr>\n",
       "      <td>New Caledonia</td>\n",
       "      <td>Vanuatu</td>\n",
       "      <td>335.602971</td>\n",
       "    </tr>\n",
       "    <tr>\n",
       "      <td>Australia</td>\n",
       "      <td>New Caledonia</td>\n",
       "      <td>1375.924712</td>\n",
       "    </tr>\n",
       "    <tr>\n",
       "      <td>Fiji</td>\n",
       "      <td>Tonga</td>\n",
       "      <td>463.843872</td>\n",
       "    </tr>\n",
       "    <tr>\n",
       "      <td>Tonga</td>\n",
       "      <td>Fiji</td>\n",
       "      <td>463.843872</td>\n",
       "    </tr>\n",
       "  </tbody>\n",
       "</table>\n",
       "</div>"
      ],
      "text/plain": [
       "                        nearest     distance\n",
       "Marshall Islands        Vanuatu  1727.328621\n",
       "French Polynesia          Samoa  1496.953816\n",
       "New Zealand       New Caledonia  1400.483623\n",
       "Vanuatu           New Caledonia   335.602971\n",
       "Palau                      Guam   800.243081\n",
       "Papua New Guinea          Palau  1453.306058\n",
       "Guam                      Palau   800.243081\n",
       "Samoa                     Tonga   553.393188\n",
       "New Caledonia           Vanuatu   335.602971\n",
       "Australia         New Caledonia  1375.924712\n",
       "Fiji                      Tonga   463.843872\n",
       "Tonga                      Fiji   463.843872"
      ]
     },
     "execution_count": 26,
     "metadata": {},
     "output_type": "execute_result"
    }
   ],
   "source": [
    "#q19\n",
    "shortest = AusDistance.min(axis = 0, skipna = True).tolist()\n",
    "nearestcountry = AusDistance.idxmin(axis = 0, skipna = True).tolist()\n",
    "shortestdf = DataFrame({\n",
    "    \"nearest\": nearestcountry,\n",
    "    \"distance\": shortest\n",
    "}, Auscountry)\n",
    "shortestdf"
   ]
  },
  {
   "cell_type": "code",
   "execution_count": 27,
   "metadata": {},
   "outputs": [
    {
     "data": {
      "text/html": [
       "<div>\n",
       "<style scoped>\n",
       "    .dataframe tbody tr th:only-of-type {\n",
       "        vertical-align: middle;\n",
       "    }\n",
       "\n",
       "    .dataframe tbody tr th {\n",
       "        vertical-align: top;\n",
       "    }\n",
       "\n",
       "    .dataframe thead th {\n",
       "        text-align: right;\n",
       "    }\n",
       "</style>\n",
       "<table border=\"1\" class=\"dataframe\">\n",
       "  <thead>\n",
       "    <tr style=\"text-align: right;\">\n",
       "      <th></th>\n",
       "      <th>furthest</th>\n",
       "      <th>distance</th>\n",
       "    </tr>\n",
       "  </thead>\n",
       "  <tbody>\n",
       "    <tr>\n",
       "      <td>Marshall Islands</td>\n",
       "      <td>New Zealand</td>\n",
       "      <td>3348.725378</td>\n",
       "    </tr>\n",
       "    <tr>\n",
       "      <td>French Polynesia</td>\n",
       "      <td>Palau</td>\n",
       "      <td>5447.018761</td>\n",
       "    </tr>\n",
       "    <tr>\n",
       "      <td>New Zealand</td>\n",
       "      <td>Guam</td>\n",
       "      <td>4239.314912</td>\n",
       "    </tr>\n",
       "    <tr>\n",
       "      <td>Vanuatu</td>\n",
       "      <td>Palau</td>\n",
       "      <td>2882.041892</td>\n",
       "    </tr>\n",
       "    <tr>\n",
       "      <td>Palau</td>\n",
       "      <td>French Polynesia</td>\n",
       "      <td>5447.018761</td>\n",
       "    </tr>\n",
       "    <tr>\n",
       "      <td>Papua New Guinea</td>\n",
       "      <td>French Polynesia</td>\n",
       "      <td>4265.757856</td>\n",
       "    </tr>\n",
       "    <tr>\n",
       "      <td>Guam</td>\n",
       "      <td>French Polynesia</td>\n",
       "      <td>4961.131713</td>\n",
       "    </tr>\n",
       "    <tr>\n",
       "      <td>Samoa</td>\n",
       "      <td>Palau</td>\n",
       "      <td>3956.305436</td>\n",
       "    </tr>\n",
       "    <tr>\n",
       "      <td>New Caledonia</td>\n",
       "      <td>Palau</td>\n",
       "      <td>2974.892838</td>\n",
       "    </tr>\n",
       "    <tr>\n",
       "      <td>Australia</td>\n",
       "      <td>French Polynesia</td>\n",
       "      <td>3920.570216</td>\n",
       "    </tr>\n",
       "    <tr>\n",
       "      <td>Fiji</td>\n",
       "      <td>Palau</td>\n",
       "      <td>3468.037102</td>\n",
       "    </tr>\n",
       "    <tr>\n",
       "      <td>Tonga</td>\n",
       "      <td>Palau</td>\n",
       "      <td>3931.843110</td>\n",
       "    </tr>\n",
       "  </tbody>\n",
       "</table>\n",
       "</div>"
      ],
      "text/plain": [
       "                          furthest     distance\n",
       "Marshall Islands       New Zealand  3348.725378\n",
       "French Polynesia             Palau  5447.018761\n",
       "New Zealand                   Guam  4239.314912\n",
       "Vanuatu                      Palau  2882.041892\n",
       "Palau             French Polynesia  5447.018761\n",
       "Papua New Guinea  French Polynesia  4265.757856\n",
       "Guam              French Polynesia  4961.131713\n",
       "Samoa                        Palau  3956.305436\n",
       "New Caledonia                Palau  2974.892838\n",
       "Australia         French Polynesia  3920.570216\n",
       "Fiji                         Palau  3468.037102\n",
       "Tonga                        Palau  3931.843110"
      ]
     },
     "execution_count": 27,
     "metadata": {},
     "output_type": "execute_result"
    }
   ],
   "source": [
    "#q20\n",
    "furtherestcountry = AusDistance.idxmax(axis = 0, skipna = True).tolist()\n",
    "distance = AusDistance.max(axis = 0, skipna = True).tolist()\n",
    "longestdf = DataFrame({\n",
    "    \"furthest\": furtherestcountry,\n",
    "    \"distance\": distance\n",
    "}, Auscountry)\n",
    "longestdf"
   ]
  },
  {
   "cell_type": "code",
   "execution_count": 28,
   "metadata": {},
   "outputs": [],
   "source": [
    "import sqlite3\n",
    "conn = sqlite3.connect('countries.db')\n",
    "countries.to_sql(\"countries\", conn, if_exists=\"replace\", index=False)\n",
    "capitals.to_sql(\"capitals\", conn, if_exists=\"replace\", index=False)"
   ]
  },
  {
   "cell_type": "code",
   "execution_count": 29,
   "metadata": {},
   "outputs": [
    {
     "data": {
      "text/html": [
       "<div>\n",
       "<style scoped>\n",
       "    .dataframe tbody tr th:only-of-type {\n",
       "        vertical-align: middle;\n",
       "    }\n",
       "\n",
       "    .dataframe tbody tr th {\n",
       "        vertical-align: top;\n",
       "    }\n",
       "\n",
       "    .dataframe thead th {\n",
       "        text-align: right;\n",
       "    }\n",
       "</style>\n",
       "<table border=\"1\" class=\"dataframe\">\n",
       "  <thead>\n",
       "    <tr style=\"text-align: right;\">\n",
       "      <th></th>\n",
       "      <th>continent</th>\n",
       "      <th>number of countries</th>\n",
       "    </tr>\n",
       "  </thead>\n",
       "  <tbody>\n",
       "    <tr>\n",
       "      <td>0</td>\n",
       "      <td>Australia</td>\n",
       "      <td>12</td>\n",
       "    </tr>\n",
       "    <tr>\n",
       "      <td>1</td>\n",
       "      <td>South America</td>\n",
       "      <td>12</td>\n",
       "    </tr>\n",
       "    <tr>\n",
       "      <td>2</td>\n",
       "      <td>North America</td>\n",
       "      <td>24</td>\n",
       "    </tr>\n",
       "    <tr>\n",
       "      <td>3</td>\n",
       "      <td>Asia</td>\n",
       "      <td>38</td>\n",
       "    </tr>\n",
       "    <tr>\n",
       "      <td>4</td>\n",
       "      <td>Europe</td>\n",
       "      <td>41</td>\n",
       "    </tr>\n",
       "    <tr>\n",
       "      <td>5</td>\n",
       "      <td>Africa</td>\n",
       "      <td>47</td>\n",
       "    </tr>\n",
       "  </tbody>\n",
       "</table>\n",
       "</div>"
      ],
      "text/plain": [
       "       continent  number of countries\n",
       "0      Australia                   12\n",
       "1  South America                   12\n",
       "2  North America                   24\n",
       "3           Asia                   38\n",
       "4         Europe                   41\n",
       "5         Africa                   47"
      ]
     },
     "execution_count": 29,
     "metadata": {},
     "output_type": "execute_result"
    }
   ],
   "source": [
    "#q21\n",
    "sql = \"\"\"SELECT continent, COUNT(*) AS \"number of countries\"\n",
    "FROM countries\n",
    "GROUP BY continent\n",
    "ORDER BY \"number of countries\", \"continent\"\n",
    "\"\"\"\n",
    "df = pd.read_sql(sql, conn)\n",
    "df"
   ]
  },
  {
   "cell_type": "code",
   "execution_count": 30,
   "metadata": {
    "scrolled": true
   },
   "outputs": [
    {
     "data": {
      "text/plain": [
       "Text(0.5, 0, 'continent')"
      ]
     },
     "execution_count": 30,
     "metadata": {},
     "output_type": "execute_result"
    },
    {
     "data": {
      "image/png": "[encoded data removed]",
      "text/plain": [
       "<Figure size 576x432 with 1 Axes>"
      ]
     },
     "metadata": {
      "needs_background": "light"
     },
     "output_type": "display_data"
    }
   ],
   "source": [
    "#q22\n",
    "df.index = df['continent'].tolist()\n",
    "%matplotlib inline\n",
    "ax = df.plot.bar(figsize = (8, 6), color = '0', fontsize = 18, legend=False)\n",
    "ax.set_ylabel(\"number of countries\", fontsize = 18)\n",
    "ax.set_xlabel(\"continent\", fontsize = 18)"
   ]
  },
  {
   "cell_type": "code",
   "execution_count": 31,
   "metadata": {},
   "outputs": [
    {
     "data": {
      "text/html": [
       "<div>\n",
       "<style scoped>\n",
       "    .dataframe tbody tr th:only-of-type {\n",
       "        vertical-align: middle;\n",
       "    }\n",
       "\n",
       "    .dataframe tbody tr th {\n",
       "        vertical-align: top;\n",
       "    }\n",
       "\n",
       "    .dataframe thead th {\n",
       "        text-align: right;\n",
       "    }\n",
       "</style>\n",
       "<table border=\"1\" class=\"dataframe\">\n",
       "  <thead>\n",
       "    <tr style=\"text-align: right;\">\n",
       "      <th></th>\n",
       "      <th>continent</th>\n",
       "      <th>total population (million)</th>\n",
       "    </tr>\n",
       "  </thead>\n",
       "  <tbody>\n",
       "    <tr>\n",
       "      <td>0</td>\n",
       "      <td>Asia</td>\n",
       "      <td>3739.902863</td>\n",
       "    </tr>\n",
       "    <tr>\n",
       "      <td>1</td>\n",
       "      <td>Africa</td>\n",
       "      <td>807.299195</td>\n",
       "    </tr>\n",
       "    <tr>\n",
       "      <td>2</td>\n",
       "      <td>Europe</td>\n",
       "      <td>792.053486</td>\n",
       "    </tr>\n",
       "    <tr>\n",
       "      <td>3</td>\n",
       "      <td>North America</td>\n",
       "      <td>515.041558</td>\n",
       "    </tr>\n",
       "    <tr>\n",
       "      <td>4</td>\n",
       "      <td>South America</td>\n",
       "      <td>375.441666</td>\n",
       "    </tr>\n",
       "    <tr>\n",
       "      <td>5</td>\n",
       "      <td>Australia</td>\n",
       "      <td>32.163025</td>\n",
       "    </tr>\n",
       "  </tbody>\n",
       "</table>\n",
       "</div>"
      ],
      "text/plain": [
       "       continent  total population (million)\n",
       "0           Asia                 3739.902863\n",
       "1         Africa                  807.299195\n",
       "2         Europe                  792.053486\n",
       "3  North America                  515.041558\n",
       "4  South America                  375.441666\n",
       "5      Australia                   32.163025"
      ]
     },
     "execution_count": 31,
     "metadata": {},
     "output_type": "execute_result"
    }
   ],
   "source": [
    "#q23\n",
    "sql = \"\"\"SELECT continent, SUM(population) AS \"total population (million)\"\n",
    "FROM countries\n",
    "GROUP BY continent\n",
    "ORDER BY \"total population (million)\" DESC, \"continent\" \n",
    "\"\"\"\n",
    "popdf = pd.read_sql(sql, conn)\n",
    "popdf['total population (million)'] = popdf['total population (million)']/1000000\n",
    "popdf"
   ]
  },
  {
   "cell_type": "code",
   "execution_count": 32,
   "metadata": {
    "scrolled": true
   },
   "outputs": [
    {
     "data": {
      "text/plain": [
       "Text(0.5, 0, 'continent')"
      ]
     },
     "execution_count": 32,
     "metadata": {},
     "output_type": "execute_result"
    },
    {
     "data": {
      "image/png": "[encoded data removed]",
      "text/plain": [
       "<Figure size 576x432 with 1 Axes>"
      ]
     },
     "metadata": {
      "needs_background": "light"
     },
     "output_type": "display_data"
    }
   ],
   "source": [
    "#q24\n",
    "popdf.index = popdf['continent']\n",
    "ax = popdf.plot.bar(figsize = (8, 6), color = '0', fontsize = 18, legend=False)\n",
    "ax.set_ylabel('total population (million)', fontsize = 18)\n",
    "ax.set_xlabel(\"continent\", fontsize = 18)"
   ]
  },
  {
   "cell_type": "code",
   "execution_count": 33,
   "metadata": {},
   "outputs": [
    {
     "data": {
      "text/html": [
       "<div>\n",
       "<style scoped>\n",
       "    .dataframe tbody tr th:only-of-type {\n",
       "        vertical-align: middle;\n",
       "    }\n",
       "\n",
       "    .dataframe tbody tr th {\n",
       "        vertical-align: top;\n",
       "    }\n",
       "\n",
       "    .dataframe thead th {\n",
       "        text-align: right;\n",
       "    }\n",
       "</style>\n",
       "<table border=\"1\" class=\"dataframe\">\n",
       "  <thead>\n",
       "    <tr style=\"text-align: right;\">\n",
       "      <th></th>\n",
       "      <th>country</th>\n",
       "      <th>population</th>\n",
       "    </tr>\n",
       "  </thead>\n",
       "  <tbody>\n",
       "    <tr>\n",
       "      <td>0</td>\n",
       "      <td>Brazil</td>\n",
       "      <td>188078227</td>\n",
       "    </tr>\n",
       "    <tr>\n",
       "      <td>1</td>\n",
       "      <td>Colombia</td>\n",
       "      <td>43593035</td>\n",
       "    </tr>\n",
       "    <tr>\n",
       "      <td>2</td>\n",
       "      <td>Argentina</td>\n",
       "      <td>39921833</td>\n",
       "    </tr>\n",
       "    <tr>\n",
       "      <td>3</td>\n",
       "      <td>Peru</td>\n",
       "      <td>28302603</td>\n",
       "    </tr>\n",
       "    <tr>\n",
       "      <td>4</td>\n",
       "      <td>Venezuela</td>\n",
       "      <td>25730435</td>\n",
       "    </tr>\n",
       "    <tr>\n",
       "      <td>5</td>\n",
       "      <td>Chile</td>\n",
       "      <td>16134219</td>\n",
       "    </tr>\n",
       "    <tr>\n",
       "      <td>6</td>\n",
       "      <td>Ecuador</td>\n",
       "      <td>13547510</td>\n",
       "    </tr>\n",
       "    <tr>\n",
       "      <td>7</td>\n",
       "      <td>Bolivia</td>\n",
       "      <td>8989046</td>\n",
       "    </tr>\n",
       "    <tr>\n",
       "      <td>8</td>\n",
       "      <td>Paraguay</td>\n",
       "      <td>6506464</td>\n",
       "    </tr>\n",
       "    <tr>\n",
       "      <td>9</td>\n",
       "      <td>Uruguay</td>\n",
       "      <td>3431932</td>\n",
       "    </tr>\n",
       "    <tr>\n",
       "      <td>10</td>\n",
       "      <td>Guyana</td>\n",
       "      <td>767245</td>\n",
       "    </tr>\n",
       "    <tr>\n",
       "      <td>11</td>\n",
       "      <td>Suriname</td>\n",
       "      <td>439117</td>\n",
       "    </tr>\n",
       "  </tbody>\n",
       "</table>\n",
       "</div>"
      ],
      "text/plain": [
       "      country  population\n",
       "0      Brazil   188078227\n",
       "1    Colombia    43593035\n",
       "2   Argentina    39921833\n",
       "3        Peru    28302603\n",
       "4   Venezuela    25730435\n",
       "5       Chile    16134219\n",
       "6     Ecuador    13547510\n",
       "7     Bolivia     8989046\n",
       "8    Paraguay     6506464\n",
       "9     Uruguay     3431932\n",
       "10     Guyana      767245\n",
       "11   Suriname      439117"
      ]
     },
     "execution_count": 33,
     "metadata": {},
     "output_type": "execute_result"
    }
   ],
   "source": [
    "#q25\n",
    "sql = \"\"\"SELECT country, SUM(population) AS \"population\"\n",
    "FROM countries\n",
    "WHERE continent == 'South America'\n",
    "GROUP BY country\n",
    "ORDER BY \"population\" DESC, \"country\" \n",
    "\"\"\"\n",
    "southpopdf = pd.read_sql(sql, conn)\n",
    "southpopdf"
   ]
  },
  {
   "cell_type": "code",
   "execution_count": 34,
   "metadata": {},
   "outputs": [
    {
     "data": {
      "text/html": [
       "<div>\n",
       "<style scoped>\n",
       "    .dataframe tbody tr th:only-of-type {\n",
       "        vertical-align: middle;\n",
       "    }\n",
       "\n",
       "    .dataframe tbody tr th {\n",
       "        vertical-align: top;\n",
       "    }\n",
       "\n",
       "    .dataframe thead th {\n",
       "        text-align: right;\n",
       "    }\n",
       "</style>\n",
       "<table border=\"1\" class=\"dataframe\">\n",
       "  <thead>\n",
       "    <tr style=\"text-align: right;\">\n",
       "      <th></th>\n",
       "      <th>country</th>\n",
       "      <th>real GDP (billion)</th>\n",
       "    </tr>\n",
       "  </thead>\n",
       "  <tbody>\n",
       "    <tr>\n",
       "      <td>0</td>\n",
       "      <td>United States</td>\n",
       "      <td>11281.191327</td>\n",
       "    </tr>\n",
       "    <tr>\n",
       "      <td>1</td>\n",
       "      <td>China</td>\n",
       "      <td>6569.868565</td>\n",
       "    </tr>\n",
       "    <tr>\n",
       "      <td>2</td>\n",
       "      <td>Japan</td>\n",
       "      <td>3594.473830</td>\n",
       "    </tr>\n",
       "    <tr>\n",
       "      <td>3</td>\n",
       "      <td>India</td>\n",
       "      <td>3176.520785</td>\n",
       "    </tr>\n",
       "    <tr>\n",
       "      <td>4</td>\n",
       "      <td>Germany</td>\n",
       "      <td>2274.855452</td>\n",
       "    </tr>\n",
       "    <tr>\n",
       "      <td>5</td>\n",
       "      <td>France</td>\n",
       "      <td>1680.181354</td>\n",
       "    </tr>\n",
       "    <tr>\n",
       "      <td>6</td>\n",
       "      <td>United Kingdom</td>\n",
       "      <td>1678.873538</td>\n",
       "    </tr>\n",
       "    <tr>\n",
       "      <td>7</td>\n",
       "      <td>Italy</td>\n",
       "      <td>1552.164690</td>\n",
       "    </tr>\n",
       "    <tr>\n",
       "      <td>8</td>\n",
       "      <td>Brazil</td>\n",
       "      <td>1429.394525</td>\n",
       "    </tr>\n",
       "    <tr>\n",
       "      <td>9</td>\n",
       "      <td>Russia</td>\n",
       "      <td>1271.752506</td>\n",
       "    </tr>\n",
       "  </tbody>\n",
       "</table>\n",
       "</div>"
      ],
      "text/plain": [
       "          country  real GDP (billion)\n",
       "0   United States        11281.191327\n",
       "1           China         6569.868565\n",
       "2           Japan         3594.473830\n",
       "3           India         3176.520785\n",
       "4         Germany         2274.855452\n",
       "5          France         1680.181354\n",
       "6  United Kingdom         1678.873538\n",
       "7           Italy         1552.164690\n",
       "8          Brazil         1429.394525\n",
       "9          Russia         1271.752506"
      ]
     },
     "execution_count": 34,
     "metadata": {},
     "output_type": "execute_result"
    }
   ],
   "source": [
    "#q26\n",
    "sql = \"\"\"SELECT country, population * `gdp-per-capita` AS 'real GDP (billion)'\n",
    "FROM countries\n",
    "GROUP BY country\n",
    "ORDER BY \"real GDP (billion)\" DESC, \"country\"\n",
    "\"\"\"\n",
    "gdpdf = pd.read_sql(sql, conn)\n",
    "gdpdf[\"real GDP (billion)\"] = gdpdf[\"real GDP (billion)\"]/1000000000\n",
    "gdpdf.iloc[0:10]"
   ]
  },
  {
   "cell_type": "code",
   "execution_count": 35,
   "metadata": {},
   "outputs": [
    {
     "data": {
      "text/plain": [
       "Text(0.5, 0, 'country')"
      ]
     },
     "execution_count": 35,
     "metadata": {},
     "output_type": "execute_result"
    },
    {
     "data": {
      "image/png": "[encoded data removed]",
      "text/plain": [
       "<Figure size 576x432 with 1 Axes>"
      ]
     },
     "metadata": {
      "needs_background": "light"
     },
     "output_type": "display_data"
    }
   ],
   "source": [
    "#q27\n",
    "gdpdf2 = gdpdf.set_index('country')\n",
    "slicer = gdpdf2['real GDP (billion)'].iloc[:10]\n",
    "slicer['other'] = gdpdf[\"real GDP (billion)\"].iloc[10:].sum()\n",
    "ax = slicer.plot.bar(figsize = (8, 6), color = '0', fontsize = 18)\n",
    "ax.set_yticks([0, 5000, 10000, 15000])\n",
    "ax.set_ylabel('GDP (millions)', fontsize = 18)\n",
    "ax.set_xlabel(\"country\", fontsize = 18)"
   ]
  },
  {
   "cell_type": "code",
   "execution_count": 36,
   "metadata": {},
   "outputs": [
    {
     "data": {
      "text/html": [
       "<div>\n",
       "<style scoped>\n",
       "    .dataframe tbody tr th:only-of-type {\n",
       "        vertical-align: middle;\n",
       "    }\n",
       "\n",
       "    .dataframe tbody tr th {\n",
       "        vertical-align: top;\n",
       "    }\n",
       "\n",
       "    .dataframe thead th {\n",
       "        text-align: right;\n",
       "    }\n",
       "</style>\n",
       "<table border=\"1\" class=\"dataframe\">\n",
       "  <thead>\n",
       "    <tr style=\"text-align: right;\">\n",
       "      <th></th>\n",
       "      <th>country</th>\n",
       "      <th>birth-rate</th>\n",
       "      <th>death-rate</th>\n",
       "    </tr>\n",
       "  </thead>\n",
       "  <tbody>\n",
       "    <tr>\n",
       "      <td>0</td>\n",
       "      <td>Uganda</td>\n",
       "      <td>47.35</td>\n",
       "      <td>12.24</td>\n",
       "    </tr>\n",
       "    <tr>\n",
       "      <td>1</td>\n",
       "      <td>Yemen</td>\n",
       "      <td>42.89</td>\n",
       "      <td>8.30</td>\n",
       "    </tr>\n",
       "    <tr>\n",
       "      <td>2</td>\n",
       "      <td>Mali</td>\n",
       "      <td>49.82</td>\n",
       "      <td>16.89</td>\n",
       "    </tr>\n",
       "    <tr>\n",
       "      <td>3</td>\n",
       "      <td>Oman</td>\n",
       "      <td>36.24</td>\n",
       "      <td>3.81</td>\n",
       "    </tr>\n",
       "    <tr>\n",
       "      <td>4</td>\n",
       "      <td>Madagascar</td>\n",
       "      <td>41.41</td>\n",
       "      <td>11.11</td>\n",
       "    </tr>\n",
       "    <tr>\n",
       "      <td>5</td>\n",
       "      <td>Burkina Faso</td>\n",
       "      <td>45.62</td>\n",
       "      <td>15.60</td>\n",
       "    </tr>\n",
       "    <tr>\n",
       "      <td>6</td>\n",
       "      <td>Niger</td>\n",
       "      <td>50.73</td>\n",
       "      <td>20.91</td>\n",
       "    </tr>\n",
       "    <tr>\n",
       "      <td>7</td>\n",
       "      <td>Chad</td>\n",
       "      <td>45.73</td>\n",
       "      <td>16.38</td>\n",
       "    </tr>\n",
       "    <tr>\n",
       "      <td>8</td>\n",
       "      <td>Mauritania</td>\n",
       "      <td>40.99</td>\n",
       "      <td>12.16</td>\n",
       "    </tr>\n",
       "    <tr>\n",
       "      <td>9</td>\n",
       "      <td>Burundi</td>\n",
       "      <td>42.22</td>\n",
       "      <td>13.46</td>\n",
       "    </tr>\n",
       "    <tr>\n",
       "      <td>10</td>\n",
       "      <td>Comoros</td>\n",
       "      <td>36.93</td>\n",
       "      <td>8.20</td>\n",
       "    </tr>\n",
       "    <tr>\n",
       "      <td>11</td>\n",
       "      <td>Somalia</td>\n",
       "      <td>45.13</td>\n",
       "      <td>16.63</td>\n",
       "    </tr>\n",
       "    <tr>\n",
       "      <td>12</td>\n",
       "      <td>Marshall Islands</td>\n",
       "      <td>33.05</td>\n",
       "      <td>4.78</td>\n",
       "    </tr>\n",
       "    <tr>\n",
       "      <td>13</td>\n",
       "      <td>Maldives</td>\n",
       "      <td>34.81</td>\n",
       "      <td>7.06</td>\n",
       "    </tr>\n",
       "    <tr>\n",
       "      <td>14</td>\n",
       "      <td>Togo</td>\n",
       "      <td>37.01</td>\n",
       "      <td>9.83</td>\n",
       "    </tr>\n",
       "  </tbody>\n",
       "</table>\n",
       "</div>"
      ],
      "text/plain": [
       "             country  birth-rate  death-rate\n",
       "0             Uganda       47.35       12.24\n",
       "1              Yemen       42.89        8.30\n",
       "2               Mali       49.82       16.89\n",
       "3               Oman       36.24        3.81\n",
       "4         Madagascar       41.41       11.11\n",
       "5       Burkina Faso       45.62       15.60\n",
       "6              Niger       50.73       20.91\n",
       "7               Chad       45.73       16.38\n",
       "8         Mauritania       40.99       12.16\n",
       "9            Burundi       42.22       13.46\n",
       "10           Comoros       36.93        8.20\n",
       "11           Somalia       45.13       16.63\n",
       "12  Marshall Islands       33.05        4.78\n",
       "13          Maldives       34.81        7.06\n",
       "14              Togo       37.01        9.83"
      ]
     },
     "execution_count": 36,
     "metadata": {},
     "output_type": "execute_result"
    }
   ],
   "source": [
    "#q28\n",
    "sql = \"\"\"SELECT country, `birth-rate`, `death-rate`\n",
    "FROM countries\n",
    "GROUP BY country\n",
    "ORDER BY `birth-rate`- `death-rate` DESC, \"country\"\n",
    "\"\"\"\n",
    "ratedf = pd.read_sql(sql, conn)\n",
    "ratedf[0:15]"
   ]
  },
  {
   "cell_type": "code",
   "execution_count": 37,
   "metadata": {},
   "outputs": [
    {
     "data": {
      "text/plain": [
       "Text(0.5, 0, 'rate')"
      ]
     },
     "execution_count": 37,
     "metadata": {},
     "output_type": "execute_result"
    },
    {
     "data": {
      "image/png": "[encoded data removed]",
      "text/plain": [
       "<Figure size 576x432 with 1 Axes>"
      ]
     },
     "metadata": {
      "needs_background": "light"
     },
     "output_type": "display_data"
    }
   ],
   "source": [
    "#q29\n",
    "ratedf.index = ratedf['country'].tolist()\n",
    "receiver = ratedf['death-rate'].copy()\n",
    "ratedf['death-rate'] = ratedf['birth-rate'].copy()\n",
    "ratedf['birth-rate'] = receiver\n",
    "ax = ratedf[:15].plot.barh(figsize = (8, 6), color = ['tab:purple', 'tab:orange'], fontsize = 18)\n",
    "ax.set_xticks([0, 10, 20, 30, 40, 50, 60, 70, 80])\n",
    "ax.set_ylabel('country', fontsize = 18)\n",
    "ax.set_xlabel(\"rate\", fontsize = 18)"
   ]
  },
  {
   "cell_type": "code",
   "execution_count": 38,
   "metadata": {},
   "outputs": [
    {
     "data": {
      "text/plain": [
       "Text(0.5, 0, 'death-rate')"
      ]
     },
     "execution_count": 38,
     "metadata": {},
     "output_type": "execute_result"
    },
    {
     "data": {
      "image/png": "[encoded data removed]",
      "text/plain": [
       "<Figure size 432x288 with 1 Axes>"
      ]
     },
     "metadata": {
      "needs_background": "light"
     },
     "output_type": "display_data"
    }
   ],
   "source": [
    "#q30\n",
    "receiver = ratedf['death-rate'].copy()\n",
    "ratedf['death-rate'] = ratedf['birth-rate'].copy()\n",
    "ratedf['birth-rate'] = receiver\n",
    "ax = ratedf.plot.scatter(x = 'death-rate', y = 'birth-rate', c = 'black', fontsize = 18)\n",
    "ax.set_ylabel('birth-rate', fontsize = 18)\n",
    "ax.set_xlabel('death-rate', fontsize = 18)"
   ]
  },
  {
   "cell_type": "code",
   "execution_count": 39,
   "metadata": {},
   "outputs": [
    {
     "data": {
      "text/html": [
       "<div>\n",
       "<style scoped>\n",
       "    .dataframe tbody tr th:only-of-type {\n",
       "        vertical-align: middle;\n",
       "    }\n",
       "\n",
       "    .dataframe tbody tr th {\n",
       "        vertical-align: top;\n",
       "    }\n",
       "\n",
       "    .dataframe thead th {\n",
       "        text-align: right;\n",
       "    }\n",
       "</style>\n",
       "<table border=\"1\" class=\"dataframe\">\n",
       "  <thead>\n",
       "    <tr style=\"text-align: right;\">\n",
       "      <th></th>\n",
       "      <th>country</th>\n",
       "      <th>death-rate</th>\n",
       "      <th>birth-rate</th>\n",
       "    </tr>\n",
       "  </thead>\n",
       "  <tbody>\n",
       "    <tr>\n",
       "      <td>0</td>\n",
       "      <td>Namibia</td>\n",
       "      <td>18.86</td>\n",
       "      <td>24.32</td>\n",
       "    </tr>\n",
       "    <tr>\n",
       "      <td>1</td>\n",
       "      <td>Zimbabwe</td>\n",
       "      <td>21.84</td>\n",
       "      <td>28.01</td>\n",
       "    </tr>\n",
       "    <tr>\n",
       "      <td>2</td>\n",
       "      <td>South Africa</td>\n",
       "      <td>22.00</td>\n",
       "      <td>18.20</td>\n",
       "    </tr>\n",
       "    <tr>\n",
       "      <td>3</td>\n",
       "      <td>Lesotho</td>\n",
       "      <td>28.71</td>\n",
       "      <td>24.75</td>\n",
       "    </tr>\n",
       "    <tr>\n",
       "      <td>4</td>\n",
       "      <td>Botswana</td>\n",
       "      <td>29.50</td>\n",
       "      <td>23.08</td>\n",
       "    </tr>\n",
       "    <tr>\n",
       "      <td>5</td>\n",
       "      <td>Swaziland</td>\n",
       "      <td>29.74</td>\n",
       "      <td>27.41</td>\n",
       "    </tr>\n",
       "  </tbody>\n",
       "</table>\n",
       "</div>"
      ],
      "text/plain": [
       "        country  death-rate  birth-rate\n",
       "0       Namibia       18.86       24.32\n",
       "1      Zimbabwe       21.84       28.01\n",
       "2  South Africa       22.00       18.20\n",
       "3       Lesotho       28.71       24.75\n",
       "4      Botswana       29.50       23.08\n",
       "5     Swaziland       29.74       27.41"
      ]
     },
     "execution_count": 39,
     "metadata": {},
     "output_type": "execute_result"
    }
   ],
   "source": [
    "#q31\n",
    "sql = \"\"\"SELECT country, `death-rate`, `birth-rate`\n",
    "FROM countries\n",
    "WHERE `birth-rate` < 30 AND `death-rate` > 17\n",
    "GROUP BY country\n",
    "ORDER BY `death-rate` , \"country\"\n",
    "\"\"\"\n",
    "sixdf = pd.read_sql(sql, conn)\n",
    "sixdf"
   ]
  },
  {
   "cell_type": "code",
   "execution_count": 40,
   "metadata": {},
   "outputs": [
    {
     "data": {
      "text/plain": [
       "0.39650861177525115"
      ]
     },
     "execution_count": 40,
     "metadata": {},
     "output_type": "execute_result"
    }
   ],
   "source": [
    "#q32\n",
    "ratedf.corr()['death-rate'].loc['birth-rate']"
   ]
  },
  {
   "cell_type": "code",
   "execution_count": 41,
   "metadata": {},
   "outputs": [
    {
     "data": {
      "text/plain": [
       "Text(0.5, 0, 'gdp-per-capita')"
      ]
     },
     "execution_count": 41,
     "metadata": {},
     "output_type": "execute_result"
    },
    {
     "data": {
      "image/png": "[encoded data removed]",
      "text/plain": [
       "<Figure size 432x288 with 1 Axes>"
      ]
     },
     "metadata": {
      "needs_background": "light"
     },
     "output_type": "display_data"
    }
   ],
   "source": [
    "#q33\n",
    "sql = \"\"\"SELECT `gdp-per-capita`, `phones`\n",
    "FROM countries\n",
    "\"\"\"\n",
    "phonesgdpdf = pd.read_sql(sql, conn)\n",
    "ax = phonesgdpdf.plot.scatter(x = 'gdp-per-capita', y = 'phones', c = 'black', fontsize = 14)\n",
    "ax.set_ylabel('phones', fontsize = 18)\n",
    "ax.set_xlabel('gdp-per-capita', fontsize = 18)"
   ]
  },
  {
   "cell_type": "code",
   "execution_count": 42,
   "metadata": {},
   "outputs": [
    {
     "data": {
      "text/plain": [
       "0.8786946640591311"
      ]
     },
     "execution_count": 42,
     "metadata": {},
     "output_type": "execute_result"
    }
   ],
   "source": [
    "#q34\n",
    "phonesgdpdf.corr()['phones'].loc['gdp-per-capita']"
   ]
  },
  {
   "cell_type": "code",
   "execution_count": 43,
   "metadata": {},
   "outputs": [
    {
     "data": {
      "text/plain": [
       "Text(0.5, 0, 'literacy')"
      ]
     },
     "execution_count": 43,
     "metadata": {},
     "output_type": "execute_result"
    },
    {
     "data": {
      "image/png": "[encoded data removed]",
      "text/plain": [
       "<Figure size 432x288 with 1 Axes>"
      ]
     },
     "metadata": {
      "needs_background": "light"
     },
     "output_type": "display_data"
    }
   ],
   "source": [
    "#q35\n",
    "sql = \"\"\"SELECT `gdp-per-capita`, `literacy`\n",
    "FROM countries\n",
    "\"\"\"\n",
    "phonesgdpdf = pd.read_sql(sql, conn)\n",
    "ax = phonesgdpdf.plot.scatter(x = 'literacy', y = 'gdp-per-capita', c = 'black', fontsize = 14)\n",
    "ax.set_ylabel('gdp-per-capita', fontsize = 18)\n",
    "ax.set_xlabel('literacy', fontsize = 18)"
   ]
  },
  {
   "cell_type": "code",
   "execution_count": 44,
   "metadata": {},
   "outputs": [
    {
     "data": {
      "text/plain": [
       "Text(0.5, 0, 'gdp-per-capita')"
      ]
     },
     "execution_count": 44,
     "metadata": {},
     "output_type": "execute_result"
    },
    {
     "data": {
      "image/png": "[encoded data removed]",
      "text/plain": [
       "<Figure size 432x288 with 1 Axes>"
      ]
     },
     "metadata": {
      "needs_background": "light"
     },
     "output_type": "display_data"
    }
   ],
   "source": [
    "#q36\n",
    "sql = \"\"\"SELECT `gdp-per-capita`, `death-rate`\n",
    "FROM countries\n",
    "\"\"\"\n",
    "phonesgdpdf = pd.read_sql(sql, conn)\n",
    "ax = phonesgdpdf.plot.scatter(x = 'gdp-per-capita', y = 'death-rate', c = 'black', fontsize = 14)\n",
    "ax.set_ylabel('death-rate', fontsize = 18)\n",
    "ax.set_xlabel('gdp-per-capita', fontsize = 18)"
   ]
  },
  {
   "cell_type": "code",
   "execution_count": 45,
   "metadata": {},
   "outputs": [
    {
     "data": {
      "text/plain": [
       "Text(0.5, 0, 'gdp-per-capita')"
      ]
     },
     "execution_count": 45,
     "metadata": {},
     "output_type": "execute_result"
    },
    {
     "data": {
      "image/png": "[encoded data removed]",
      "text/plain": [
       "<Figure size 432x288 with 1 Axes>"
      ]
     },
     "metadata": {
      "needs_background": "light"
     },
     "output_type": "display_data"
    }
   ],
   "source": [
    "#q37\n",
    "sql = \"\"\"SELECT `gdp-per-capita`, `birth-rate`\n",
    "FROM countries\n",
    "\"\"\"\n",
    "phonesgdpdf = pd.read_sql(sql, conn)\n",
    "ax = phonesgdpdf.plot.scatter(x = 'gdp-per-capita', y = 'birth-rate', c = 'black', fontsize = 14)\n",
    "ax.set_ylabel('birth-rate', fontsize = 18)\n",
    "ax.set_xlabel('gdp-per-capita', fontsize = 18)"
   ]
  },
  {
   "cell_type": "code",
   "execution_count": 46,
   "metadata": {},
   "outputs": [
    {
     "data": {
      "text/plain": [
       "Text(0.5, 0, 'gdp-per-capita')"
      ]
     },
     "execution_count": 46,
     "metadata": {},
     "output_type": "execute_result"
    },
    {
     "data": {
      "image/png": "[encoded data removed]",
      "text/plain": [
       "<Figure size 432x288 with 1 Axes>"
      ]
     },
     "metadata": {
      "needs_background": "light"
     },
     "output_type": "display_data"
    }
   ],
   "source": [
    "#q38\n",
    "sql = \"\"\"SELECT `gdp-per-capita`, 1/`birth-rate` AS 'inverse'\n",
    "FROM countries\n",
    "\"\"\"\n",
    "phonesgdpdf = pd.read_sql(sql, conn)\n",
    "ax = phonesgdpdf.plot.scatter(x = 'gdp-per-capita', y = 'inverse', c = 'black', fontsize = 14)\n",
    "ax.set_ylabel('inverse', fontsize = 18)\n",
    "ax.set_xlabel('gdp-per-capita', fontsize = 18)"
   ]
  },
  {
   "cell_type": "code",
   "execution_count": 47,
   "metadata": {},
   "outputs": [],
   "source": [
    "import numpy as np\n",
    "phonesgdpdf[\"1\"] = 1\n",
    "res = np.linalg.lstsq(phonesgdpdf[[\"gdp-per-capita\", '1']], phonesgdpdf[\"inverse\"], rcond=None)\n",
    "\n",
    "# res is a tuple: (COEFFICIENTS, VALUE, VALUE, VALUE)\n",
    "coefficients = res[0] # coefficients is (m,n:\n",
    "m = coefficients[0] # slope\n",
    "n = coefficients[1] # intercept"
   ]
  },
  {
   "cell_type": "code",
   "execution_count": 48,
   "metadata": {},
   "outputs": [
    {
     "data": {
      "text/plain": [
       "(1.836570392623344e-06, 0.03916624252079352)"
      ]
     },
     "execution_count": 48,
     "metadata": {},
     "output_type": "execute_result"
    }
   ],
   "source": [
    "#q39\n",
    "(m,n)"
   ]
  },
  {
   "cell_type": "code",
   "execution_count": 49,
   "metadata": {},
   "outputs": [
    {
     "data": {
      "text/plain": [
       "<matplotlib.axes._subplots.AxesSubplot at 0x1372bfb0>"
      ]
     },
     "execution_count": 49,
     "metadata": {},
     "output_type": "execute_result"
    },
    {
     "data": {
      "image/png": "[encoded data removed]",
      "text/plain": [
       "<Figure size 432x288 with 1 Axes>"
      ]
     },
     "metadata": {
      "needs_background": "light"
     },
     "output_type": "display_data"
    }
   ],
   "source": [
    "#q40\n",
    "ax = phonesgdpdf.plot.scatter(x=\"gdp-per-capita\", y='inverse', fontsize = 16, c = 'grey', legend = False)\n",
    "ax.set_ylabel('inverse', fontsize = 18)\n",
    "ax.set_xlabel('gdp-per-capita', fontsize = 18)\n",
    "phonesgdpdf[\"fit\"] = phonesgdpdf[\"gdp-per-capita\"] * m + n\n",
    "phonesgdpdf.plot.line(x='gdp-per-capita', y='fit', c='red', ax=ax)"
   ]
  }
 ],
 "metadata": {
  "kernelspec": {
   "display_name": "Python 3",
   "language": "python",
   "name": "python3"
  },
  "language_info": {
   "codemirror_mode": {
    "name": "ipython",
    "version": 3
   },
   "file_extension": ".py",
   "mimetype": "text/x-python",
   "name": "python",
   "nbconvert_exporter": "python",
   "pygments_lexer": "ipython3",
   "version": "3.7.4"
  }
 },
 "nbformat": 4,
 "nbformat_minor": 2
}
