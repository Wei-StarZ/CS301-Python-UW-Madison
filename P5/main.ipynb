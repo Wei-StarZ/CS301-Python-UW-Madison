{
 "cells": [
  {
   "cell_type": "code",
   "execution_count": 1,
   "metadata": {},
   "outputs": [],
   "source": [
    "                                                                                                                                                                                                 \n",
    "# Before you get started, please tell us who you are, putting your\n",
    "# Net ID and your partner's Net ID below (or none if your working solo)                                                                                                                                      \n",
    "#\n",
    "# project: p5\n",
    "# submitter: wxia9\n",
    "# partner: none\n",
    "import project\n",
    "def translation(name):\n",
    "    lastChar = name[-1].lower()\n",
    "    num = float(name [:-1])\n",
    "    if (lastChar == \"m\") :\n",
    "        num = num * 1000000\n",
    "    elif (lastChar == \"k\") :\n",
    "        num = num * 1000\n",
    "    else:\n",
    "        num = num * 1000000000\n",
    "    return int(num)"
   ]
  },
  {
   "cell_type": "code",
   "execution_count": 2,
   "metadata": {},
   "outputs": [],
   "source": [
    "def get_year(name):\n",
    "    year = name[-4:]\n",
    "    return int (year)"
   ]
  },
  {
   "cell_type": "code",
   "execution_count": 3,
   "metadata": {},
   "outputs": [],
   "source": [
    "# return index of deadliest hurricane over the given date range\n",
    "def deadliest_in_range(year1, year2):\n",
    "    worst_idx = 0\n",
    "    for i in range(int(project.count())):\n",
    "        if get_year(project.get_formed(i)) <= year2 and get_year(project.get_formed(i)) >= year1:  # TODO: check if year is in range\n",
    "            if project.get_deaths(worst_idx) < project.get_deaths(i):  # TODO: it is worse than previous?\n",
    "                worst_idx = i;\n",
    "    return worst_idx"
   ]
  },
  {
   "cell_type": "code",
   "execution_count": 4,
   "metadata": {},
   "outputs": [],
   "source": [
    "def get_month(name):\n",
    "    first = name.find(\"/\")\n",
    "    month = name[:first]\n",
    "    return int (month)"
   ]
  },
  {
   "cell_type": "code",
   "execution_count": 5,
   "metadata": {},
   "outputs": [],
   "source": [
    "# return number of huricanes formed in month mm\n",
    "def hurricanes_in_month(mm):\n",
    "    num_of_hurricanes = 0\n",
    "    for i in range(int(project.count())):\n",
    "        if(get_month(project.get_formed(i)) == mm):\n",
    "            num_of_hurricanes += 1\n",
    "    return num_of_hurricanes"
   ]
  },
  {
   "cell_type": "code",
   "execution_count": 6,
   "metadata": {},
   "outputs": [
    {
     "data": {
      "text/plain": [
       "132"
      ]
     },
     "execution_count": 6,
     "metadata": {},
     "output_type": "execute_result"
    }
   ],
   "source": [
    "#q1\n",
    "project.count()"
   ]
  },
  {
   "cell_type": "code",
   "execution_count": 7,
   "metadata": {},
   "outputs": [
    {
     "data": {
      "text/plain": [
       "'Carol'"
      ]
     },
     "execution_count": 7,
     "metadata": {},
     "output_type": "execute_result"
    }
   ],
   "source": [
    "#q2\n",
    "project.get_name(10)"
   ]
  },
  {
   "cell_type": "code",
   "execution_count": 8,
   "metadata": {},
   "outputs": [
    {
     "data": {
      "text/plain": [
       "1"
      ]
     },
     "execution_count": 8,
     "metadata": {},
     "output_type": "execute_result"
    }
   ],
   "source": [
    "#q3\n",
    "project.get_deaths(project.count() - 1)"
   ]
  },
  {
   "cell_type": "code",
   "execution_count": 9,
   "metadata": {},
   "outputs": [
    {
     "data": {
      "text/plain": [
       "True"
      ]
     },
     "execution_count": 9,
     "metadata": {},
     "output_type": "execute_result"
    }
   ],
   "source": [
    "#q4\n",
    "receiver = \"\"\n",
    "flag = False\n",
    "for i in range(int(project.count())):\n",
    "    receiver = project.get_name(i).lower()\n",
    "    if (receiver == \"bob\"):\n",
    "        flag = True\n",
    "        break\n",
    "flag"
   ]
  },
  {
   "cell_type": "code",
   "execution_count": 10,
   "metadata": {},
   "outputs": [
    {
     "data": {
      "text/plain": [
       "3"
      ]
     },
     "execution_count": 10,
     "metadata": {},
     "output_type": "execute_result"
    }
   ],
   "source": [
    "#q5\n",
    "goal = \"Florence\".lower()\n",
    "count = 0;\n",
    "for i in range(int (project.count())):\n",
    "    if(project.get_name(i).lower() == goal):\n",
    "        count += 1\n",
    "count"
   ]
  },
  {
   "cell_type": "code",
   "execution_count": 11,
   "metadata": {},
   "outputs": [
    {
     "data": {
      "text/plain": [
       "190"
      ]
     },
     "execution_count": 11,
     "metadata": {},
     "output_type": "execute_result"
    }
   ],
   "source": [
    "#q6\n",
    "MPH = 0;\n",
    "for i in range(int(project.count())):\n",
    "    if(project.get_mph(i) > MPH):\n",
    "        MPH =project.get_mph(i);\n",
    "MPH"
   ]
  },
  {
   "cell_type": "code",
   "execution_count": 12,
   "metadata": {},
   "outputs": [
    {
     "data": {
      "text/plain": [
       "'Allen'"
      ]
     },
     "execution_count": 12,
     "metadata": {},
     "output_type": "execute_result"
    }
   ],
   "source": [
    "#q7\n",
    "MPH = 0;\n",
    "name = \"\"\n",
    "for i in range(int(project.count())):\n",
    "    if(project.get_mph(i) > MPH):\n",
    "        MPH =project.get_mph(i);\n",
    "        name = project.get_name(i)\n",
    "name"
   ]
  },
  {
   "cell_type": "code",
   "execution_count": 13,
   "metadata": {},
   "outputs": [
    {
     "data": {
      "text/plain": [
       "13500000"
      ]
     },
     "execution_count": 13,
     "metadata": {},
     "output_type": "execute_result"
    }
   ],
   "source": [
    "#q8\n",
    "name = \"Dolphin\".lower()\n",
    "total = 0\n",
    "for i in range(int(project.count())):\n",
    "    if(project.get_name(i).lower() == name):\n",
    "        total = total + translation(project.get_damage(i))\n",
    "total"
   ]
  },
  {
   "cell_type": "code",
   "execution_count": 14,
   "metadata": {},
   "outputs": [
    {
     "data": {
      "text/plain": [
       "18959"
      ]
     },
     "execution_count": 14,
     "metadata": {},
     "output_type": "execute_result"
    }
   ],
   "source": [
    "#q9\n",
    "count = 0;\n",
    "for i in range(int(project.count())):\n",
    "    count += project.get_deaths(i)\n",
    "count"
   ]
  },
  {
   "cell_type": "code",
   "execution_count": 15,
   "metadata": {},
   "outputs": [
    {
     "data": {
      "text/plain": [
       "'Maria'"
      ]
     },
     "execution_count": 15,
     "metadata": {},
     "output_type": "execute_result"
    }
   ],
   "source": [
    "#q10\n",
    "idx = deadliest_in_range(2010,2019)\n",
    "project.get_name(idx)"
   ]
  },
  {
   "cell_type": "code",
   "execution_count": 16,
   "metadata": {},
   "outputs": [
    {
     "data": {
      "text/plain": [
       "'Inez'"
      ]
     },
     "execution_count": 16,
     "metadata": {},
     "output_type": "execute_result"
    }
   ],
   "source": [
    "#q11\n",
    "idx = deadliest_in_range(1901,2000)\n",
    "project.get_name(idx)"
   ]
  },
  {
   "cell_type": "code",
   "execution_count": 17,
   "metadata": {},
   "outputs": [
    {
     "data": {
      "text/plain": [
       "1899"
      ]
     },
     "execution_count": 17,
     "metadata": {},
     "output_type": "execute_result"
    }
   ],
   "source": [
    "#q12\n",
    "death = 0;\n",
    "for i in range(int(project.count())):\n",
    "    if (project.get_deaths(i) > project.get_deaths(death)):\n",
    "        death = i\n",
    "get_year(project.get_formed(death))"
   ]
  },
  {
   "cell_type": "code",
   "execution_count": 18,
   "metadata": {},
   "outputs": [
    {
     "data": {
      "text/plain": [
       "226500000"
      ]
     },
     "execution_count": 18,
     "metadata": {},
     "output_type": "execute_result"
    }
   ],
   "source": [
    "#q13\n",
    "idx = deadliest_in_range(1901,2000)\n",
    "translation(project.get_damage(idx))"
   ]
  },
  {
   "cell_type": "code",
   "execution_count": 19,
   "metadata": {},
   "outputs": [
    {
     "data": {
      "text/plain": [
       "864230464997"
      ]
     },
     "execution_count": 19,
     "metadata": {},
     "output_type": "execute_result"
    }
   ],
   "source": [
    "#q14\n",
    "damage = 0;\n",
    "for i in range(int(project.count())):\n",
    "    damage += translation(project.get_damage(i))\n",
    "damage"
   ]
  },
  {
   "cell_type": "code",
   "execution_count": 20,
   "metadata": {},
   "outputs": [
    {
     "data": {
      "text/plain": [
       "17"
      ]
     },
     "execution_count": 20,
     "metadata": {},
     "output_type": "execute_result"
    }
   ],
   "source": [
    "#q15\n",
    "hurricanes_in_month(7)"
   ]
  },
  {
   "cell_type": "code",
   "execution_count": 21,
   "metadata": {},
   "outputs": [
    {
     "data": {
      "text/plain": [
       "3"
      ]
     },
     "execution_count": 21,
     "metadata": {},
     "output_type": "execute_result"
    }
   ],
   "source": [
    "#q16\n",
    "hurricanes_in_month(12)"
   ]
  },
  {
   "cell_type": "code",
   "execution_count": 22,
   "metadata": {},
   "outputs": [
    {
     "data": {
      "text/plain": [
       "3"
      ]
     },
     "execution_count": 22,
     "metadata": {},
     "output_type": "execute_result"
    }
   ],
   "source": [
    "#q17\n",
    "hurricanes_in_month(1)"
   ]
  },
  {
   "cell_type": "code",
   "execution_count": 23,
   "metadata": {},
   "outputs": [
    {
     "data": {
      "text/plain": [
       "2"
      ]
     },
     "execution_count": 23,
     "metadata": {},
     "output_type": "execute_result"
    }
   ],
   "source": [
    "#q18\n",
    "hurricanes_in_month(5)"
   ]
  },
  {
   "cell_type": "code",
   "execution_count": 24,
   "metadata": {},
   "outputs": [
    {
     "data": {
      "text/plain": [
       "9"
      ]
     },
     "execution_count": 24,
     "metadata": {},
     "output_type": "execute_result"
    }
   ],
   "source": [
    "#q19\n",
    "index = 0;\n",
    "for i in range(13):\n",
    "    if(hurricanes_in_month(i) > hurricanes_in_month(index)):\n",
    "        index = i\n",
    "index"
   ]
  },
  {
   "cell_type": "code",
   "execution_count": 25,
   "metadata": {},
   "outputs": [
    {
     "data": {
      "text/plain": [
       "10"
      ]
     },
     "execution_count": 25,
     "metadata": {},
     "output_type": "execute_result"
    }
   ],
   "source": [
    "#q20\n",
    "count = 0\n",
    "minIndex = 0\n",
    "maxIndex = 0\n",
    "count4 = 0\n",
    "for i in range(int(project.count())):\n",
    "    if (get_year(project.get_formed(i)) > get_year(project.get_formed(maxIndex))):\n",
    "        maxIndex = i\n",
    "    if (get_year(project.get_formed(i)) < get_year(project.get_formed(minIndex))):       \n",
    "        minIndex = i\n",
    "maxYear = get_year(project.get_formed(maxIndex))\n",
    "minYear = get_year(project.get_formed(minIndex))\n",
    "for j in range(minYear -3, maxYear + 3):\n",
    "        count4 = 0\n",
    "        for t in range(int(project.count())):\n",
    "            if(get_year(project.get_formed(t)) == j):\n",
    "                count4 += 1\n",
    "        if(count4 > 3):\n",
    "            count += 1\n",
    "        \n",
    "count"
   ]
  }
 ],
 "metadata": {
  "kernelspec": {
   "display_name": "Python 3",
   "language": "python",
   "name": "python3"
  },
  "language_info": {
   "codemirror_mode": {
    "name": "ipython",
    "version": 3
   },
   "file_extension": ".py",
   "mimetype": "text/x-python",
   "name": "python",
   "nbconvert_exporter": "python",
   "pygments_lexer": "ipython3",
   "version": "3.7.4"
  }
 },
 "nbformat": 4,
 "nbformat_minor": 2
}
